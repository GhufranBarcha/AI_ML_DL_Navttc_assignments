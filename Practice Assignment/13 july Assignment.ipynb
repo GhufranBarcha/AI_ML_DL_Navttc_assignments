{
 "cells": [
  {
   "cell_type": "markdown",
   "id": "3fb955e2",
   "metadata": {},
   "source": [
    "    Predict the Stroke in the given data set and apply all available kernels in SVC model\n",
    "    1- prepare the data set according to need (numeric)\n",
    "    2- let us know the which kernel is best for such application"
   ]
  },
  {
   "cell_type": "code",
   "execution_count": 1,
   "id": "0066eb53",
   "metadata": {},
   "outputs": [],
   "source": [
    "import pandas as pd\n",
    "import numpy as np\n",
    "from sklearn.model_selection import train_test_split ,GridSearchCV\n",
    "from sklearn.svm import SVC\n",
    "from sklearn.preprocessing import StandardScaler, OneHotEncoder\n",
    "from sklearn.compose import ColumnTransformer\n",
    "from sklearn.metrics import f1_score\n",
    "from sklearn.pipeline import Pipeline\n",
    "from imblearn.over_sampling import RandomOverSampler\n",
    "from imblearn.under_sampling import RandomUnderSampler\n"
   ]
  },
  {
   "cell_type": "code",
   "execution_count": 12,
   "id": "eab6c4a0",
   "metadata": {
    "scrolled": true
   },
   "outputs": [
    {
     "data": {
      "text/html": [
       "<div>\n",
       "<style scoped>\n",
       "    .dataframe tbody tr th:only-of-type {\n",
       "        vertical-align: middle;\n",
       "    }\n",
       "\n",
       "    .dataframe tbody tr th {\n",
       "        vertical-align: top;\n",
       "    }\n",
       "\n",
       "    .dataframe thead th {\n",
       "        text-align: right;\n",
       "    }\n",
       "</style>\n",
       "<table border=\"1\" class=\"dataframe\">\n",
       "  <thead>\n",
       "    <tr style=\"text-align: right;\">\n",
       "      <th></th>\n",
       "      <th>gender</th>\n",
       "      <th>age</th>\n",
       "      <th>hypertension</th>\n",
       "      <th>heart_disease</th>\n",
       "      <th>ever_married</th>\n",
       "      <th>work_type</th>\n",
       "      <th>Residence_type</th>\n",
       "      <th>avg_glucose_level</th>\n",
       "      <th>bmi</th>\n",
       "      <th>smoking_status</th>\n",
       "      <th>stroke</th>\n",
       "    </tr>\n",
       "  </thead>\n",
       "  <tbody>\n",
       "    <tr>\n",
       "      <th>0</th>\n",
       "      <td>Male</td>\n",
       "      <td>67.0</td>\n",
       "      <td>0</td>\n",
       "      <td>1</td>\n",
       "      <td>Yes</td>\n",
       "      <td>Private</td>\n",
       "      <td>Urban</td>\n",
       "      <td>228.69</td>\n",
       "      <td>36.6</td>\n",
       "      <td>formerly smoked</td>\n",
       "      <td>1</td>\n",
       "    </tr>\n",
       "    <tr>\n",
       "      <th>1</th>\n",
       "      <td>Female</td>\n",
       "      <td>61.0</td>\n",
       "      <td>0</td>\n",
       "      <td>0</td>\n",
       "      <td>Yes</td>\n",
       "      <td>Self-employed</td>\n",
       "      <td>Rural</td>\n",
       "      <td>202.21</td>\n",
       "      <td>NaN</td>\n",
       "      <td>never smoked</td>\n",
       "      <td>1</td>\n",
       "    </tr>\n",
       "    <tr>\n",
       "      <th>2</th>\n",
       "      <td>Male</td>\n",
       "      <td>80.0</td>\n",
       "      <td>0</td>\n",
       "      <td>1</td>\n",
       "      <td>Yes</td>\n",
       "      <td>Private</td>\n",
       "      <td>Rural</td>\n",
       "      <td>105.92</td>\n",
       "      <td>32.5</td>\n",
       "      <td>never smoked</td>\n",
       "      <td>1</td>\n",
       "    </tr>\n",
       "    <tr>\n",
       "      <th>3</th>\n",
       "      <td>Female</td>\n",
       "      <td>49.0</td>\n",
       "      <td>0</td>\n",
       "      <td>0</td>\n",
       "      <td>Yes</td>\n",
       "      <td>Private</td>\n",
       "      <td>Urban</td>\n",
       "      <td>171.23</td>\n",
       "      <td>34.4</td>\n",
       "      <td>smokes</td>\n",
       "      <td>1</td>\n",
       "    </tr>\n",
       "    <tr>\n",
       "      <th>4</th>\n",
       "      <td>Female</td>\n",
       "      <td>79.0</td>\n",
       "      <td>1</td>\n",
       "      <td>0</td>\n",
       "      <td>Yes</td>\n",
       "      <td>Self-employed</td>\n",
       "      <td>Rural</td>\n",
       "      <td>174.12</td>\n",
       "      <td>24.0</td>\n",
       "      <td>never smoked</td>\n",
       "      <td>1</td>\n",
       "    </tr>\n",
       "  </tbody>\n",
       "</table>\n",
       "</div>"
      ],
      "text/plain": [
       "   gender   age  hypertension  heart_disease ever_married      work_type  \\\n",
       "0    Male  67.0             0              1          Yes        Private   \n",
       "1  Female  61.0             0              0          Yes  Self-employed   \n",
       "2    Male  80.0             0              1          Yes        Private   \n",
       "3  Female  49.0             0              0          Yes        Private   \n",
       "4  Female  79.0             1              0          Yes  Self-employed   \n",
       "\n",
       "  Residence_type  avg_glucose_level   bmi   smoking_status  stroke  \n",
       "0          Urban             228.69  36.6  formerly smoked       1  \n",
       "1          Rural             202.21   NaN     never smoked       1  \n",
       "2          Rural             105.92  32.5     never smoked       1  \n",
       "3          Urban             171.23  34.4           smokes       1  \n",
       "4          Rural             174.12  24.0     never smoked       1  "
      ]
     },
     "execution_count": 12,
     "metadata": {},
     "output_type": "execute_result"
    }
   ],
   "source": [
    "data = pd.read_csv(\"../DataSets/healthcare-dataset-stroke-data.csv\")\n",
    "data.drop(\"id\",axis=1,inplace=True)\n",
    "data.head()"
   ]
  },
  {
   "cell_type": "code",
   "execution_count": 3,
   "id": "2cf8dcf4",
   "metadata": {},
   "outputs": [],
   "source": [
    "## check for missing values to Clean and preprocess data"
   ]
  },
  {
   "cell_type": "code",
   "execution_count": 13,
   "id": "dae87a8e",
   "metadata": {},
   "outputs": [
    {
     "name": "stdout",
     "output_type": "stream",
     "text": [
      "Duplicated Values 0\n"
     ]
    }
   ],
   "source": [
    "print(\"Duplicated Values\",data.duplicated().sum())\n",
    "data.fillna(data[\"bmi\"].mean(),inplace = True)"
   ]
  },
  {
   "cell_type": "code",
   "execution_count": 14,
   "id": "1ee4af9c",
   "metadata": {},
   "outputs": [
    {
     "data": {
      "text/plain": [
       "gender               0\n",
       "age                  0\n",
       "hypertension         0\n",
       "heart_disease        0\n",
       "ever_married         0\n",
       "work_type            0\n",
       "Residence_type       0\n",
       "avg_glucose_level    0\n",
       "bmi                  0\n",
       "smoking_status       0\n",
       "stroke               0\n",
       "dtype: int64"
      ]
     },
     "execution_count": 14,
     "metadata": {},
     "output_type": "execute_result"
    }
   ],
   "source": [
    "df = data.dropna()\n",
    "#now check for duplicates\n",
    "df.isna().sum()"
   ]
  },
  {
   "cell_type": "code",
   "execution_count": 15,
   "id": "fd8bec18",
   "metadata": {},
   "outputs": [
    {
     "data": {
      "text/plain": [
       "0    4861\n",
       "1     249\n",
       "Name: stroke, dtype: int64"
      ]
     },
     "execution_count": 15,
     "metadata": {},
     "output_type": "execute_result"
    }
   ],
   "source": [
    "df[\"stroke\"].value_counts()"
   ]
  },
  {
   "cell_type": "code",
   "execution_count": 16,
   "id": "7cd78a15",
   "metadata": {},
   "outputs": [
    {
     "data": {
      "text/html": [
       "<div>\n",
       "<style scoped>\n",
       "    .dataframe tbody tr th:only-of-type {\n",
       "        vertical-align: middle;\n",
       "    }\n",
       "\n",
       "    .dataframe tbody tr th {\n",
       "        vertical-align: top;\n",
       "    }\n",
       "\n",
       "    .dataframe thead th {\n",
       "        text-align: right;\n",
       "    }\n",
       "</style>\n",
       "<table border=\"1\" class=\"dataframe\">\n",
       "  <thead>\n",
       "    <tr style=\"text-align: right;\">\n",
       "      <th></th>\n",
       "      <th>gender</th>\n",
       "      <th>age</th>\n",
       "      <th>hypertension</th>\n",
       "      <th>heart_disease</th>\n",
       "      <th>ever_married</th>\n",
       "      <th>work_type</th>\n",
       "      <th>Residence_type</th>\n",
       "      <th>avg_glucose_level</th>\n",
       "      <th>bmi</th>\n",
       "      <th>smoking_status</th>\n",
       "      <th>stroke</th>\n",
       "    </tr>\n",
       "  </thead>\n",
       "  <tbody>\n",
       "    <tr>\n",
       "      <th>0</th>\n",
       "      <td>Male</td>\n",
       "      <td>67.0</td>\n",
       "      <td>0</td>\n",
       "      <td>1</td>\n",
       "      <td>Yes</td>\n",
       "      <td>Private</td>\n",
       "      <td>Urban</td>\n",
       "      <td>228.69</td>\n",
       "      <td>36.6</td>\n",
       "      <td>formerly smoked</td>\n",
       "      <td>1</td>\n",
       "    </tr>\n",
       "  </tbody>\n",
       "</table>\n",
       "</div>"
      ],
      "text/plain": [
       "  gender   age  hypertension  heart_disease ever_married work_type  \\\n",
       "0   Male  67.0             0              1          Yes   Private   \n",
       "\n",
       "  Residence_type  avg_glucose_level   bmi   smoking_status  stroke  \n",
       "0          Urban             228.69  36.6  formerly smoked       1  "
      ]
     },
     "execution_count": 16,
     "metadata": {},
     "output_type": "execute_result"
    }
   ],
   "source": [
    "data.head(1)"
   ]
  },
  {
   "cell_type": "code",
   "execution_count": 17,
   "id": "758f5d4c",
   "metadata": {},
   "outputs": [
    {
     "name": "stdout",
     "output_type": "stream",
     "text": [
      "Accuracy: 0.8457583547557841\n",
      "F1 Score: 0.85781990521327\n"
     ]
    }
   ],
   "source": [
    "# Separate features and target\n",
    "X = df.drop(\"stroke\", axis=1)\n",
    "Y = df[\"stroke\"]\n",
    "\n",
    "category = [\"gender\", \"ever_married\", \"work_type\", \"Residence_type\", \"smoking_status\"]\n",
    "numerical = [\"age\", \"avg_glucose_level\", \"bmi\"]\n",
    "\n",
    "categ_trans = Pipeline(steps=[(\"encoder\", OneHotEncoder(handle_unknown='ignore'))])\n",
    "numeri_trans = Pipeline(steps=[(\"scaling\", StandardScaler())])\n",
    "\n",
    "preprocessor = ColumnTransformer([\n",
    "    (\"numerical\", numeri_trans, numerical),\n",
    "    (\"category\", categ_trans, category)\n",
    "], remainder=\"passthrough\")\n",
    "\n",
    "# Apply oversampling to handle imbalanced data\n",
    "oversampler = RandomOverSampler(random_state=42)\n",
    "X_resampled, Y_resampled = oversampler.fit_resample(X, Y)\n",
    "\n",
    "pipeline = Pipeline(steps=[\n",
    "    (\"preprocessor\", preprocessor),\n",
    "    (\"estimator\", SVC())\n",
    "])\n",
    "\n",
    "x_train, x_test, y_train, y_test = train_test_split(X_resampled, Y_resampled, test_size=0.2, random_state=42)\n",
    "pipeline.fit(x_train, y_train)\n",
    "\n",
    "# Check accuracy and F1 score\n",
    "print(\"Accuracy:\", pipeline.score(x_test, y_test))\n",
    "y_preds = pipeline.predict(x_test)\n",
    "print(\"F1 Score:\", f1_score(y_test, y_preds))\n",
    "\n",
    "\n"
   ]
  },
  {
   "cell_type": "code",
   "execution_count": 50,
   "id": "e98d4629",
   "metadata": {},
   "outputs": [
    {
     "name": "stdout",
     "output_type": "stream",
     "text": [
      "Fitting 5 folds for each of 16 candidates, totalling 80 fits\n",
      "[CV] END estimator__C=1, estimator__gamma=scale, estimator__kernel=rbf; total time=   2.0s\n",
      "[CV] END estimator__C=1, estimator__gamma=scale, estimator__kernel=rbf; total time=   2.0s\n",
      "[CV] END estimator__C=1, estimator__gamma=scale, estimator__kernel=rbf; total time=   1.8s\n",
      "[CV] END estimator__C=1, estimator__gamma=scale, estimator__kernel=rbf; total time=   1.9s\n",
      "[CV] END estimator__C=1, estimator__gamma=scale, estimator__kernel=rbf; total time=   1.8s\n",
      "[CV] END estimator__C=1, estimator__gamma=scale, estimator__kernel=linear; total time=   1.7s\n",
      "[CV] END estimator__C=1, estimator__gamma=scale, estimator__kernel=linear; total time=   1.6s\n",
      "[CV] END estimator__C=1, estimator__gamma=scale, estimator__kernel=linear; total time=   1.6s\n",
      "[CV] END estimator__C=1, estimator__gamma=scale, estimator__kernel=linear; total time=   1.8s\n",
      "[CV] END estimator__C=1, estimator__gamma=scale, estimator__kernel=linear; total time=   1.6s\n",
      "[CV] END estimator__C=1, estimator__gamma=scale, estimator__kernel=poly; total time=   1.3s\n",
      "[CV] END estimator__C=1, estimator__gamma=scale, estimator__kernel=poly; total time=   1.2s\n",
      "[CV] END estimator__C=1, estimator__gamma=scale, estimator__kernel=poly; total time=   1.2s\n",
      "[CV] END estimator__C=1, estimator__gamma=scale, estimator__kernel=poly; total time=   1.2s\n",
      "[CV] END estimator__C=1, estimator__gamma=scale, estimator__kernel=poly; total time=   1.1s\n",
      "[CV] END estimator__C=1, estimator__gamma=scale, estimator__kernel=sigmoid; total time=   1.4s\n",
      "[CV] END estimator__C=1, estimator__gamma=scale, estimator__kernel=sigmoid; total time=   1.4s\n",
      "[CV] END estimator__C=1, estimator__gamma=scale, estimator__kernel=sigmoid; total time=   1.3s\n",
      "[CV] END estimator__C=1, estimator__gamma=scale, estimator__kernel=sigmoid; total time=   1.1s\n",
      "[CV] END estimator__C=1, estimator__gamma=scale, estimator__kernel=sigmoid; total time=   1.0s\n",
      "[CV] END estimator__C=1, estimator__gamma=auto, estimator__kernel=rbf; total time=   1.8s\n",
      "[CV] END estimator__C=1, estimator__gamma=auto, estimator__kernel=rbf; total time=   1.7s\n",
      "[CV] END estimator__C=1, estimator__gamma=auto, estimator__kernel=rbf; total time=   1.8s\n",
      "[CV] END estimator__C=1, estimator__gamma=auto, estimator__kernel=rbf; total time=   1.9s\n",
      "[CV] END estimator__C=1, estimator__gamma=auto, estimator__kernel=rbf; total time=   2.2s\n",
      "[CV] END estimator__C=1, estimator__gamma=auto, estimator__kernel=linear; total time=   2.0s\n",
      "[CV] END estimator__C=1, estimator__gamma=auto, estimator__kernel=linear; total time=   1.8s\n",
      "[CV] END estimator__C=1, estimator__gamma=auto, estimator__kernel=linear; total time=   1.8s\n",
      "[CV] END estimator__C=1, estimator__gamma=auto, estimator__kernel=linear; total time=   1.9s\n",
      "[CV] END estimator__C=1, estimator__gamma=auto, estimator__kernel=linear; total time=   1.8s\n",
      "[CV] END estimator__C=1, estimator__gamma=auto, estimator__kernel=poly; total time=   1.4s\n",
      "[CV] END estimator__C=1, estimator__gamma=auto, estimator__kernel=poly; total time=   1.4s\n",
      "[CV] END estimator__C=1, estimator__gamma=auto, estimator__kernel=poly; total time=   1.5s\n",
      "[CV] END estimator__C=1, estimator__gamma=auto, estimator__kernel=poly; total time=   1.5s\n",
      "[CV] END estimator__C=1, estimator__gamma=auto, estimator__kernel=poly; total time=   1.5s\n",
      "[CV] END estimator__C=1, estimator__gamma=auto, estimator__kernel=sigmoid; total time=   1.5s\n",
      "[CV] END estimator__C=1, estimator__gamma=auto, estimator__kernel=sigmoid; total time=   1.6s\n",
      "[CV] END estimator__C=1, estimator__gamma=auto, estimator__kernel=sigmoid; total time=   1.9s\n",
      "[CV] END estimator__C=1, estimator__gamma=auto, estimator__kernel=sigmoid; total time=   1.5s\n",
      "[CV] END estimator__C=1, estimator__gamma=auto, estimator__kernel=sigmoid; total time=   1.5s\n",
      "[CV] END estimator__C=10, estimator__gamma=scale, estimator__kernel=rbf; total time=   1.7s\n",
      "[CV] END estimator__C=10, estimator__gamma=scale, estimator__kernel=rbf; total time=   1.7s\n",
      "[CV] END estimator__C=10, estimator__gamma=scale, estimator__kernel=rbf; total time=   1.8s\n",
      "[CV] END estimator__C=10, estimator__gamma=scale, estimator__kernel=rbf; total time=   1.7s\n",
      "[CV] END estimator__C=10, estimator__gamma=scale, estimator__kernel=rbf; total time=   1.6s\n",
      "[CV] END estimator__C=10, estimator__gamma=scale, estimator__kernel=linear; total time=   4.5s\n",
      "[CV] END estimator__C=10, estimator__gamma=scale, estimator__kernel=linear; total time=   4.6s\n",
      "[CV] END estimator__C=10, estimator__gamma=scale, estimator__kernel=linear; total time=   8.2s\n",
      "[CV] END estimator__C=10, estimator__gamma=scale, estimator__kernel=linear; total time=   5.1s\n",
      "[CV] END estimator__C=10, estimator__gamma=scale, estimator__kernel=linear; total time=   4.8s\n",
      "[CV] END estimator__C=10, estimator__gamma=scale, estimator__kernel=poly; total time=   3.0s\n",
      "[CV] END estimator__C=10, estimator__gamma=scale, estimator__kernel=poly; total time=   3.7s\n",
      "[CV] END estimator__C=10, estimator__gamma=scale, estimator__kernel=poly; total time=   2.7s\n",
      "[CV] END estimator__C=10, estimator__gamma=scale, estimator__kernel=poly; total time=   3.0s\n",
      "[CV] END estimator__C=10, estimator__gamma=scale, estimator__kernel=poly; total time=   3.3s\n",
      "[CV] END estimator__C=10, estimator__gamma=scale, estimator__kernel=sigmoid; total time=   1.1s\n",
      "[CV] END estimator__C=10, estimator__gamma=scale, estimator__kernel=sigmoid; total time=   1.3s\n",
      "[CV] END estimator__C=10, estimator__gamma=scale, estimator__kernel=sigmoid; total time=   1.6s\n",
      "[CV] END estimator__C=10, estimator__gamma=scale, estimator__kernel=sigmoid; total time=   1.3s\n",
      "[CV] END estimator__C=10, estimator__gamma=scale, estimator__kernel=sigmoid; total time=   1.0s\n",
      "[CV] END estimator__C=10, estimator__gamma=auto, estimator__kernel=rbf; total time=   2.3s\n",
      "[CV] END estimator__C=10, estimator__gamma=auto, estimator__kernel=rbf; total time=   2.1s\n",
      "[CV] END estimator__C=10, estimator__gamma=auto, estimator__kernel=rbf; total time=   2.2s\n",
      "[CV] END estimator__C=10, estimator__gamma=auto, estimator__kernel=rbf; total time=   2.3s\n",
      "[CV] END estimator__C=10, estimator__gamma=auto, estimator__kernel=rbf; total time=   2.1s\n",
      "[CV] END estimator__C=10, estimator__gamma=auto, estimator__kernel=linear; total time=   5.5s\n",
      "[CV] END estimator__C=10, estimator__gamma=auto, estimator__kernel=linear; total time=   4.3s\n",
      "[CV] END estimator__C=10, estimator__gamma=auto, estimator__kernel=linear; total time=   5.7s\n",
      "[CV] END estimator__C=10, estimator__gamma=auto, estimator__kernel=linear; total time=   4.3s\n",
      "[CV] END estimator__C=10, estimator__gamma=auto, estimator__kernel=linear; total time=   4.0s\n",
      "[CV] END estimator__C=10, estimator__gamma=auto, estimator__kernel=poly; total time=   1.1s\n",
      "[CV] END estimator__C=10, estimator__gamma=auto, estimator__kernel=poly; total time=   1.0s\n",
      "[CV] END estimator__C=10, estimator__gamma=auto, estimator__kernel=poly; total time=   1.0s\n",
      "[CV] END estimator__C=10, estimator__gamma=auto, estimator__kernel=poly; total time=   1.3s\n",
      "[CV] END estimator__C=10, estimator__gamma=auto, estimator__kernel=poly; total time=   1.0s\n",
      "[CV] END estimator__C=10, estimator__gamma=auto, estimator__kernel=sigmoid; total time=   1.1s\n",
      "[CV] END estimator__C=10, estimator__gamma=auto, estimator__kernel=sigmoid; total time=   1.4s\n",
      "[CV] END estimator__C=10, estimator__gamma=auto, estimator__kernel=sigmoid; total time=   1.5s\n",
      "[CV] END estimator__C=10, estimator__gamma=auto, estimator__kernel=sigmoid; total time=   1.0s\n",
      "[CV] END estimator__C=10, estimator__gamma=auto, estimator__kernel=sigmoid; total time=   0.9s\n"
     ]
    },
    {
     "data": {
      "text/html": [
       "<style>#sk-container-id-2 {color: black;}#sk-container-id-2 pre{padding: 0;}#sk-container-id-2 div.sk-toggleable {background-color: white;}#sk-container-id-2 label.sk-toggleable__label {cursor: pointer;display: block;width: 100%;margin-bottom: 0;padding: 0.3em;box-sizing: border-box;text-align: center;}#sk-container-id-2 label.sk-toggleable__label-arrow:before {content: \"▸\";float: left;margin-right: 0.25em;color: #696969;}#sk-container-id-2 label.sk-toggleable__label-arrow:hover:before {color: black;}#sk-container-id-2 div.sk-estimator:hover label.sk-toggleable__label-arrow:before {color: black;}#sk-container-id-2 div.sk-toggleable__content {max-height: 0;max-width: 0;overflow: hidden;text-align: left;background-color: #f0f8ff;}#sk-container-id-2 div.sk-toggleable__content pre {margin: 0.2em;color: black;border-radius: 0.25em;background-color: #f0f8ff;}#sk-container-id-2 input.sk-toggleable__control:checked~div.sk-toggleable__content {max-height: 200px;max-width: 100%;overflow: auto;}#sk-container-id-2 input.sk-toggleable__control:checked~label.sk-toggleable__label-arrow:before {content: \"▾\";}#sk-container-id-2 div.sk-estimator input.sk-toggleable__control:checked~label.sk-toggleable__label {background-color: #d4ebff;}#sk-container-id-2 div.sk-label input.sk-toggleable__control:checked~label.sk-toggleable__label {background-color: #d4ebff;}#sk-container-id-2 input.sk-hidden--visually {border: 0;clip: rect(1px 1px 1px 1px);clip: rect(1px, 1px, 1px, 1px);height: 1px;margin: -1px;overflow: hidden;padding: 0;position: absolute;width: 1px;}#sk-container-id-2 div.sk-estimator {font-family: monospace;background-color: #f0f8ff;border: 1px dotted black;border-radius: 0.25em;box-sizing: border-box;margin-bottom: 0.5em;}#sk-container-id-2 div.sk-estimator:hover {background-color: #d4ebff;}#sk-container-id-2 div.sk-parallel-item::after {content: \"\";width: 100%;border-bottom: 1px solid gray;flex-grow: 1;}#sk-container-id-2 div.sk-label:hover label.sk-toggleable__label {background-color: #d4ebff;}#sk-container-id-2 div.sk-serial::before {content: \"\";position: absolute;border-left: 1px solid gray;box-sizing: border-box;top: 0;bottom: 0;left: 50%;z-index: 0;}#sk-container-id-2 div.sk-serial {display: flex;flex-direction: column;align-items: center;background-color: white;padding-right: 0.2em;padding-left: 0.2em;position: relative;}#sk-container-id-2 div.sk-item {position: relative;z-index: 1;}#sk-container-id-2 div.sk-parallel {display: flex;align-items: stretch;justify-content: center;background-color: white;position: relative;}#sk-container-id-2 div.sk-item::before, #sk-container-id-2 div.sk-parallel-item::before {content: \"\";position: absolute;border-left: 1px solid gray;box-sizing: border-box;top: 0;bottom: 0;left: 50%;z-index: -1;}#sk-container-id-2 div.sk-parallel-item {display: flex;flex-direction: column;z-index: 1;position: relative;background-color: white;}#sk-container-id-2 div.sk-parallel-item:first-child::after {align-self: flex-end;width: 50%;}#sk-container-id-2 div.sk-parallel-item:last-child::after {align-self: flex-start;width: 50%;}#sk-container-id-2 div.sk-parallel-item:only-child::after {width: 0;}#sk-container-id-2 div.sk-dashed-wrapped {border: 1px dashed gray;margin: 0 0.4em 0.5em 0.4em;box-sizing: border-box;padding-bottom: 0.4em;background-color: white;}#sk-container-id-2 div.sk-label label {font-family: monospace;font-weight: bold;display: inline-block;line-height: 1.2em;}#sk-container-id-2 div.sk-label-container {text-align: center;}#sk-container-id-2 div.sk-container {/* jupyter's `normalize.less` sets `[hidden] { display: none; }` but bootstrap.min.css set `[hidden] { display: none !important; }` so we also need the `!important` here to be able to override the default hidden behavior on the sphinx rendered scikit-learn.org. See: https://github.com/scikit-learn/scikit-learn/issues/21755 */display: inline-block !important;position: relative;}#sk-container-id-2 div.sk-text-repr-fallback {display: none;}</style><div id=\"sk-container-id-2\" class=\"sk-top-container\"><div class=\"sk-text-repr-fallback\"><pre>GridSearchCV(cv=5,\n",
       "             estimator=Pipeline(steps=[(&#x27;preprocessor&#x27;,\n",
       "                                        ColumnTransformer(remainder=&#x27;passthrough&#x27;,\n",
       "                                                          transformers=[(&#x27;numerical&#x27;,\n",
       "                                                                         Pipeline(steps=[(&#x27;scaling&#x27;,\n",
       "                                                                                          StandardScaler())]),\n",
       "                                                                         [&#x27;age&#x27;,\n",
       "                                                                          &#x27;avg_glucose_level&#x27;,\n",
       "                                                                          &#x27;bmi&#x27;]),\n",
       "                                                                        (&#x27;category&#x27;,\n",
       "                                                                         Pipeline(steps=[(&#x27;encoder&#x27;,\n",
       "                                                                                          OneHotEncoder(handle_unknown=&#x27;ignore&#x27;))]),\n",
       "                                                                         [&#x27;gender&#x27;,\n",
       "                                                                          &#x27;ever_married&#x27;,\n",
       "                                                                          &#x27;work_type&#x27;,\n",
       "                                                                          &#x27;Residence_type&#x27;,\n",
       "                                                                          &#x27;smoking_status&#x27;])])),\n",
       "                                       (&#x27;estimator&#x27;, SVC())]),\n",
       "             param_grid={&#x27;estimator__C&#x27;: [1, 10],\n",
       "                         &#x27;estimator__gamma&#x27;: [&#x27;scale&#x27;, &#x27;auto&#x27;],\n",
       "                         &#x27;estimator__kernel&#x27;: [&#x27;rbf&#x27;, &#x27;linear&#x27;, &#x27;poly&#x27;,\n",
       "                                               &#x27;sigmoid&#x27;]},\n",
       "             verbose=2)</pre><b>In a Jupyter environment, please rerun this cell to show the HTML representation or trust the notebook. <br />On GitHub, the HTML representation is unable to render, please try loading this page with nbviewer.org.</b></div><div class=\"sk-container\" hidden><div class=\"sk-item sk-dashed-wrapped\"><div class=\"sk-label-container\"><div class=\"sk-label sk-toggleable\"><input class=\"sk-toggleable__control sk-hidden--visually\" id=\"sk-estimator-id-10\" type=\"checkbox\" ><label for=\"sk-estimator-id-10\" class=\"sk-toggleable__label sk-toggleable__label-arrow\">GridSearchCV</label><div class=\"sk-toggleable__content\"><pre>GridSearchCV(cv=5,\n",
       "             estimator=Pipeline(steps=[(&#x27;preprocessor&#x27;,\n",
       "                                        ColumnTransformer(remainder=&#x27;passthrough&#x27;,\n",
       "                                                          transformers=[(&#x27;numerical&#x27;,\n",
       "                                                                         Pipeline(steps=[(&#x27;scaling&#x27;,\n",
       "                                                                                          StandardScaler())]),\n",
       "                                                                         [&#x27;age&#x27;,\n",
       "                                                                          &#x27;avg_glucose_level&#x27;,\n",
       "                                                                          &#x27;bmi&#x27;]),\n",
       "                                                                        (&#x27;category&#x27;,\n",
       "                                                                         Pipeline(steps=[(&#x27;encoder&#x27;,\n",
       "                                                                                          OneHotEncoder(handle_unknown=&#x27;ignore&#x27;))]),\n",
       "                                                                         [&#x27;gender&#x27;,\n",
       "                                                                          &#x27;ever_married&#x27;,\n",
       "                                                                          &#x27;work_type&#x27;,\n",
       "                                                                          &#x27;Residence_type&#x27;,\n",
       "                                                                          &#x27;smoking_status&#x27;])])),\n",
       "                                       (&#x27;estimator&#x27;, SVC())]),\n",
       "             param_grid={&#x27;estimator__C&#x27;: [1, 10],\n",
       "                         &#x27;estimator__gamma&#x27;: [&#x27;scale&#x27;, &#x27;auto&#x27;],\n",
       "                         &#x27;estimator__kernel&#x27;: [&#x27;rbf&#x27;, &#x27;linear&#x27;, &#x27;poly&#x27;,\n",
       "                                               &#x27;sigmoid&#x27;]},\n",
       "             verbose=2)</pre></div></div></div><div class=\"sk-parallel\"><div class=\"sk-parallel-item\"><div class=\"sk-item\"><div class=\"sk-label-container\"><div class=\"sk-label sk-toggleable\"><input class=\"sk-toggleable__control sk-hidden--visually\" id=\"sk-estimator-id-11\" type=\"checkbox\" ><label for=\"sk-estimator-id-11\" class=\"sk-toggleable__label sk-toggleable__label-arrow\">estimator: Pipeline</label><div class=\"sk-toggleable__content\"><pre>Pipeline(steps=[(&#x27;preprocessor&#x27;,\n",
       "                 ColumnTransformer(remainder=&#x27;passthrough&#x27;,\n",
       "                                   transformers=[(&#x27;numerical&#x27;,\n",
       "                                                  Pipeline(steps=[(&#x27;scaling&#x27;,\n",
       "                                                                   StandardScaler())]),\n",
       "                                                  [&#x27;age&#x27;, &#x27;avg_glucose_level&#x27;,\n",
       "                                                   &#x27;bmi&#x27;]),\n",
       "                                                 (&#x27;category&#x27;,\n",
       "                                                  Pipeline(steps=[(&#x27;encoder&#x27;,\n",
       "                                                                   OneHotEncoder(handle_unknown=&#x27;ignore&#x27;))]),\n",
       "                                                  [&#x27;gender&#x27;, &#x27;ever_married&#x27;,\n",
       "                                                   &#x27;work_type&#x27;,\n",
       "                                                   &#x27;Residence_type&#x27;,\n",
       "                                                   &#x27;smoking_status&#x27;])])),\n",
       "                (&#x27;estimator&#x27;, SVC())])</pre></div></div></div><div class=\"sk-serial\"><div class=\"sk-item\"><div class=\"sk-serial\"><div class=\"sk-item sk-dashed-wrapped\"><div class=\"sk-label-container\"><div class=\"sk-label sk-toggleable\"><input class=\"sk-toggleable__control sk-hidden--visually\" id=\"sk-estimator-id-12\" type=\"checkbox\" ><label for=\"sk-estimator-id-12\" class=\"sk-toggleable__label sk-toggleable__label-arrow\">preprocessor: ColumnTransformer</label><div class=\"sk-toggleable__content\"><pre>ColumnTransformer(remainder=&#x27;passthrough&#x27;,\n",
       "                  transformers=[(&#x27;numerical&#x27;,\n",
       "                                 Pipeline(steps=[(&#x27;scaling&#x27;,\n",
       "                                                  StandardScaler())]),\n",
       "                                 [&#x27;age&#x27;, &#x27;avg_glucose_level&#x27;, &#x27;bmi&#x27;]),\n",
       "                                (&#x27;category&#x27;,\n",
       "                                 Pipeline(steps=[(&#x27;encoder&#x27;,\n",
       "                                                  OneHotEncoder(handle_unknown=&#x27;ignore&#x27;))]),\n",
       "                                 [&#x27;gender&#x27;, &#x27;ever_married&#x27;, &#x27;work_type&#x27;,\n",
       "                                  &#x27;Residence_type&#x27;, &#x27;smoking_status&#x27;])])</pre></div></div></div><div class=\"sk-parallel\"><div class=\"sk-parallel-item\"><div class=\"sk-item\"><div class=\"sk-label-container\"><div class=\"sk-label sk-toggleable\"><input class=\"sk-toggleable__control sk-hidden--visually\" id=\"sk-estimator-id-13\" type=\"checkbox\" ><label for=\"sk-estimator-id-13\" class=\"sk-toggleable__label sk-toggleable__label-arrow\">numerical</label><div class=\"sk-toggleable__content\"><pre>[&#x27;age&#x27;, &#x27;avg_glucose_level&#x27;, &#x27;bmi&#x27;]</pre></div></div></div><div class=\"sk-serial\"><div class=\"sk-item\"><div class=\"sk-serial\"><div class=\"sk-item\"><div class=\"sk-estimator sk-toggleable\"><input class=\"sk-toggleable__control sk-hidden--visually\" id=\"sk-estimator-id-14\" type=\"checkbox\" ><label for=\"sk-estimator-id-14\" class=\"sk-toggleable__label sk-toggleable__label-arrow\">StandardScaler</label><div class=\"sk-toggleable__content\"><pre>StandardScaler()</pre></div></div></div></div></div></div></div></div><div class=\"sk-parallel-item\"><div class=\"sk-item\"><div class=\"sk-label-container\"><div class=\"sk-label sk-toggleable\"><input class=\"sk-toggleable__control sk-hidden--visually\" id=\"sk-estimator-id-15\" type=\"checkbox\" ><label for=\"sk-estimator-id-15\" class=\"sk-toggleable__label sk-toggleable__label-arrow\">category</label><div class=\"sk-toggleable__content\"><pre>[&#x27;gender&#x27;, &#x27;ever_married&#x27;, &#x27;work_type&#x27;, &#x27;Residence_type&#x27;, &#x27;smoking_status&#x27;]</pre></div></div></div><div class=\"sk-serial\"><div class=\"sk-item\"><div class=\"sk-serial\"><div class=\"sk-item\"><div class=\"sk-estimator sk-toggleable\"><input class=\"sk-toggleable__control sk-hidden--visually\" id=\"sk-estimator-id-16\" type=\"checkbox\" ><label for=\"sk-estimator-id-16\" class=\"sk-toggleable__label sk-toggleable__label-arrow\">OneHotEncoder</label><div class=\"sk-toggleable__content\"><pre>OneHotEncoder(handle_unknown=&#x27;ignore&#x27;)</pre></div></div></div></div></div></div></div></div><div class=\"sk-parallel-item\"><div class=\"sk-item\"><div class=\"sk-label-container\"><div class=\"sk-label sk-toggleable\"><input class=\"sk-toggleable__control sk-hidden--visually\" id=\"sk-estimator-id-17\" type=\"checkbox\" ><label for=\"sk-estimator-id-17\" class=\"sk-toggleable__label sk-toggleable__label-arrow\">remainder</label><div class=\"sk-toggleable__content\"><pre>[&#x27;hypertension&#x27;, &#x27;heart_disease&#x27;]</pre></div></div></div><div class=\"sk-serial\"><div class=\"sk-item\"><div class=\"sk-estimator sk-toggleable\"><input class=\"sk-toggleable__control sk-hidden--visually\" id=\"sk-estimator-id-18\" type=\"checkbox\" ><label for=\"sk-estimator-id-18\" class=\"sk-toggleable__label sk-toggleable__label-arrow\">passthrough</label><div class=\"sk-toggleable__content\"><pre>passthrough</pre></div></div></div></div></div></div></div></div><div class=\"sk-item\"><div class=\"sk-estimator sk-toggleable\"><input class=\"sk-toggleable__control sk-hidden--visually\" id=\"sk-estimator-id-19\" type=\"checkbox\" ><label for=\"sk-estimator-id-19\" class=\"sk-toggleable__label sk-toggleable__label-arrow\">SVC</label><div class=\"sk-toggleable__content\"><pre>SVC()</pre></div></div></div></div></div></div></div></div></div></div></div></div>"
      ],
      "text/plain": [
       "GridSearchCV(cv=5,\n",
       "             estimator=Pipeline(steps=[('preprocessor',\n",
       "                                        ColumnTransformer(remainder='passthrough',\n",
       "                                                          transformers=[('numerical',\n",
       "                                                                         Pipeline(steps=[('scaling',\n",
       "                                                                                          StandardScaler())]),\n",
       "                                                                         ['age',\n",
       "                                                                          'avg_glucose_level',\n",
       "                                                                          'bmi']),\n",
       "                                                                        ('category',\n",
       "                                                                         Pipeline(steps=[('encoder',\n",
       "                                                                                          OneHotEncoder(handle_unknown='ignore'))]),\n",
       "                                                                         ['gender',\n",
       "                                                                          'ever_married',\n",
       "                                                                          'work_type',\n",
       "                                                                          'Residence_type',\n",
       "                                                                          'smoking_status'])])),\n",
       "                                       ('estimator', SVC())]),\n",
       "             param_grid={'estimator__C': [1, 10],\n",
       "                         'estimator__gamma': ['scale', 'auto'],\n",
       "                         'estimator__kernel': ['rbf', 'linear', 'poly',\n",
       "                                               'sigmoid']},\n",
       "             verbose=2)"
      ]
     },
     "execution_count": 50,
     "metadata": {},
     "output_type": "execute_result"
    }
   ],
   "source": [
    "params = {\n",
    "    \"estimator__kernel\": [\"rbf\",\"linear\",\"poly\",\"sigmoid\"],\n",
    "    \"estimator__C\":[1,10],\n",
    "    \"estimator__gamma\":[\"scale\",\"auto\"]\n",
    "}\n",
    "\n",
    "best_grid = GridSearchCV(pipeline , params ,cv = 5 ,verbose=2)\n",
    "best_grid.fit(x_train ,y_train)"
   ]
  },
  {
   "cell_type": "code",
   "execution_count": 54,
   "id": "aaff91ec",
   "metadata": {},
   "outputs": [
    {
     "name": "stdout",
     "output_type": "stream",
     "text": [
      "Accuracy: 0.9148936170212766\n",
      "F1 Score: 0.9211822660098522\n"
     ]
    }
   ],
   "source": [
    "model = best_grid.best_estimator_\n",
    "# Check accuracy and F1 score\n",
    "print(\"Accuracy:\", model.score(x_test, y_test))\n",
    "y_preds = model.predict(x_test)\n",
    "print(\"F1 Score:\", f1_score(y_test, y_preds))"
   ]
  },
  {
   "cell_type": "code",
   "execution_count": 38,
   "id": "2db7ea84",
   "metadata": {},
   "outputs": [
    {
     "data": {
      "text/plain": [
       "1    4700\n",
       "0    4700\n",
       "Name: stroke, dtype: int64"
      ]
     },
     "execution_count": 38,
     "metadata": {},
     "output_type": "execute_result"
    }
   ],
   "source": [
    "Y_resampled.value_counts()"
   ]
  },
  {
   "cell_type": "code",
   "execution_count": 39,
   "id": "819319e3",
   "metadata": {},
   "outputs": [
    {
     "name": "stdout",
     "output_type": "stream",
     "text": [
      "Enter the Gender: Male\n",
      "Enter the Age: 67\n",
      "Hypertension (1 for Yes, 0 for No): 0\n",
      "Heart Disease (1 for Yes, 0 for No): 1\n",
      "Ever Married (yes/no): Yes\n",
      "Enter the Work Type: Private\n",
      "Residence Type (urban/rural): Urban\n",
      "Enter the Average Glucose Level: 228.69\n",
      "Enter the BMI: 36.6\n",
      "Smoking Status: formerly smoked\n",
      "The Label is: 1\n"
     ]
    }
   ],
   "source": [
    "# Prompt the user for input\n",
    "gender = input(\"Enter the Gender: \")\n",
    "age = float(input(\"Enter the Age: \"))\n",
    "hypertension = int(input(\"Hypertension (1 for Yes, 0 for No): \"))\n",
    "heart_disease = int(input(\"Heart Disease (1 for Yes, 0 for No): \"))\n",
    "ever_married = input(\"Ever Married (yes/no): \")\n",
    "work_type = input(\"Enter the Work Type: \")\n",
    "residence_type = input(\"Residence Type (urban/rural): \")\n",
    "avg_glucose_level = float(input(\"Enter the Average Glucose Level: \"))\n",
    "bmi = float(input(\"Enter the BMI: \"))\n",
    "smoking_status = input(\"Smoking Status: \")\n",
    "\n",
    "\n",
    "# Create a DataFrame with the user input\n",
    "data = pd.DataFrame({\n",
    "    'gender': [gender],\n",
    "    'age': [age],\n",
    "    'hypertension': [hypertension],\n",
    "    'heart_disease': [heart_disease],\n",
    "    'ever_married': [ever_married],\n",
    "    'work_type': [work_type],\n",
    "    'Residence_type': [residence_type],\n",
    "    'avg_glucose_level': [avg_glucose_level],\n",
    "    'bmi': [bmi],\n",
    "    'smoking_status': [smoking_status]\n",
    "    \n",
    "})\n",
    "\n",
    "# Predict the data\n",
    "transformed_data = pipeline[\"preprocessor\"].transform(data)\n",
    "prediction = pipeline[\"estimator\"].predict(transformed_data)\n",
    "\n",
    "print(\"The Label is:\", prediction[0])"
   ]
  },
  {
   "cell_type": "code",
   "execution_count": null,
   "id": "58781d08",
   "metadata": {},
   "outputs": [],
   "source": []
  }
 ],
 "metadata": {
  "kernelspec": {
   "display_name": "Python 3 (ipykernel)",
   "language": "python",
   "name": "python3"
  },
  "language_info": {
   "codemirror_mode": {
    "name": "ipython",
    "version": 3
   },
   "file_extension": ".py",
   "mimetype": "text/x-python",
   "name": "python",
   "nbconvert_exporter": "python",
   "pygments_lexer": "ipython3",
   "version": "3.10.9"
  }
 },
 "nbformat": 4,
 "nbformat_minor": 5
}
