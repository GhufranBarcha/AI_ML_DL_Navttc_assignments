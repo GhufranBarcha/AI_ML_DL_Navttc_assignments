{
 "cells": [
  {
   "cell_type": "markdown",
   "id": "9774d6d5",
   "metadata": {},
   "source": [
    "# Tasks   \n",
    "    Task 1: Read given data into DataFrame in python “Cat_Human.csv”. Perform Data cleaning.\n",
    "    Task 2: After data cleaning, you are required to prepare your dataset for training.\n",
    "    • Separate features and labels.\n",
    "    • Feature scaling/Normalization\n",
    "    • Perform Label Encoding\n",
    "    • Split dataset into training and testing data\n",
    "    Task 3: Display confusion matrix and generate report of f1-score, recall and precision."
   ]
  },
  {
   "cell_type": "code",
   "execution_count": 1,
   "id": "b7582b4d",
   "metadata": {},
   "outputs": [],
   "source": [
    "import pandas as pd\n",
    "import numpy as np\n",
    "from sklearn.pipeline import Pipeline\n",
    "from sklearn.model_selection import train_test_split\n",
    "from sklearn.linear_model import LogisticRegression\n",
    "from sklearn.preprocessing import LabelEncoder,OneHotEncoder ,MinMaxScaler ,StandardScaler\n",
    "from sklearn.compose import ColumnTransformer \n",
    "from sklearn.metrics import accuracy_score ,f1_score\n",
    "import joblib"
   ]
  },
  {
   "cell_type": "markdown",
   "id": "1dd888d7",
   "metadata": {},
   "source": [
    "## Task 1:\n",
    "    Read given data into DataFrame in python “Cat_Human.csv”. Perform Data cleaning."
   ]
  },
  {
   "cell_type": "code",
   "execution_count": 2,
   "id": "c5202b54",
   "metadata": {},
   "outputs": [
    {
     "data": {
      "text/html": [
       "<div>\n",
       "<style scoped>\n",
       "    .dataframe tbody tr th:only-of-type {\n",
       "        vertical-align: middle;\n",
       "    }\n",
       "\n",
       "    .dataframe tbody tr th {\n",
       "        vertical-align: top;\n",
       "    }\n",
       "\n",
       "    .dataframe thead th {\n",
       "        text-align: right;\n",
       "    }\n",
       "</style>\n",
       "<table border=\"1\" class=\"dataframe\">\n",
       "  <thead>\n",
       "    <tr style=\"text-align: right;\">\n",
       "      <th></th>\n",
       "      <th>Color</th>\n",
       "      <th>Eye_color</th>\n",
       "      <th>Height</th>\n",
       "      <th>Legs</th>\n",
       "      <th>Moustache</th>\n",
       "      <th>Tail</th>\n",
       "      <th>Weight</th>\n",
       "      <th>label</th>\n",
       "    </tr>\n",
       "  </thead>\n",
       "  <tbody>\n",
       "    <tr>\n",
       "      <th>0</th>\n",
       "      <td>No</td>\n",
       "      <td>black</td>\n",
       "      <td>5.14</td>\n",
       "      <td>2</td>\n",
       "      <td>No</td>\n",
       "      <td>No</td>\n",
       "      <td>70.000000</td>\n",
       "      <td>human</td>\n",
       "    </tr>\n",
       "    <tr>\n",
       "      <th>1</th>\n",
       "      <td>No</td>\n",
       "      <td>brown</td>\n",
       "      <td>6.80</td>\n",
       "      <td>2</td>\n",
       "      <td>No</td>\n",
       "      <td>No</td>\n",
       "      <td>64.400000</td>\n",
       "      <td>human</td>\n",
       "    </tr>\n",
       "    <tr>\n",
       "      <th>2</th>\n",
       "      <td>Yes</td>\n",
       "      <td>brown</td>\n",
       "      <td>5.00</td>\n",
       "      <td>2</td>\n",
       "      <td>Yes</td>\n",
       "      <td>No</td>\n",
       "      <td>64.800000</td>\n",
       "      <td>human</td>\n",
       "    </tr>\n",
       "    <tr>\n",
       "      <th>3</th>\n",
       "      <td>No</td>\n",
       "      <td>blue</td>\n",
       "      <td>5.90</td>\n",
       "      <td>2</td>\n",
       "      <td>No</td>\n",
       "      <td>No</td>\n",
       "      <td>78.800000</td>\n",
       "      <td>human</td>\n",
       "    </tr>\n",
       "    <tr>\n",
       "      <th>4</th>\n",
       "      <td>No</td>\n",
       "      <td>blue</td>\n",
       "      <td>6.56</td>\n",
       "      <td>2</td>\n",
       "      <td>No</td>\n",
       "      <td>No</td>\n",
       "      <td>73.200000</td>\n",
       "      <td>human</td>\n",
       "    </tr>\n",
       "    <tr>\n",
       "      <th>...</th>\n",
       "      <td>...</td>\n",
       "      <td>...</td>\n",
       "      <td>...</td>\n",
       "      <td>...</td>\n",
       "      <td>...</td>\n",
       "      <td>...</td>\n",
       "      <td>...</td>\n",
       "      <td>...</td>\n",
       "    </tr>\n",
       "    <tr>\n",
       "      <th>195</th>\n",
       "      <td>brown</td>\n",
       "      <td>gray</td>\n",
       "      <td>1.14</td>\n",
       "      <td>4</td>\n",
       "      <td>Yes</td>\n",
       "      <td>Yes</td>\n",
       "      <td>2.304511</td>\n",
       "      <td>Cat</td>\n",
       "    </tr>\n",
       "    <tr>\n",
       "      <th>196</th>\n",
       "      <td>white</td>\n",
       "      <td>yellow</td>\n",
       "      <td>1.39</td>\n",
       "      <td>4</td>\n",
       "      <td>Yes</td>\n",
       "      <td>Yes</td>\n",
       "      <td>5.687970</td>\n",
       "      <td>Cat</td>\n",
       "    </tr>\n",
       "    <tr>\n",
       "      <th>197</th>\n",
       "      <td>white</td>\n",
       "      <td>black</td>\n",
       "      <td>0.53</td>\n",
       "      <td>4</td>\n",
       "      <td>Yes</td>\n",
       "      <td>Yes</td>\n",
       "      <td>6.364662</td>\n",
       "      <td>Cat</td>\n",
       "    </tr>\n",
       "    <tr>\n",
       "      <th>198</th>\n",
       "      <td>brown</td>\n",
       "      <td>green</td>\n",
       "      <td>1.03</td>\n",
       "      <td>4</td>\n",
       "      <td>Yes</td>\n",
       "      <td>Yes</td>\n",
       "      <td>6.590226</td>\n",
       "      <td>Cat</td>\n",
       "    </tr>\n",
       "    <tr>\n",
       "      <th>199</th>\n",
       "      <td>brown_white</td>\n",
       "      <td>blue</td>\n",
       "      <td>0.83</td>\n",
       "      <td>4</td>\n",
       "      <td>Yes</td>\n",
       "      <td>Yes</td>\n",
       "      <td>7.868421</td>\n",
       "      <td>Cat</td>\n",
       "    </tr>\n",
       "  </tbody>\n",
       "</table>\n",
       "<p>200 rows × 8 columns</p>\n",
       "</div>"
      ],
      "text/plain": [
       "           Color Eye_color  Height  Legs Moustache Tail     Weight  label\n",
       "0             No     black    5.14     2        No   No  70.000000  human\n",
       "1             No     brown    6.80     2        No   No  64.400000  human\n",
       "2            Yes     brown    5.00     2       Yes   No  64.800000  human\n",
       "3             No      blue    5.90     2        No   No  78.800000  human\n",
       "4             No      blue    6.56     2        No   No  73.200000  human\n",
       "..           ...       ...     ...   ...       ...  ...        ...    ...\n",
       "195        brown      gray    1.14     4       Yes  Yes   2.304511    Cat\n",
       "196        white    yellow    1.39     4       Yes  Yes   5.687970    Cat\n",
       "197        white     black    0.53     4       Yes  Yes   6.364662    Cat\n",
       "198        brown     green    1.03     4       Yes  Yes   6.590226    Cat\n",
       "199  brown_white      blue    0.83     4       Yes  Yes   7.868421    Cat\n",
       "\n",
       "[200 rows x 8 columns]"
      ]
     },
     "execution_count": 2,
     "metadata": {},
     "output_type": "execute_result"
    }
   ],
   "source": [
    "## Import csv file using pandas\n",
    "df= pd.read_csv(\"../DataSets/Cat_human.csv\")\n",
    "df"
   ]
  },
  {
   "cell_type": "code",
   "execution_count": 3,
   "id": "52813114",
   "metadata": {},
   "outputs": [
    {
     "data": {
      "text/plain": [
       "Color        0\n",
       "Eye_color    0\n",
       "Height       0\n",
       "Legs         0\n",
       "Moustache    0\n",
       "Tail         0\n",
       "Weight       0\n",
       "label        0\n",
       "dtype: int64"
      ]
     },
     "execution_count": 3,
     "metadata": {},
     "output_type": "execute_result"
    }
   ],
   "source": [
    "## Check for missing values or nan values to see if Data Cleaning is necessary\n",
    "\n",
    "df.isna().sum()"
   ]
  },
  {
   "cell_type": "code",
   "execution_count": 4,
   "id": "9f53c03c",
   "metadata": {},
   "outputs": [
    {
     "data": {
      "text/plain": [
       "0"
      ]
     },
     "execution_count": 4,
     "metadata": {},
     "output_type": "execute_result"
    }
   ],
   "source": [
    "## check for duplicate rows \n",
    "df.duplicated().sum()"
   ]
  },
  {
   "cell_type": "code",
   "execution_count": 5,
   "id": "b0c736eb",
   "metadata": {},
   "outputs": [
    {
     "data": {
      "text/plain": [
       "0"
      ]
     },
     "execution_count": 5,
     "metadata": {},
     "output_type": "execute_result"
    }
   ],
   "source": [
    "## check for duplicate rows \n",
    "df.T.duplicated().sum()"
   ]
  },
  {
   "cell_type": "code",
   "execution_count": 6,
   "id": "67777621",
   "metadata": {},
   "outputs": [
    {
     "data": {
      "text/html": [
       "<div>\n",
       "<style scoped>\n",
       "    .dataframe tbody tr th:only-of-type {\n",
       "        vertical-align: middle;\n",
       "    }\n",
       "\n",
       "    .dataframe tbody tr th {\n",
       "        vertical-align: top;\n",
       "    }\n",
       "\n",
       "    .dataframe thead th {\n",
       "        text-align: right;\n",
       "    }\n",
       "</style>\n",
       "<table border=\"1\" class=\"dataframe\">\n",
       "  <thead>\n",
       "    <tr style=\"text-align: right;\">\n",
       "      <th></th>\n",
       "      <th>Color</th>\n",
       "      <th>Eye_color</th>\n",
       "      <th>Height</th>\n",
       "      <th>Legs</th>\n",
       "      <th>Moustache</th>\n",
       "      <th>Tail</th>\n",
       "      <th>Weight</th>\n",
       "      <th>label</th>\n",
       "    </tr>\n",
       "  </thead>\n",
       "  <tbody>\n",
       "    <tr>\n",
       "      <th>0</th>\n",
       "      <td>No</td>\n",
       "      <td>black</td>\n",
       "      <td>5.14</td>\n",
       "      <td>2</td>\n",
       "      <td>No</td>\n",
       "      <td>No</td>\n",
       "      <td>70.0</td>\n",
       "      <td>human</td>\n",
       "    </tr>\n",
       "    <tr>\n",
       "      <th>1</th>\n",
       "      <td>No</td>\n",
       "      <td>brown</td>\n",
       "      <td>6.8</td>\n",
       "      <td>2</td>\n",
       "      <td>No</td>\n",
       "      <td>No</td>\n",
       "      <td>64.4</td>\n",
       "      <td>human</td>\n",
       "    </tr>\n",
       "    <tr>\n",
       "      <th>2</th>\n",
       "      <td>Yes</td>\n",
       "      <td>brown</td>\n",
       "      <td>5.0</td>\n",
       "      <td>2</td>\n",
       "      <td>Yes</td>\n",
       "      <td>No</td>\n",
       "      <td>64.8</td>\n",
       "      <td>human</td>\n",
       "    </tr>\n",
       "    <tr>\n",
       "      <th>3</th>\n",
       "      <td>No</td>\n",
       "      <td>blue</td>\n",
       "      <td>5.9</td>\n",
       "      <td>2</td>\n",
       "      <td>No</td>\n",
       "      <td>No</td>\n",
       "      <td>78.8</td>\n",
       "      <td>human</td>\n",
       "    </tr>\n",
       "    <tr>\n",
       "      <th>4</th>\n",
       "      <td>No</td>\n",
       "      <td>blue</td>\n",
       "      <td>6.56</td>\n",
       "      <td>2</td>\n",
       "      <td>No</td>\n",
       "      <td>No</td>\n",
       "      <td>73.2</td>\n",
       "      <td>human</td>\n",
       "    </tr>\n",
       "    <tr>\n",
       "      <th>...</th>\n",
       "      <td>...</td>\n",
       "      <td>...</td>\n",
       "      <td>...</td>\n",
       "      <td>...</td>\n",
       "      <td>...</td>\n",
       "      <td>...</td>\n",
       "      <td>...</td>\n",
       "      <td>...</td>\n",
       "    </tr>\n",
       "    <tr>\n",
       "      <th>195</th>\n",
       "      <td>brown</td>\n",
       "      <td>gray</td>\n",
       "      <td>1.14</td>\n",
       "      <td>4</td>\n",
       "      <td>Yes</td>\n",
       "      <td>Yes</td>\n",
       "      <td>2.304511</td>\n",
       "      <td>Cat</td>\n",
       "    </tr>\n",
       "    <tr>\n",
       "      <th>196</th>\n",
       "      <td>white</td>\n",
       "      <td>yellow</td>\n",
       "      <td>1.39</td>\n",
       "      <td>4</td>\n",
       "      <td>Yes</td>\n",
       "      <td>Yes</td>\n",
       "      <td>5.68797</td>\n",
       "      <td>Cat</td>\n",
       "    </tr>\n",
       "    <tr>\n",
       "      <th>197</th>\n",
       "      <td>white</td>\n",
       "      <td>black</td>\n",
       "      <td>0.53</td>\n",
       "      <td>4</td>\n",
       "      <td>Yes</td>\n",
       "      <td>Yes</td>\n",
       "      <td>6.364662</td>\n",
       "      <td>Cat</td>\n",
       "    </tr>\n",
       "    <tr>\n",
       "      <th>198</th>\n",
       "      <td>brown</td>\n",
       "      <td>green</td>\n",
       "      <td>1.03</td>\n",
       "      <td>4</td>\n",
       "      <td>Yes</td>\n",
       "      <td>Yes</td>\n",
       "      <td>6.590226</td>\n",
       "      <td>Cat</td>\n",
       "    </tr>\n",
       "    <tr>\n",
       "      <th>199</th>\n",
       "      <td>brown_white</td>\n",
       "      <td>blue</td>\n",
       "      <td>0.83</td>\n",
       "      <td>4</td>\n",
       "      <td>Yes</td>\n",
       "      <td>Yes</td>\n",
       "      <td>7.868421</td>\n",
       "      <td>Cat</td>\n",
       "    </tr>\n",
       "  </tbody>\n",
       "</table>\n",
       "<p>200 rows × 8 columns</p>\n",
       "</div>"
      ],
      "text/plain": [
       "           Color Eye_color Height Legs Moustache Tail    Weight  label\n",
       "0             No     black   5.14    2        No   No      70.0  human\n",
       "1             No     brown    6.8    2        No   No      64.4  human\n",
       "2            Yes     brown    5.0    2       Yes   No      64.8  human\n",
       "3             No      blue    5.9    2        No   No      78.8  human\n",
       "4             No      blue   6.56    2        No   No      73.2  human\n",
       "..           ...       ...    ...  ...       ...  ...       ...    ...\n",
       "195        brown      gray   1.14    4       Yes  Yes  2.304511    Cat\n",
       "196        white    yellow   1.39    4       Yes  Yes   5.68797    Cat\n",
       "197        white     black   0.53    4       Yes  Yes  6.364662    Cat\n",
       "198        brown     green   1.03    4       Yes  Yes  6.590226    Cat\n",
       "199  brown_white      blue   0.83    4       Yes  Yes  7.868421    Cat\n",
       "\n",
       "[200 rows x 8 columns]"
      ]
     },
     "execution_count": 6,
     "metadata": {},
     "output_type": "execute_result"
    }
   ],
   "source": [
    "## Well there are no duplicates but we can do this just for convention and repeatition\n",
    "\n",
    "df.drop_duplicates(inplace= False)  ## will drop duplicate in row\n",
    "df.T.drop_duplicates(inplace= False).T  ## will drop duplicates in Column"
   ]
  },
  {
   "cell_type": "markdown",
   "id": "b4570450",
   "metadata": {},
   "source": [
    "## Task 2: \n",
    "         After data cleaning, you are required to prepare your dataset for training."
   ]
  },
  {
   "cell_type": "code",
   "execution_count": 8,
   "id": "ce1ba07e",
   "metadata": {},
   "outputs": [
    {
     "data": {
      "text/html": [
       "<style>#sk-container-id-1 {color: black;}#sk-container-id-1 pre{padding: 0;}#sk-container-id-1 div.sk-toggleable {background-color: white;}#sk-container-id-1 label.sk-toggleable__label {cursor: pointer;display: block;width: 100%;margin-bottom: 0;padding: 0.3em;box-sizing: border-box;text-align: center;}#sk-container-id-1 label.sk-toggleable__label-arrow:before {content: \"▸\";float: left;margin-right: 0.25em;color: #696969;}#sk-container-id-1 label.sk-toggleable__label-arrow:hover:before {color: black;}#sk-container-id-1 div.sk-estimator:hover label.sk-toggleable__label-arrow:before {color: black;}#sk-container-id-1 div.sk-toggleable__content {max-height: 0;max-width: 0;overflow: hidden;text-align: left;background-color: #f0f8ff;}#sk-container-id-1 div.sk-toggleable__content pre {margin: 0.2em;color: black;border-radius: 0.25em;background-color: #f0f8ff;}#sk-container-id-1 input.sk-toggleable__control:checked~div.sk-toggleable__content {max-height: 200px;max-width: 100%;overflow: auto;}#sk-container-id-1 input.sk-toggleable__control:checked~label.sk-toggleable__label-arrow:before {content: \"▾\";}#sk-container-id-1 div.sk-estimator input.sk-toggleable__control:checked~label.sk-toggleable__label {background-color: #d4ebff;}#sk-container-id-1 div.sk-label input.sk-toggleable__control:checked~label.sk-toggleable__label {background-color: #d4ebff;}#sk-container-id-1 input.sk-hidden--visually {border: 0;clip: rect(1px 1px 1px 1px);clip: rect(1px, 1px, 1px, 1px);height: 1px;margin: -1px;overflow: hidden;padding: 0;position: absolute;width: 1px;}#sk-container-id-1 div.sk-estimator {font-family: monospace;background-color: #f0f8ff;border: 1px dotted black;border-radius: 0.25em;box-sizing: border-box;margin-bottom: 0.5em;}#sk-container-id-1 div.sk-estimator:hover {background-color: #d4ebff;}#sk-container-id-1 div.sk-parallel-item::after {content: \"\";width: 100%;border-bottom: 1px solid gray;flex-grow: 1;}#sk-container-id-1 div.sk-label:hover label.sk-toggleable__label {background-color: #d4ebff;}#sk-container-id-1 div.sk-serial::before {content: \"\";position: absolute;border-left: 1px solid gray;box-sizing: border-box;top: 0;bottom: 0;left: 50%;z-index: 0;}#sk-container-id-1 div.sk-serial {display: flex;flex-direction: column;align-items: center;background-color: white;padding-right: 0.2em;padding-left: 0.2em;position: relative;}#sk-container-id-1 div.sk-item {position: relative;z-index: 1;}#sk-container-id-1 div.sk-parallel {display: flex;align-items: stretch;justify-content: center;background-color: white;position: relative;}#sk-container-id-1 div.sk-item::before, #sk-container-id-1 div.sk-parallel-item::before {content: \"\";position: absolute;border-left: 1px solid gray;box-sizing: border-box;top: 0;bottom: 0;left: 50%;z-index: -1;}#sk-container-id-1 div.sk-parallel-item {display: flex;flex-direction: column;z-index: 1;position: relative;background-color: white;}#sk-container-id-1 div.sk-parallel-item:first-child::after {align-self: flex-end;width: 50%;}#sk-container-id-1 div.sk-parallel-item:last-child::after {align-self: flex-start;width: 50%;}#sk-container-id-1 div.sk-parallel-item:only-child::after {width: 0;}#sk-container-id-1 div.sk-dashed-wrapped {border: 1px dashed gray;margin: 0 0.4em 0.5em 0.4em;box-sizing: border-box;padding-bottom: 0.4em;background-color: white;}#sk-container-id-1 div.sk-label label {font-family: monospace;font-weight: bold;display: inline-block;line-height: 1.2em;}#sk-container-id-1 div.sk-label-container {text-align: center;}#sk-container-id-1 div.sk-container {/* jupyter's `normalize.less` sets `[hidden] { display: none; }` but bootstrap.min.css set `[hidden] { display: none !important; }` so we also need the `!important` here to be able to override the default hidden behavior on the sphinx rendered scikit-learn.org. See: https://github.com/scikit-learn/scikit-learn/issues/21755 */display: inline-block !important;position: relative;}#sk-container-id-1 div.sk-text-repr-fallback {display: none;}</style><div id=\"sk-container-id-1\" class=\"sk-top-container\"><div class=\"sk-text-repr-fallback\"><pre>Pipeline(steps=[(&#x27;Preprocessor&#x27;,\n",
       "                 ColumnTransformer(remainder=&#x27;passthrough&#x27;,\n",
       "                                   transformers=[(&#x27;category&#x27;,\n",
       "                                                  Pipeline(steps=[(&#x27;encoder&#x27;,\n",
       "                                                                   OneHotEncoder())]),\n",
       "                                                  [&#x27;Color&#x27;, &#x27;Eye_color&#x27;,\n",
       "                                                   &#x27;Moustache&#x27;, &#x27;Tail&#x27;]),\n",
       "                                                 (&#x27;numerical&#x27;,\n",
       "                                                  Pipeline(steps=[(&#x27;scaler&#x27;,\n",
       "                                                                   MinMaxScaler())]),\n",
       "                                                  [&#x27;Height&#x27;, &#x27;Weight&#x27;])])),\n",
       "                (&#x27;classifier&#x27;, LogisticRegression())])</pre><b>In a Jupyter environment, please rerun this cell to show the HTML representation or trust the notebook. <br />On GitHub, the HTML representation is unable to render, please try loading this page with nbviewer.org.</b></div><div class=\"sk-container\" hidden><div class=\"sk-item sk-dashed-wrapped\"><div class=\"sk-label-container\"><div class=\"sk-label sk-toggleable\"><input class=\"sk-toggleable__control sk-hidden--visually\" id=\"sk-estimator-id-1\" type=\"checkbox\" ><label for=\"sk-estimator-id-1\" class=\"sk-toggleable__label sk-toggleable__label-arrow\">Pipeline</label><div class=\"sk-toggleable__content\"><pre>Pipeline(steps=[(&#x27;Preprocessor&#x27;,\n",
       "                 ColumnTransformer(remainder=&#x27;passthrough&#x27;,\n",
       "                                   transformers=[(&#x27;category&#x27;,\n",
       "                                                  Pipeline(steps=[(&#x27;encoder&#x27;,\n",
       "                                                                   OneHotEncoder())]),\n",
       "                                                  [&#x27;Color&#x27;, &#x27;Eye_color&#x27;,\n",
       "                                                   &#x27;Moustache&#x27;, &#x27;Tail&#x27;]),\n",
       "                                                 (&#x27;numerical&#x27;,\n",
       "                                                  Pipeline(steps=[(&#x27;scaler&#x27;,\n",
       "                                                                   MinMaxScaler())]),\n",
       "                                                  [&#x27;Height&#x27;, &#x27;Weight&#x27;])])),\n",
       "                (&#x27;classifier&#x27;, LogisticRegression())])</pre></div></div></div><div class=\"sk-serial\"><div class=\"sk-item sk-dashed-wrapped\"><div class=\"sk-label-container\"><div class=\"sk-label sk-toggleable\"><input class=\"sk-toggleable__control sk-hidden--visually\" id=\"sk-estimator-id-2\" type=\"checkbox\" ><label for=\"sk-estimator-id-2\" class=\"sk-toggleable__label sk-toggleable__label-arrow\">Preprocessor: ColumnTransformer</label><div class=\"sk-toggleable__content\"><pre>ColumnTransformer(remainder=&#x27;passthrough&#x27;,\n",
       "                  transformers=[(&#x27;category&#x27;,\n",
       "                                 Pipeline(steps=[(&#x27;encoder&#x27;, OneHotEncoder())]),\n",
       "                                 [&#x27;Color&#x27;, &#x27;Eye_color&#x27;, &#x27;Moustache&#x27;, &#x27;Tail&#x27;]),\n",
       "                                (&#x27;numerical&#x27;,\n",
       "                                 Pipeline(steps=[(&#x27;scaler&#x27;, MinMaxScaler())]),\n",
       "                                 [&#x27;Height&#x27;, &#x27;Weight&#x27;])])</pre></div></div></div><div class=\"sk-parallel\"><div class=\"sk-parallel-item\"><div class=\"sk-item\"><div class=\"sk-label-container\"><div class=\"sk-label sk-toggleable\"><input class=\"sk-toggleable__control sk-hidden--visually\" id=\"sk-estimator-id-3\" type=\"checkbox\" ><label for=\"sk-estimator-id-3\" class=\"sk-toggleable__label sk-toggleable__label-arrow\">category</label><div class=\"sk-toggleable__content\"><pre>[&#x27;Color&#x27;, &#x27;Eye_color&#x27;, &#x27;Moustache&#x27;, &#x27;Tail&#x27;]</pre></div></div></div><div class=\"sk-serial\"><div class=\"sk-item\"><div class=\"sk-serial\"><div class=\"sk-item\"><div class=\"sk-estimator sk-toggleable\"><input class=\"sk-toggleable__control sk-hidden--visually\" id=\"sk-estimator-id-4\" type=\"checkbox\" ><label for=\"sk-estimator-id-4\" class=\"sk-toggleable__label sk-toggleable__label-arrow\">OneHotEncoder</label><div class=\"sk-toggleable__content\"><pre>OneHotEncoder()</pre></div></div></div></div></div></div></div></div><div class=\"sk-parallel-item\"><div class=\"sk-item\"><div class=\"sk-label-container\"><div class=\"sk-label sk-toggleable\"><input class=\"sk-toggleable__control sk-hidden--visually\" id=\"sk-estimator-id-5\" type=\"checkbox\" ><label for=\"sk-estimator-id-5\" class=\"sk-toggleable__label sk-toggleable__label-arrow\">numerical</label><div class=\"sk-toggleable__content\"><pre>[&#x27;Height&#x27;, &#x27;Weight&#x27;]</pre></div></div></div><div class=\"sk-serial\"><div class=\"sk-item\"><div class=\"sk-serial\"><div class=\"sk-item\"><div class=\"sk-estimator sk-toggleable\"><input class=\"sk-toggleable__control sk-hidden--visually\" id=\"sk-estimator-id-6\" type=\"checkbox\" ><label for=\"sk-estimator-id-6\" class=\"sk-toggleable__label sk-toggleable__label-arrow\">MinMaxScaler</label><div class=\"sk-toggleable__content\"><pre>MinMaxScaler()</pre></div></div></div></div></div></div></div></div><div class=\"sk-parallel-item\"><div class=\"sk-item\"><div class=\"sk-label-container\"><div class=\"sk-label sk-toggleable\"><input class=\"sk-toggleable__control sk-hidden--visually\" id=\"sk-estimator-id-7\" type=\"checkbox\" ><label for=\"sk-estimator-id-7\" class=\"sk-toggleable__label sk-toggleable__label-arrow\">remainder</label><div class=\"sk-toggleable__content\"><pre>[&#x27;Legs&#x27;]</pre></div></div></div><div class=\"sk-serial\"><div class=\"sk-item\"><div class=\"sk-estimator sk-toggleable\"><input class=\"sk-toggleable__control sk-hidden--visually\" id=\"sk-estimator-id-8\" type=\"checkbox\" ><label for=\"sk-estimator-id-8\" class=\"sk-toggleable__label sk-toggleable__label-arrow\">passthrough</label><div class=\"sk-toggleable__content\"><pre>passthrough</pre></div></div></div></div></div></div></div></div><div class=\"sk-item\"><div class=\"sk-estimator sk-toggleable\"><input class=\"sk-toggleable__control sk-hidden--visually\" id=\"sk-estimator-id-9\" type=\"checkbox\" ><label for=\"sk-estimator-id-9\" class=\"sk-toggleable__label sk-toggleable__label-arrow\">LogisticRegression</label><div class=\"sk-toggleable__content\"><pre>LogisticRegression()</pre></div></div></div></div></div></div></div>"
      ],
      "text/plain": [
       "Pipeline(steps=[('Preprocessor',\n",
       "                 ColumnTransformer(remainder='passthrough',\n",
       "                                   transformers=[('category',\n",
       "                                                  Pipeline(steps=[('encoder',\n",
       "                                                                   OneHotEncoder())]),\n",
       "                                                  ['Color', 'Eye_color',\n",
       "                                                   'Moustache', 'Tail']),\n",
       "                                                 ('numerical',\n",
       "                                                  Pipeline(steps=[('scaler',\n",
       "                                                                   MinMaxScaler())]),\n",
       "                                                  ['Height', 'Weight'])])),\n",
       "                ('classifier', LogisticRegression())])"
      ]
     },
     "execution_count": 8,
     "metadata": {},
     "output_type": "execute_result"
    }
   ],
   "source": [
    "# before splitting the apply label encoder or OneHotEncoder\n",
    "\n",
    "x = df.drop(\"label\" ,axis = 1)\n",
    "y = df[\"label\"]\n",
    "\n",
    "label_encoder = LabelEncoder( )\n",
    "\n",
    "y_encoded=label_encoder.fit_transform(y)\n",
    "\n",
    "numeric_transformer = Pipeline(steps = [(\"scaler\",MinMaxScaler())])\n",
    "category_transformer = Pipeline(steps = [ (\"encoder\",OneHotEncoder()) ])\n",
    "\n",
    "\n",
    "category = [\"Color\",\"Eye_color\",\"Moustache\",\"Tail\"]\n",
    "numerical = [\"Height\",\"Weight\"]\n",
    "\n",
    "preprocessor  = ColumnTransformer([(\"category\",category_transformer,category),\n",
    "                                 (\"numerical\",numeric_transformer,numerical)],remainder='passthrough')\n",
    "\n",
    "pipeline = Pipeline([(\"Preprocessor\",preprocessor),\n",
    "                     (\"classifier\",LogisticRegression())])\n",
    "\n",
    "x_train ,x_test ,y_train ,y_test = train_test_split(x ,y_encoded ,test_size=0.2 ,random_state = 42)\n",
    "\n",
    "pipeline.fit(x_train , y_train)\n"
   ]
  },
  {
   "cell_type": "code",
   "execution_count": 9,
   "id": "cf05e781",
   "metadata": {},
   "outputs": [
    {
     "data": {
      "text/plain": [
       "array([1, 1, 1, 0, 0, 0, 1, 0, 0, 1, 1, 0, 0, 1, 0, 0, 1, 0, 1, 1, 0, 1,\n",
       "       0, 1, 1, 1, 1, 1, 0, 0, 1, 1, 1, 1, 0, 0, 0, 0, 0, 1])"
      ]
     },
     "execution_count": 9,
     "metadata": {},
     "output_type": "execute_result"
    }
   ],
   "source": [
    "## model score\n",
    "pipeline.score(x_test ,y_test)\n",
    "y_preds = pipeline.predict(x_test)\n",
    "y_preds"
   ]
  },
  {
   "cell_type": "code",
   "execution_count": 10,
   "id": "5231410d",
   "metadata": {},
   "outputs": [
    {
     "data": {
      "text/plain": [
       "1.0"
      ]
     },
     "execution_count": 10,
     "metadata": {},
     "output_type": "execute_result"
    }
   ],
   "source": [
    "## accuracy Score\n",
    "accuracy_score(y_test , y_preds)"
   ]
  },
  {
   "cell_type": "code",
   "execution_count": 11,
   "id": "929ab98b",
   "metadata": {},
   "outputs": [
    {
     "data": {
      "text/plain": [
       "1.0"
      ]
     },
     "execution_count": 11,
     "metadata": {},
     "output_type": "execute_result"
    }
   ],
   "source": [
    "##\n",
    "f1_score(y_test , y_preds)"
   ]
  },
  {
   "cell_type": "code",
   "execution_count": 12,
   "id": "c9b531c9",
   "metadata": {},
   "outputs": [
    {
     "data": {
      "text/plain": [
       "['../TrainedModels/LabelEncoder20june.pkl']"
      ]
     },
     "execution_count": 12,
     "metadata": {},
     "output_type": "execute_result"
    }
   ],
   "source": [
    "## model deployment\n",
    "\n",
    "joblib.dump(pipeline , \"../TrainedModels/modelPipeline20june.pkl\")\n",
    "joblib.dump(label_encoder , \"../TrainedModels/LabelEncoder20june.pkl\")\n",
    "\n"
   ]
  },
  {
   "cell_type": "code",
   "execution_count": 13,
   "id": "eada5d2f",
   "metadata": {},
   "outputs": [],
   "source": [
    "## import model file\n",
    "\n",
    "pipeline = joblib.load(\"../TrainedModels/modelPipeline20june.pkl\")\n",
    "label_encoder = joblib.load(\"../TrainedModels/LabelEncoder20june.pkl\")\n"
   ]
  },
  {
   "cell_type": "code",
   "execution_count": 14,
   "id": "62a824aa",
   "metadata": {},
   "outputs": [
    {
     "name": "stdout",
     "output_type": "stream",
     "text": [
      "['Cat' 'human']\n"
     ]
    },
    {
     "data": {
      "text/plain": [
       "{0: 'Cat', 1: 'human'}"
      ]
     },
     "execution_count": 14,
     "metadata": {},
     "output_type": "execute_result"
    }
   ],
   "source": [
    "# Set handle_unknown='ignore' for the label encoder\n",
    "label_encoder.handle_unknown = 'ignore'\n",
    "print(label_encoder.classes_)\n",
    "\n",
    "\n",
    "# Create a dictionary to map the label encoder classes to their original labels\n",
    "class_map  = {i: label for i,label in enumerate(label_encoder.classes_)}\n",
    "class_map"
   ]
  },
  {
   "cell_type": "code",
   "execution_count": 15,
   "id": "c09bc5b1",
   "metadata": {},
   "outputs": [
    {
     "name": "stdout",
     "output_type": "stream",
     "text": [
      "Enter the color: brown\n",
      "Enter the eye color: gray\n",
      "Enter the height: 2\n",
      "Enter the number of legs: 4\n",
      "Does it have a moustache (Yes/No): No\n",
      "Does it have a tail (Yes/No): Yes\n",
      "Enter the weight: 3\n",
      "The Label is : Cat\n"
     ]
    }
   ],
   "source": [
    "# now model will predict based on input data provided by user\n",
    "\n",
    "\n",
    "color = input(\"Enter the color: \")\n",
    "eye_color = input(\"Enter the eye color: \")\n",
    "height = float(input(\"Enter the height: \"))\n",
    "legs = int(input(\"Enter the number of legs: \"))\n",
    "moustache = input(\"Does it have a moustache (Yes/No): \")\n",
    "tail = input(\"Does it have a tail (Yes/No): \")\n",
    "weight = float(input(\"Enter the weight: \"))\n",
    "# Create a DataFrame with the user input\n",
    "data = pd.DataFrame({\n",
    "'Color': [color],\n",
    "'Eye_color': [eye_color],\n",
    "'Height': [height],\n",
    "'Legs': [legs],\n",
    "'Moustache': [moustache],\n",
    "'Tail': [tail],\n",
    "'Weight': [weight]\n",
    "})\n",
    "\n",
    "# predict the data \n",
    "transform_data = pipeline[\"Preprocessor\"].transform(data)\n",
    "\n",
    "predict = pipeline[\"classifier\"].predict(transform_data)\n",
    "print(\"The Label is :\" , class_map[predict[0]])\n",
    "\n"
   ]
  },
  {
   "cell_type": "code",
   "execution_count": null,
   "id": "71a6d863",
   "metadata": {},
   "outputs": [],
   "source": []
  }
 ],
 "metadata": {
  "kernelspec": {
   "display_name": "Python 3 (ipykernel)",
   "language": "python",
   "name": "python3"
  },
  "language_info": {
   "codemirror_mode": {
    "name": "ipython",
    "version": 3
   },
   "file_extension": ".py",
   "mimetype": "text/x-python",
   "name": "python",
   "nbconvert_exporter": "python",
   "pygments_lexer": "ipython3",
   "version": "3.10.9"
  }
 },
 "nbformat": 4,
 "nbformat_minor": 5
}
