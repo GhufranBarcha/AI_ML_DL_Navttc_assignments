{
 "cells": [
  {
   "cell_type": "markdown",
   "id": "cb058b69",
   "metadata": {},
   "source": [
    "## Apply all the given functions in cheat sheet and describe necessary details using Markdown"
   ]
  },
  {
   "cell_type": "code",
   "execution_count": 13,
   "id": "8c3c089c",
   "metadata": {},
   "outputs": [],
   "source": [
    "import pandas as pd\n",
    "import numpy as np\n",
    "import cv2\n",
    "import matplotlib.pyplot as plt"
   ]
  },
  {
   "cell_type": "markdown",
   "id": "010b8a34",
   "metadata": {},
   "source": [
    "# INPUT &  OUTPUT"
   ]
  },
  {
   "cell_type": "code",
   "execution_count": 294,
   "id": "483a4c14",
   "metadata": {},
   "outputs": [],
   "source": [
    "##1 imread will fetch the image from path and display it in a matrix form and default value will load img into BGR(blue-green-red) \n",
    "img = cv2.imread(\"../OpenCvDataSet/child.jpg\")  \n",
    "\n",
    "## shows the image in a different window (\"this value is Header of other window\", this will image variable)\n",
    "cv2.imshow(\"img\",img)  \n",
    "\n",
    "## Waitkey will stop image from disappering untion \n",
    "##any value is pressed (0 mean it will stop the img window untill any key is pressed or 500 for 0.5s time pause)\n",
    "cv2.waitKey(0)\n",
    "\n",
    "## It will distroy all windows which are open and stop the script\n",
    "cv2.destroyAllWindows()\n",
    "\n",
    "## It will display image in our jupyter file\n",
    "\n"
   ]
  },
  {
   "cell_type": "code",
   "execution_count": 295,
   "id": "82414fc0",
   "metadata": {},
   "outputs": [],
   "source": [
    "\n",
    "##2 it import image as it is (it does not modify or change any thing\n",
    "img2 = cv2.imread(\"../OpenCvDataSet/child.jpg\",cv2.IMREAD_UNCHANGED)\n",
    "\n",
    "cv2.imshow(\"img\",img2) \n",
    "cv2.waitKey(0)\n",
    "\n",
    "\n",
    "cv2.destroyAllWindows()\n"
   ]
  },
  {
   "cell_type": "code",
   "execution_count": 296,
   "id": "ba4101ee",
   "metadata": {},
   "outputs": [],
   "source": [
    "## IMREAD_GRAYSCALE value will load img into single-channel grayscale image \n",
    "img3 = cv2.imread(\"../OpenCvDataSet/child.jpg\",cv2.IMREAD_GRAYSCALE)\n",
    "\n",
    "cv2.imshow(\"img\",img3) \n",
    "cv2.waitKey(0)\n",
    "\n",
    "cv2.destroyAllWindows()\n"
   ]
  },
  {
   "cell_type": "markdown",
   "id": "e6a75004",
   "metadata": {},
   "source": [
    "## Color / Intensity "
   ]
  },
  {
   "cell_type": "code",
   "execution_count": 297,
   "id": "ea6d591b",
   "metadata": {},
   "outputs": [],
   "source": [
    "## cvtColor will convert the image in from bgr to gray\n",
    "bgr_gray = cv2.cvtColor(img , cv2.COLOR_BGR2GRAY)\n",
    "cv2.imshow(\"img\",bgr_gray) \n",
    "cv2.waitKey(0)\n",
    "\n",
    "cv2.destroyAllWindows()\n"
   ]
  },
  {
   "cell_type": "code",
   "execution_count": 298,
   "id": "2cada335",
   "metadata": {},
   "outputs": [],
   "source": [
    "## cvtColor will convert the image in from bgr to rgb\n",
    "bgr_rbg = cv2.cvtColor(img , cv2.COLOR_BGR2RGB)\n",
    "cv2.imshow(\"img\",bgr_rbg) \n",
    "cv2.waitKey(0)\n",
    "\n",
    "cv2.destroyAllWindows()"
   ]
  },
  {
   "cell_type": "code",
   "execution_count": 299,
   "id": "602c8d4e",
   "metadata": {},
   "outputs": [],
   "source": [
    "## cvtColor will convert the image in from gray to rgb\n",
    "bgr_rbg = cv2.cvtColor(img3 , cv2.COLOR_GRAY2RGB)\n",
    "cv2.imshow(\"img\",bgr_rbg) \n",
    "cv2.waitKey(0)\n",
    "\n",
    "cv2.destroyAllWindows()"
   ]
  },
  {
   "cell_type": "code",
   "execution_count": 300,
   "id": "a9bfc998",
   "metadata": {},
   "outputs": [],
   "source": [
    "## equalizeHist(img3) Only work with GrayScale Image Histogram equalization is a method used to \n",
    "##enhance the contrast of an image by redistributing the intensity values of pixels.\n",
    "i = cv2.equalizeHist(img3)\n",
    "cv2.imshow(\"img\",i) \n",
    "cv2.waitKey(0)\n",
    "\n",
    "cv2.destroyAllWindows()"
   ]
  },
  {
   "cell_type": "markdown",
   "id": "5f8c040e",
   "metadata": {},
   "source": [
    "# Other UseFull color Spaces"
   ]
  },
  {
   "cell_type": "code",
   "execution_count": 301,
   "id": "8a9b761d",
   "metadata": {},
   "outputs": [],
   "source": [
    "## cvtColor will convert the image in from bgr to HSV\n",
    "bgr_rbg = cv2.cvtColor(img , cv2.COLOR_BGR2HSV)\n",
    "cv2.imshow(\"img\",bgr_rbg) \n",
    "cv2.waitKey(0)\n",
    "\n",
    "cv2.destroyAllWindows()"
   ]
  },
  {
   "cell_type": "code",
   "execution_count": 302,
   "id": "4bbc6ec3",
   "metadata": {},
   "outputs": [],
   "source": [
    "## cvtColor will convert the image in from bgr to LUV\n",
    "bgr_rbg = cv2.cvtColor(img , cv2.COLOR_BGR2LUV)\n",
    "cv2.imshow(\"img\",bgr_rbg) \n",
    "cv2.waitKey(0)\n",
    "\n",
    "cv2.destroyAllWindows()"
   ]
  },
  {
   "cell_type": "code",
   "execution_count": 303,
   "id": "60cc37ec",
   "metadata": {},
   "outputs": [],
   "source": [
    "## cvtColor will convert the image in from bgr to LAB\n",
    "bgr_rbg = cv2.cvtColor(img , cv2.COLOR_BGR2LAB)\n",
    "cv2.imshow(\"img\",bgr_rbg) \n",
    "cv2.waitKey(0)\n",
    "\n",
    "cv2.destroyAllWindows()"
   ]
  },
  {
   "cell_type": "code",
   "execution_count": 304,
   "id": "d57f91a8",
   "metadata": {},
   "outputs": [],
   "source": [
    "## cvtColor will convert the image in from bgr to YCrCb\n",
    "bgr_rbg = cv2.cvtColor(img , cv2.COLOR_BGR2YCrCb)\n",
    "cv2.imshow(\"img\",bgr_rbg) \n",
    "cv2.waitKey(0)\n",
    "\n",
    "cv2.destroyAllWindows()"
   ]
  },
  {
   "cell_type": "markdown",
   "id": "b057d55e",
   "metadata": {},
   "source": [
    "# Channel Manipulation"
   ]
  },
  {
   "cell_type": "code",
   "execution_count": 305,
   "id": "050249d4",
   "metadata": {},
   "outputs": [],
   "source": [
    "## split the images into channel\n",
    "a ,b , c= cv2.split(img)\n",
    "cv2.imshow(\"img\",a) \n",
    "cv2.waitKey(1000)\n",
    "cv2.imshow(\"img\",b) \n",
    "cv2.waitKey(1000)\n",
    "cv2.imshow(\"img\",c) \n",
    "cv2.waitKey(1000)\n",
    "cv2.destroyAllWindows()"
   ]
  },
  {
   "cell_type": "code",
   "execution_count": 306,
   "id": "994f6071",
   "metadata": {},
   "outputs": [
    {
     "ename": "ValueError",
     "evalue": "not enough values to unpack (expected 4, got 3)",
     "output_type": "error",
     "traceback": [
      "\u001b[1;31m---------------------------------------------------------------------------\u001b[0m",
      "\u001b[1;31mValueError\u001b[0m                                Traceback (most recent call last)",
      "Cell \u001b[1;32mIn[306], line 3\u001b[0m\n\u001b[0;32m      1\u001b[0m \u001b[38;5;66;03m## Will split image of format (RGBA) four Channel image\u001b[39;00m\n\u001b[1;32m----> 3\u001b[0m a,b,c,d \u001b[38;5;241m=\u001b[39m cv2\u001b[38;5;241m.\u001b[39msplit(img)\n",
      "\u001b[1;31mValueError\u001b[0m: not enough values to unpack (expected 4, got 3)"
     ]
    }
   ],
   "source": [
    "## Will split image of format (RGBA) four Channel image\n",
    "\n",
    "a,b,c,d = cv2.split(img)\n",
    "\n"
   ]
  },
  {
   "cell_type": "code",
   "execution_count": 307,
   "id": "f73c8b6d",
   "metadata": {},
   "outputs": [],
   "source": [
    "merg = cv2.merge((a,b,c))\n",
    "cv2.imshow(\"img\",merg) \n",
    "cv2.waitKey(1000)\n",
    "\n",
    "cv2.destroyAllWindows()"
   ]
  },
  {
   "cell_type": "markdown",
   "id": "3b6b6a84",
   "metadata": {},
   "source": [
    "# Arthematic Operations"
   ]
  },
  {
   "cell_type": "code",
   "execution_count": 308,
   "id": "44d04d4e",
   "metadata": {},
   "outputs": [],
   "source": [
    "## add each pixel element wise\n",
    "i = cv2.add(a,b,c)\n",
    "cv2.imshow(\"img\",i) \n",
    "cv2.waitKey(1000)\n",
    "\n",
    "cv2.destroyAllWindows()"
   ]
  },
  {
   "cell_type": "code",
   "execution_count": 310,
   "id": "920f39a4",
   "metadata": {},
   "outputs": [],
   "source": [
    "## addWeight will blend the image together\n",
    "\n",
    "img4= cv2.resize(img4, (img.shape[1], img.shape[0]))\n",
    "\n",
    "# Now blend the images 'img' and 'img4_resized'\n",
    "mer = cv2.addWeighted(img, 0.7, img4, 0.5, 0.3)\n",
    "\n",
    "# Display the blended image 'mer'\n",
    "cv2.imshow(\"img\", mer)\n",
    "cv2.waitKey(1000)\n",
    "cv2.destroyAllWindows()"
   ]
  },
  {
   "cell_type": "code",
   "execution_count": 311,
   "id": "4f7447bf",
   "metadata": {},
   "outputs": [],
   "source": [
    "## subtract image 1 and 4 pixel wise\n",
    "sub = cv2.subtract( img , img4)\n",
    "cv2.imshow(\"img\",sub) \n",
    "cv2.waitKey(1000)\n",
    "\n",
    "cv2.destroyAllWindows()"
   ]
  },
  {
   "cell_type": "code",
   "execution_count": 312,
   "id": "3d8ecb89",
   "metadata": {},
   "outputs": [],
   "source": [
    "## will take absolute difference image 1 and 4 pixel wise\n",
    "sub = cv2.absdiff( img , img4)\n",
    "cv2.imshow(\"img\",sub) \n",
    "cv2.waitKey(1000)\n",
    "\n",
    "cv2.destroyAllWindows()"
   ]
  },
  {
   "cell_type": "markdown",
   "id": "11eb0a51",
   "metadata": {},
   "source": [
    "# Logical Operation"
   ]
  },
  {
   "cell_type": "code",
   "execution_count": 313,
   "id": "5286fab7",
   "metadata": {},
   "outputs": [],
   "source": [
    "## will create a inverse image (invert each bit) create a negative image\n",
    "\n",
    "nott = cv2.bitwise_not(img)\n",
    "cv2.imshow(\"img\",nott) \n",
    "cv2.waitKey(1000)\n",
    "\n",
    "cv2.destroyAllWindows()"
   ]
  },
  {
   "cell_type": "code",
   "execution_count": 314,
   "id": "acf6943e",
   "metadata": {},
   "outputs": [],
   "source": [
    "## will take bitwise_and and set value to 1 of its true or 0 if its falsw(mask image)\n",
    "andd = cv2.bitwise_and(img, img4)\n",
    "cv2.imshow(\"img\",andd) \n",
    "cv2.waitKey(1000)\n",
    "\n",
    "cv2.destroyAllWindows()"
   ]
  },
  {
   "cell_type": "code",
   "execution_count": 315,
   "id": "31f5bb05",
   "metadata": {},
   "outputs": [],
   "source": [
    "## Perform bitwise_or if both img and img4 is zero then 0 other wise 1\n",
    "\n",
    "orr = cv2.bitwise_or(img, img4)\n",
    "cv2.imshow(\"img\",orr) \n",
    "cv2.waitKey(1000)\n",
    "\n",
    "cv2.destroyAllWindows()"
   ]
  },
  {
   "cell_type": "code",
   "execution_count": 316,
   "id": "d1011ae4",
   "metadata": {},
   "outputs": [],
   "source": [
    "## Perform bitwise_xor if both img and img4 is zero then 0 other wise 1\n",
    "\n",
    "xorr = cv2.bitwise_xor(img, img4)\n",
    "cv2.imshow(\"img\",xorr) \n",
    "cv2.waitKey(1000)\n",
    "\n",
    "cv2.destroyAllWindows()"
   ]
  },
  {
   "cell_type": "markdown",
   "id": "31963635",
   "metadata": {},
   "source": [
    "# Statistic"
   ]
  },
  {
   "cell_type": "code",
   "execution_count": 317,
   "id": "f5b2f984",
   "metadata": {},
   "outputs": [
    {
     "data": {
      "text/plain": [
       "(67.64423601017442, 60.65259811046512, 46.79386900436047, 0.0)"
      ]
     },
     "execution_count": 317,
     "metadata": {},
     "output_type": "execute_result"
    }
   ],
   "source": [
    "## Mean value of blue green red and alpha\n",
    "\n",
    "mB ,mG ,mR ,mA = cv2.mean(img)\n",
    "mB ,mG ,mR ,mA"
   ]
  },
  {
   "cell_type": "code",
   "execution_count": 318,
   "id": "b0d325e1",
   "metadata": {},
   "outputs": [
    {
     "data": {
      "text/plain": [
       "(array([[67.64423601],\n",
       "        [60.65259811],\n",
       "        [46.793869  ]]),\n",
       " array([[50.63913743],\n",
       "        [57.43021442],\n",
       "        [56.71853188]]))"
      ]
     },
     "execution_count": 318,
     "metadata": {},
     "output_type": "execute_result"
    }
   ],
   "source": [
    "## will find mean and Standard deviation of each color channel\n",
    "\n",
    "mean ,sds = cv2.meanStdDev(img)\n",
    "mean ,sds"
   ]
  },
  {
   "cell_type": "code",
   "execution_count": 319,
   "id": "53b0e882",
   "metadata": {},
   "outputs": [],
   "source": [
    "## \n",
    "\n",
    "hist = cv2.calcHist([img], [0], None, [256], [0, 256])\n",
    "cv2.imshow(\"img\",hist) \n",
    "cv2.waitKey(1000)\n",
    "\n",
    "cv2.destroyAllWindows()"
   ]
  },
  {
   "cell_type": "markdown",
   "id": "b6fd8f74",
   "metadata": {},
   "source": [
    "# Filtering"
   ]
  },
  {
   "cell_type": "code",
   "execution_count": 320,
   "id": "7c1e9e28",
   "metadata": {},
   "outputs": [],
   "source": [
    "## Will blur the img\n",
    "bl = cv2.blur(img ,(20,20))\n",
    "cv2.imshow(\"img\",bl) \n",
    "cv2.waitKey(1000)\n",
    "\n",
    "cv2.destroyAllWindows()"
   ]
  },
  {
   "cell_type": "code",
   "execution_count": 321,
   "id": "d6755511",
   "metadata": {},
   "outputs": [],
   "source": [
    "## Will blur the img\n",
    "gb= cv2.GaussianBlur(img ,(5,5),sigmaX=10,sigmaY=0)\n",
    "cv2.imshow(\"img\",gb) \n",
    "cv2.waitKey(1000)\n",
    "\n",
    "cv2.destroyAllWindows()"
   ]
  },
  {
   "cell_type": "code",
   "execution_count": 322,
   "id": "a600399f",
   "metadata": {},
   "outputs": [],
   "source": [
    "## Will auto blur the img\n",
    "gb1 = cv2.GaussianBlur(img ,None,sigmaX=2,sigmaY=2)\n",
    "cv2.imshow(\"img\",gb1) \n",
    "cv2.waitKey(1000)\n",
    "\n",
    "cv2.destroyAllWindows()"
   ]
  },
  {
   "cell_type": "code",
   "execution_count": 323,
   "id": "93c3ee40",
   "metadata": {},
   "outputs": [],
   "source": [
    "## This line applies the filter to the img using a custom kernel filter specified by the value 5. \n",
    "## filter using cross correlation\n",
    "im = cv2.filter2D(img ,-1, 5)\n",
    "cv2.imshow(\"img\",im) \n",
    "cv2.waitKey(1000)\n",
    "\n",
    "cv2.destroyAllWindows()"
   ]
  },
  {
   "cell_type": "code",
   "execution_count": 324,
   "id": "ddf89173",
   "metadata": {},
   "outputs": [],
   "source": [
    "## This line applies the filter to the img using a custom kernel filter specified by the value 5. \n",
    "## \n",
    "kx = cv2.getGaussianKernel(10,-1)\n",
    "cv2.imshow(\"img\",kx) \n",
    "cv2.waitKey(1000)\n",
    "\n",
    "cv2.destroyAllWindows()"
   ]
  },
  {
   "cell_type": "code",
   "execution_count": 325,
   "id": "5c5fc3de",
   "metadata": {},
   "outputs": [],
   "source": [
    "sep = cv2.sepFilter2D(img,-1,5,1)\n",
    "cv2.imshow(\"img\",sep) \n",
    "cv2.waitKey(1000)\n",
    "\n",
    "cv2.destroyAllWindows()"
   ]
  },
  {
   "cell_type": "code",
   "execution_count": 326,
   "id": "666eb0eb",
   "metadata": {},
   "outputs": [],
   "source": [
    "bl = cv2.medianBlur(img,5)\n",
    "cv2.imshow(\"img\",bl) \n",
    "cv2.waitKey(1000)\n",
    "\n",
    "cv2.destroyAllWindows()"
   ]
  },
  {
   "cell_type": "code",
   "execution_count": null,
   "id": "3c0679c2",
   "metadata": {},
   "outputs": [],
   "source": []
  },
  {
   "cell_type": "code",
   "execution_count": null,
   "id": "69b8a3cc",
   "metadata": {},
   "outputs": [],
   "source": []
  }
 ],
 "metadata": {
  "kernelspec": {
   "display_name": "Python 3 (ipykernel)",
   "language": "python",
   "name": "python3"
  },
  "language_info": {
   "codemirror_mode": {
    "name": "ipython",
    "version": 3
   },
   "file_extension": ".py",
   "mimetype": "text/x-python",
   "name": "python",
   "nbconvert_exporter": "python",
   "pygments_lexer": "ipython3",
   "version": "3.10.9"
  }
 },
 "nbformat": 4,
 "nbformat_minor": 5
}
