{
 "cells": [
  {
   "cell_type": "markdown",
   "id": "0d390063",
   "metadata": {},
   "source": [
    "# Predicting heart disease using machine learning\n",
    "\n",
    "This notebook looj=ks into using various Python_based machine learning and data science libraries in an attempt to build a machine learning model capable of predicting whether or not someone has their medical attributes.\n",
    "\n",
    "We are going take the following approches:\n",
    "1. Problem definition\n",
    "2. Data\n",
    "3. Evaluation\n",
    "4. Features\n",
    "5. Modelling\n",
    "6. Experimentation\n",
    "\n",
    "\n",
    "## Problem definition\n",
    "We have to predict that a patient has heart disease or not \n",
    "\n",
    "##  Data\n",
    "We have taken an open source dataset from kaggle\n",
    "https://www.kaggle.com/datasets/johnsmith88/heart-disease-dataset\n",
    "\n",
    "## Evaluation\n",
    "\n",
    "\n",
    "## Features\n",
    "\n",
    "1. age\n",
    "2. sex\n",
    "3. chest pain type (4 values)\n",
    "4. resting blood pressure\n",
    "5. serum cholestoral in mg/dl\n",
    "5. fasting blood sugar > 120 mg/dl\n",
    "6. resting electrocardiographic results (values 0,1,2)\n",
    "7. maximum heart rate achieved\n",
    "8. exercise induced angina\n",
    "9. oldpeak = ST depression induced by exercise relative to rest\n",
    "10. the slope of the peak exercise ST segment\n",
    "11. number of major vessels (0-3) colored by flourosopy\n",
    "12. thal: 0 = normal; 1 = fixed defect; 2 = reversable defect\n",
    "13. The names and social security numbers of the patients were recently removed from the database, replaced with dummy values."
   ]
  },
  {
   "cell_type": "code",
   "execution_count": null,
   "id": "294f533a",
   "metadata": {},
   "outputs": [],
   "source": []
  }
 ],
 "metadata": {
  "kernelspec": {
   "display_name": "Python 3 (ipykernel)",
   "language": "python",
   "name": "python3"
  },
  "language_info": {
   "codemirror_mode": {
    "name": "ipython",
    "version": 3
   },
   "file_extension": ".py",
   "mimetype": "text/x-python",
   "name": "python",
   "nbconvert_exporter": "python",
   "pygments_lexer": "ipython3",
   "version": "3.10.9"
  }
 },
 "nbformat": 4,
 "nbformat_minor": 5
}
