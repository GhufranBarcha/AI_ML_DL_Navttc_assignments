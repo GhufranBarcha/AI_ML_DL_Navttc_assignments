{
 "cells": [
  {
   "cell_type": "code",
   "execution_count": 33,
   "id": "205a6527",
   "metadata": {},
   "outputs": [],
   "source": [
    "import numpy as np\n",
    "import pandas as pd"
   ]
  },
  {
   "cell_type": "markdown",
   "id": "134254eb",
   "metadata": {},
   "source": [
    "## DataTypes and Attributes"
   ]
  },
  {
   "cell_type": "code",
   "execution_count": 4,
   "id": "557c950d",
   "metadata": {},
   "outputs": [
    {
     "data": {
      "text/plain": [
       "array([1, 2, 3])"
      ]
     },
     "execution_count": 4,
     "metadata": {},
     "output_type": "execute_result"
    }
   ],
   "source": [
    "# numpy main datatype is ndarray\n",
    "a1 = np.array([1,2,3])\n",
    "a1"
   ]
  },
  {
   "cell_type": "code",
   "execution_count": 19,
   "id": "dc40cfd8",
   "metadata": {},
   "outputs": [
    {
     "data": {
      "text/plain": [
       "array([[[1, 2, 3],\n",
       "        [1, 5, 6],\n",
       "        [5, 6, 7]],\n",
       "\n",
       "       [[4, 5, 6],\n",
       "        [1, 3, 5],\n",
       "        [1, 4, 5]]])"
      ]
     },
     "execution_count": 19,
     "metadata": {},
     "output_type": "execute_result"
    }
   ],
   "source": [
    "a2 = np.array([\n",
    "    [\n",
    "        [1,2,3],\n",
    "        [1,5,6],\n",
    "        [5,6,7]\n",
    "    ], \n",
    "    [\n",
    "        [4,5,6],\n",
    "        [1,3,5],\n",
    "        [1,4,5]\n",
    "    ]\n",
    "])\n",
    "a2"
   ]
  },
  {
   "cell_type": "code",
   "execution_count": 21,
   "id": "70940a25",
   "metadata": {},
   "outputs": [
    {
     "data": {
      "text/plain": [
       "(3,)"
      ]
     },
     "execution_count": 21,
     "metadata": {},
     "output_type": "execute_result"
    }
   ],
   "source": [
    "a1.shape"
   ]
  },
  {
   "cell_type": "code",
   "execution_count": 22,
   "id": "557b68ea",
   "metadata": {},
   "outputs": [
    {
     "data": {
      "text/plain": [
       "(2, 3, 3)"
      ]
     },
     "execution_count": 22,
     "metadata": {},
     "output_type": "execute_result"
    }
   ],
   "source": [
    "a2.shape"
   ]
  },
  {
   "cell_type": "code",
   "execution_count": 23,
   "id": "37ef9619",
   "metadata": {},
   "outputs": [
    {
     "data": {
      "text/plain": [
       "1"
      ]
     },
     "execution_count": 23,
     "metadata": {},
     "output_type": "execute_result"
    }
   ],
   "source": [
    "a1.ndim"
   ]
  },
  {
   "cell_type": "code",
   "execution_count": 24,
   "id": "681cf2b9",
   "metadata": {},
   "outputs": [
    {
     "data": {
      "text/plain": [
       "3"
      ]
     },
     "execution_count": 24,
     "metadata": {},
     "output_type": "execute_result"
    }
   ],
   "source": [
    "a2.ndim"
   ]
  },
  {
   "cell_type": "code",
   "execution_count": 25,
   "id": "9da0540b",
   "metadata": {},
   "outputs": [
    {
     "data": {
      "text/plain": [
       "dtype('int32')"
      ]
     },
     "execution_count": 25,
     "metadata": {},
     "output_type": "execute_result"
    }
   ],
   "source": [
    "a1.dtype"
   ]
  },
  {
   "cell_type": "code",
   "execution_count": 27,
   "id": "d712d1c2",
   "metadata": {},
   "outputs": [
    {
     "data": {
      "text/plain": [
       "dtype('int32')"
      ]
     },
     "execution_count": 27,
     "metadata": {},
     "output_type": "execute_result"
    }
   ],
   "source": [
    "a2.dtype"
   ]
  },
  {
   "cell_type": "code",
   "execution_count": 29,
   "id": "b5a8912f",
   "metadata": {},
   "outputs": [
    {
     "data": {
      "text/plain": [
       "(3, 18)"
      ]
     },
     "execution_count": 29,
     "metadata": {},
     "output_type": "execute_result"
    }
   ],
   "source": [
    "a1.size,a2.size"
   ]
  },
  {
   "cell_type": "code",
   "execution_count": 30,
   "id": "a0216ff6",
   "metadata": {},
   "outputs": [
    {
     "data": {
      "text/plain": [
       "(numpy.ndarray, numpy.ndarray)"
      ]
     },
     "execution_count": 30,
     "metadata": {},
     "output_type": "execute_result"
    }
   ],
   "source": [
    "type(a1),type(a2)"
   ]
  },
  {
   "cell_type": "code",
   "execution_count": 35,
   "id": "7bfc42fb",
   "metadata": {},
   "outputs": [],
   "source": [
    "## create a dataFrame from numpy array\n",
    "\n",
    "a3 = np.array([[\"123\",2,3],\n",
    "              [1,3,5]])"
   ]
  },
  {
   "cell_type": "code",
   "execution_count": 42,
   "id": "3a926b99",
   "metadata": {},
   "outputs": [
    {
     "data": {
      "text/html": [
       "<div>\n",
       "<style scoped>\n",
       "    .dataframe tbody tr th:only-of-type {\n",
       "        vertical-align: middle;\n",
       "    }\n",
       "\n",
       "    .dataframe tbody tr th {\n",
       "        vertical-align: top;\n",
       "    }\n",
       "\n",
       "    .dataframe thead th {\n",
       "        text-align: right;\n",
       "    }\n",
       "</style>\n",
       "<table border=\"1\" class=\"dataframe\">\n",
       "  <thead>\n",
       "    <tr style=\"text-align: right;\">\n",
       "      <th></th>\n",
       "      <th>0</th>\n",
       "      <th>1</th>\n",
       "      <th>2</th>\n",
       "    </tr>\n",
       "  </thead>\n",
       "  <tbody>\n",
       "    <tr>\n",
       "      <th>0</th>\n",
       "      <td>123</td>\n",
       "      <td>2</td>\n",
       "      <td>3</td>\n",
       "    </tr>\n",
       "    <tr>\n",
       "      <th>1</th>\n",
       "      <td>1</td>\n",
       "      <td>3</td>\n",
       "      <td>5</td>\n",
       "    </tr>\n",
       "  </tbody>\n",
       "</table>\n",
       "</div>"
      ],
      "text/plain": [
       "     0  1  2\n",
       "0  123  2  3\n",
       "1    1  3  5"
      ]
     },
     "execution_count": 42,
     "metadata": {},
     "output_type": "execute_result"
    }
   ],
   "source": [
    "pd.DataFrame(a3)"
   ]
  },
  {
   "cell_type": "markdown",
   "id": "7ffcfc0d",
   "metadata": {},
   "source": [
    "## Creating numpy arrays"
   ]
  },
  {
   "cell_type": "code",
   "execution_count": 45,
   "id": "7409a038",
   "metadata": {},
   "outputs": [
    {
     "data": {
      "text/plain": [
       "array([[1., 1., 1.],\n",
       "       [1., 1., 1.]])"
      ]
     },
     "execution_count": 45,
     "metadata": {},
     "output_type": "execute_result"
    }
   ],
   "source": [
    "ones = np.ones((2,3))\n",
    "ones"
   ]
  },
  {
   "cell_type": "code",
   "execution_count": 46,
   "id": "3022669f",
   "metadata": {},
   "outputs": [
    {
     "data": {
      "text/plain": [
       "array([[0., 0., 0.],\n",
       "       [0., 0., 0.]])"
      ]
     },
     "execution_count": 46,
     "metadata": {},
     "output_type": "execute_result"
    }
   ],
   "source": [
    "np.zeros((2,3))"
   ]
  },
  {
   "cell_type": "code",
   "execution_count": 60,
   "id": "5ded6542",
   "metadata": {},
   "outputs": [
    {
     "data": {
      "text/plain": [
       "array([ 0,  2,  4,  6,  8, 10])"
      ]
     },
     "execution_count": 60,
     "metadata": {},
     "output_type": "execute_result"
    }
   ],
   "source": [
    "range_array = np.arange(0,11,2 )\n",
    "range_array"
   ]
  },
  {
   "cell_type": "code",
   "execution_count": 64,
   "id": "c6823504",
   "metadata": {},
   "outputs": [
    {
     "data": {
      "text/plain": [
       "array([[[7, 0, 2, 5, 1],\n",
       "        [5, 5, 3, 6, 7],\n",
       "        [0, 3, 4, 2, 0]],\n",
       "\n",
       "       [[2, 7, 4, 6, 8],\n",
       "        [0, 8, 9, 3, 3],\n",
       "        [0, 3, 4, 8, 3]],\n",
       "\n",
       "       [[0, 7, 0, 5, 4],\n",
       "        [2, 2, 1, 4, 3],\n",
       "        [5, 0, 5, 4, 2]]])"
      ]
     },
     "execution_count": 64,
     "metadata": {},
     "output_type": "execute_result"
    }
   ],
   "source": [
    "random_array = np.random.randint(0,10,size=(3,3,5))\n",
    "random_array"
   ]
  },
  {
   "cell_type": "code",
   "execution_count": 67,
   "id": "420fa661",
   "metadata": {},
   "outputs": [
    {
     "data": {
      "text/plain": [
       "45"
      ]
     },
     "execution_count": 67,
     "metadata": {},
     "output_type": "execute_result"
    }
   ],
   "source": [
    "random_array.size"
   ]
  },
  {
   "cell_type": "code",
   "execution_count": 69,
   "id": "cd5d6576",
   "metadata": {},
   "outputs": [
    {
     "data": {
      "text/plain": [
       "array([[0.39768579, 0.40263003, 0.45054598],\n",
       "       [0.65713937, 0.28486952, 0.98932961],\n",
       "       [0.06010541, 0.49043977, 0.7139196 ],\n",
       "       [0.20022272, 0.18631505, 0.71126682],\n",
       "       [0.26477199, 0.92317479, 0.6177756 ]])"
      ]
     },
     "execution_count": 69,
     "metadata": {},
     "output_type": "execute_result"
    }
   ],
   "source": [
    "rand = np.random.random((5,3))\n",
    "rand"
   ]
  },
  {
   "cell_type": "code",
   "execution_count": 81,
   "id": "7a7ed652",
   "metadata": {},
   "outputs": [
    {
     "data": {
      "text/plain": [
       "array([[[0.31856895, 0.66741038],\n",
       "        [0.13179786, 0.7163272 ],\n",
       "        [0.28940609, 0.18319136]],\n",
       "\n",
       "       [[0.58651293, 0.02010755],\n",
       "        [0.82894003, 0.00469548],\n",
       "        [0.67781654, 0.27000797]],\n",
       "\n",
       "       [[0.73519402, 0.96218855],\n",
       "        [0.24875314, 0.57615733],\n",
       "        [0.59204193, 0.57225191]],\n",
       "\n",
       "       [[0.22308163, 0.95274901],\n",
       "        [0.44712538, 0.84640867],\n",
       "        [0.69947928, 0.29743695]],\n",
       "\n",
       "       [[0.81379782, 0.39650574],\n",
       "        [0.8811032 , 0.58127287],\n",
       "        [0.88173536, 0.69253159]]])"
      ]
     },
     "execution_count": 81,
     "metadata": {},
     "output_type": "execute_result"
    }
   ],
   "source": [
    "rand = np.random.rand(5,3,2)\n",
    "rand"
   ]
  },
  {
   "cell_type": "markdown",
   "id": "204fc1c4",
   "metadata": {},
   "source": [
    "# They are not really random\n",
    "    They are Pseudo_Random_Numbers generated by seed"
   ]
  },
  {
   "cell_type": "code",
   "execution_count": 101,
   "id": "ce43f7df",
   "metadata": {},
   "outputs": [
    {
     "data": {
      "text/plain": [
       "array([[5, 0, 3],\n",
       "       [3, 7, 9],\n",
       "       [3, 5, 2],\n",
       "       [4, 7, 6],\n",
       "       [8, 8, 1]])"
      ]
     },
     "execution_count": 101,
     "metadata": {},
     "output_type": "execute_result"
    }
   ],
   "source": [
    "# Pseudo-Random-numbers\n",
    "np.random.seed(0)\n",
    "\n",
    "random_arr = np.random.randint(10,size=(5,3))\n",
    "random_arr"
   ]
  },
  {
   "cell_type": "code",
   "execution_count": 108,
   "id": "118f0f8e",
   "metadata": {},
   "outputs": [
    {
     "data": {
      "text/plain": [
       "array([[0.15416284, 0.7400497 , 0.26331502],\n",
       "       [0.53373939, 0.01457496, 0.91874701],\n",
       "       [0.90071485, 0.03342143, 0.95694934],\n",
       "       [0.13720932, 0.28382835, 0.60608318],\n",
       "       [0.94422514, 0.85273554, 0.00225923]])"
      ]
     },
     "execution_count": 108,
     "metadata": {},
     "output_type": "execute_result"
    }
   ],
   "source": [
    "np.random.seed(12)\n",
    "random_arr1 = np.random.random((5,3))\n",
    "random_arr1"
   ]
  },
  {
   "cell_type": "code",
   "execution_count": null,
   "id": "a57b9478",
   "metadata": {},
   "outputs": [],
   "source": []
  },
  {
   "cell_type": "markdown",
   "id": "47f7c347",
   "metadata": {},
   "source": [
    "## Different Ways of Viewing Arrays"
   ]
  },
  {
   "cell_type": "code",
   "execution_count": 112,
   "id": "4c2d32b6",
   "metadata": {},
   "outputs": [
    {
     "data": {
      "text/plain": [
       "array([0, 1, 2, 3, 4, 5, 6, 7, 8, 9])"
      ]
     },
     "execution_count": 112,
     "metadata": {},
     "output_type": "execute_result"
    }
   ],
   "source": [
    "arr = np.unique(np.arange(10))\n",
    "arr"
   ]
  },
  {
   "cell_type": "code",
   "execution_count": 118,
   "id": "5a340306",
   "metadata": {},
   "outputs": [
    {
     "data": {
      "text/plain": [
       "array([9, 7, 5, 3, 1])"
      ]
     },
     "execution_count": 118,
     "metadata": {},
     "output_type": "execute_result"
    }
   ],
   "source": [
    "arr[::-2]"
   ]
  },
  {
   "cell_type": "code",
   "execution_count": 119,
   "id": "bf924309",
   "metadata": {},
   "outputs": [
    {
     "data": {
      "text/plain": [
       "array([[1, 2, 3],\n",
       "       [1, 3, 5]])"
      ]
     },
     "execution_count": 119,
     "metadata": {},
     "output_type": "execute_result"
    }
   ],
   "source": [
    "a2"
   ]
  },
  {
   "cell_type": "code",
   "execution_count": 126,
   "id": "393508c9",
   "metadata": {},
   "outputs": [
    {
     "data": {
      "text/plain": [
       "array([1, 3])"
      ]
     },
     "execution_count": 126,
     "metadata": {},
     "output_type": "execute_result"
    }
   ],
   "source": [
    "a2[1,:-1]"
   ]
  },
  {
   "cell_type": "code",
   "execution_count": 128,
   "id": "8c94e623",
   "metadata": {},
   "outputs": [
    {
     "data": {
      "text/plain": [
       "array([[[ 6, 15,  1,  4],\n",
       "        [12,  5, 10,  9],\n",
       "        [ 2,  4, 16, 12]],\n",
       "\n",
       "       [[ 4,  3,  7, 19],\n",
       "        [17,  4, 14, 10],\n",
       "        [12, 19,  8,  8]],\n",
       "\n",
       "       [[ 9, 14,  4, 15],\n",
       "        [ 4,  1, 17, 11],\n",
       "        [ 4, 19, 18, 11]],\n",
       "\n",
       "       [[12,  0,  1,  4],\n",
       "        [ 6,  5,  2, 10],\n",
       "        [ 0, 17,  2, 10]],\n",
       "\n",
       "       [[18, 16, 17, 10],\n",
       "        [ 7,  7, 17,  6],\n",
       "        [17,  3, 15,  0]]])"
      ]
     },
     "execution_count": 128,
     "metadata": {},
     "output_type": "execute_result"
    }
   ],
   "source": [
    "arr3 = np.random.randint(20,size=(5,3,4))\n",
    "arr3"
   ]
  },
  {
   "cell_type": "code",
   "execution_count": 145,
   "id": "f842114a",
   "metadata": {},
   "outputs": [
    {
     "data": {
      "text/plain": [
       "array([[ 6, 15,  1],\n",
       "       [12,  5, 10]])"
      ]
     },
     "execution_count": 145,
     "metadata": {},
     "output_type": "execute_result"
    }
   ],
   "source": [
    "arr3[0,:2,:3]"
   ]
  },
  {
   "cell_type": "markdown",
   "id": "9f0b15c6",
   "metadata": {},
   "source": [
    "## Manipulations and Comparing Arrays"
   ]
  },
  {
   "cell_type": "code",
   "execution_count": 169,
   "id": "cbb9ab0a",
   "metadata": {},
   "outputs": [
    {
     "data": {
      "text/plain": [
       "(array([1, 2, 3]),\n",
       " array([[2, 8, 9],\n",
       "        [3, 5, 9]]))"
      ]
     },
     "execution_count": 169,
     "metadata": {},
     "output_type": "execute_result"
    }
   ],
   "source": [
    "a1 = np.array([1,2,3])\n",
    "a2 = np.random.randint(0,10,size=(2,3))\n",
    "\n",
    "a1,a2\n"
   ]
  },
  {
   "cell_type": "code",
   "execution_count": 161,
   "id": "3a1c5c1c",
   "metadata": {},
   "outputs": [
    {
     "data": {
      "text/plain": [
       "array([1., 1., 1.])"
      ]
     },
     "execution_count": 161,
     "metadata": {},
     "output_type": "execute_result"
    }
   ],
   "source": [
    "ones = np.ones(3)\n",
    "ones"
   ]
  },
  {
   "cell_type": "code",
   "execution_count": 151,
   "id": "9bae5316",
   "metadata": {},
   "outputs": [
    {
     "data": {
      "text/plain": [
       "array([2., 3., 4.])"
      ]
     },
     "execution_count": 151,
     "metadata": {},
     "output_type": "execute_result"
    }
   ],
   "source": [
    "a1 + ones"
   ]
  },
  {
   "cell_type": "code",
   "execution_count": 152,
   "id": "f09f4a97",
   "metadata": {},
   "outputs": [
    {
     "data": {
      "text/plain": [
       "array([0., 1., 2.])"
      ]
     },
     "execution_count": 152,
     "metadata": {},
     "output_type": "execute_result"
    }
   ],
   "source": [
    "a1 - ones"
   ]
  },
  {
   "cell_type": "code",
   "execution_count": 155,
   "id": "47cd08dd",
   "metadata": {},
   "outputs": [
    {
     "data": {
      "text/plain": [
       "array([1., 2., 3.])"
      ]
     },
     "execution_count": 155,
     "metadata": {},
     "output_type": "execute_result"
    }
   ],
   "source": [
    "a1 * ones"
   ]
  },
  {
   "cell_type": "code",
   "execution_count": 156,
   "id": "397c9a50",
   "metadata": {},
   "outputs": [
    {
     "data": {
      "text/plain": [
       "array([ 5, 10, 15])"
      ]
     },
     "execution_count": 156,
     "metadata": {},
     "output_type": "execute_result"
    }
   ],
   "source": [
    "a1 * 5"
   ]
  },
  {
   "cell_type": "code",
   "execution_count": 167,
   "id": "a280763c",
   "metadata": {},
   "outputs": [
    {
     "data": {
      "text/plain": [
       "array([[2, 3, 1],\n",
       "       [9, 3, 2]])"
      ]
     },
     "execution_count": 167,
     "metadata": {},
     "output_type": "execute_result"
    }
   ],
   "source": [
    "a2"
   ]
  },
  {
   "cell_type": "code",
   "execution_count": 176,
   "id": "08e99c60",
   "metadata": {},
   "outputs": [
    {
     "data": {
      "text/plain": [
       "array([[    1,   256, 19683],\n",
       "       [    1,    32, 19683]])"
      ]
     },
     "execution_count": 176,
     "metadata": {},
     "output_type": "execute_result"
    }
   ],
   "source": [
    "a1 ** a2"
   ]
  },
  {
   "cell_type": "code",
   "execution_count": 177,
   "id": "0b4e050d",
   "metadata": {},
   "outputs": [
    {
     "data": {
      "text/plain": [
       "array([[0.5       , 0.25      , 0.33333333],\n",
       "       [0.33333333, 0.4       , 0.33333333]])"
      ]
     },
     "execution_count": 177,
     "metadata": {},
     "output_type": "execute_result"
    }
   ],
   "source": [
    "a1 / a2"
   ]
  },
  {
   "cell_type": "code",
   "execution_count": 178,
   "id": "462ac769",
   "metadata": {},
   "outputs": [
    {
     "data": {
      "text/plain": [
       "array([[-1, -6, -6],\n",
       "       [-2, -3, -6]])"
      ]
     },
     "execution_count": 178,
     "metadata": {},
     "output_type": "execute_result"
    }
   ],
   "source": [
    "a1 - a2"
   ]
  },
  {
   "cell_type": "markdown",
   "id": "61ea6853",
   "metadata": {},
   "source": [
    "# Agregation "
   ]
  },
  {
   "cell_type": "code",
   "execution_count": 179,
   "id": "3df4f9b2",
   "metadata": {},
   "outputs": [
    {
     "data": {
      "text/plain": [
       "95"
      ]
     },
     "execution_count": 179,
     "metadata": {},
     "output_type": "execute_result"
    }
   ],
   "source": [
    "lsty_list = [1,2,34,56,2]\n",
    "sum(lsty_list)"
   ]
  },
  {
   "cell_type": "code",
   "execution_count": 181,
   "id": "396c1462",
   "metadata": {},
   "outputs": [
    {
     "data": {
      "text/plain": [
       "95"
      ]
     },
     "execution_count": 181,
     "metadata": {},
     "output_type": "execute_result"
    }
   ],
   "source": [
    "# Use  np.sum in numpy array instead of python sum\n",
    "np.sum(lsty_list)"
   ]
  },
  {
   "cell_type": "code",
   "execution_count": 184,
   "id": "cc8430ba",
   "metadata": {},
   "outputs": [
    {
     "data": {
      "text/plain": [
       "array([0.62584055, 0.55695782, 0.26101452, ..., 0.89223498, 0.6242294 ,\n",
       "       0.01785259])"
      ]
     },
     "execution_count": 184,
     "metadata": {},
     "output_type": "execute_result"
    }
   ],
   "source": [
    "z =np.random.rand(1000000)\n",
    "z    "
   ]
  },
  {
   "cell_type": "code",
   "execution_count": 186,
   "id": "57e7506a",
   "metadata": {},
   "outputs": [
    {
     "name": "stdout",
     "output_type": "stream",
     "text": [
      "103 ms ± 886 µs per loop (mean ± std. dev. of 7 runs, 10 loops each)\n",
      "1.48 ms ± 85 µs per loop (mean ± std. dev. of 7 runs, 1,000 loops each)\n"
     ]
    }
   ],
   "source": [
    "%timeit sum(z)\n",
    "%timeit np.sum(z)"
   ]
  },
  {
   "cell_type": "code",
   "execution_count": 188,
   "id": "396ee9fb",
   "metadata": {},
   "outputs": [
    {
     "data": {
      "text/plain": [
       "0.01371775655974583"
      ]
     },
     "execution_count": 188,
     "metadata": {},
     "output_type": "execute_result"
    }
   ],
   "source": [
    "z = z[:100]\n",
    "np.min(z)"
   ]
  },
  {
   "cell_type": "code",
   "execution_count": 190,
   "id": "58b06c20",
   "metadata": {},
   "outputs": [
    {
     "data": {
      "text/plain": [
       "0.9562750370907139"
      ]
     },
     "execution_count": 190,
     "metadata": {},
     "output_type": "execute_result"
    }
   ],
   "source": [
    "np.max(z)"
   ]
  },
  {
   "cell_type": "code",
   "execution_count": 191,
   "id": "f5726071",
   "metadata": {},
   "outputs": [
    {
     "data": {
      "text/plain": [
       "0.28850126382214697"
      ]
     },
     "execution_count": 191,
     "metadata": {},
     "output_type": "execute_result"
    }
   ],
   "source": [
    "np.std(z)"
   ]
  },
  {
   "cell_type": "code",
   "execution_count": 192,
   "id": "2b04ce85",
   "metadata": {},
   "outputs": [
    {
     "data": {
      "text/plain": [
       "0.08323297922697603"
      ]
     },
     "execution_count": 192,
     "metadata": {},
     "output_type": "execute_result"
    }
   ],
   "source": [
    "np.var(z)"
   ]
  },
  {
   "cell_type": "code",
   "execution_count": 194,
   "id": "f4299af4",
   "metadata": {},
   "outputs": [
    {
     "data": {
      "text/plain": [
       "0.5209100856204567"
      ]
     },
     "execution_count": 194,
     "metadata": {},
     "output_type": "execute_result"
    }
   ],
   "source": [
    "np.median(z)"
   ]
  },
  {
   "cell_type": "code",
   "execution_count": 203,
   "id": "c70606d4",
   "metadata": {},
   "outputs": [
    {
     "name": "stderr",
     "output_type": "stream",
     "text": [
      "C:\\Users\\Barcha\\AppData\\Local\\Temp\\ipykernel_6216\\2168335576.py:2: FutureWarning: Unlike other reduction functions (e.g. `skew`, `kurtosis`), the default behavior of `mode` typically preserves the axis it acts along. In SciPy 1.11.0, this behavior will change: the default value of `keepdims` will become False, the `axis` over which the statistic is taken will be eliminated, and the value None will no longer be accepted. Set `keepdims` to True or False to avoid this warning.\n",
      "  st.mode(z);\n"
     ]
    }
   ],
   "source": [
    "from scipy import stats as st\n",
    "st.mode(z);"
   ]
  },
  {
   "cell_type": "markdown",
   "id": "8e6e3c24",
   "metadata": {},
   "source": [
    "# DEmo & Varience in Std and var"
   ]
  },
  {
   "cell_type": "code",
   "execution_count": 206,
   "id": "d110c93b",
   "metadata": {},
   "outputs": [
    {
     "data": {
      "text/plain": [
       "(101600.0, 10.16)"
      ]
     },
     "execution_count": 206,
     "metadata": {},
     "output_type": "execute_result"
    }
   ],
   "source": [
    "high_var= np.array([100,200,300,500,1000])\n",
    "low_var = np.array([1,2,3,5,10])\n",
    "\n",
    "np.var(high_var),np.var(low_var)\n",
    "# As you can see from Varience \n",
    "\n"
   ]
  },
  {
   "cell_type": "code",
   "execution_count": 222,
   "id": "105eb904",
   "metadata": {},
   "outputs": [
    {
     "data": {
      "image/png": "[encoded data removed]",
      "text/plain": [
       "<Figure size 640x480 with 1 Axes>"
      ]
     },
     "metadata": {},
     "output_type": "display_data"
    }
   ],
   "source": [
    "import matplotlib.pyplot as plt\n",
    "plt.pie(high_var,autopct='%1.1f%%',labels=high_var,startangle=40, shadow=False);\n",
    "plt.show()"
   ]
  },
  {
   "cell_type": "markdown",
   "id": "5e9bed37",
   "metadata": {},
   "source": [
    "## Change the shape of numpy array"
   ]
  },
  {
   "cell_type": "code",
   "execution_count": 225,
   "id": "0214f1e4",
   "metadata": {},
   "outputs": [
    {
     "data": {
      "text/plain": [
       "array([[2, 8, 9],\n",
       "       [3, 5, 9]])"
      ]
     },
     "execution_count": 225,
     "metadata": {},
     "output_type": "execute_result"
    }
   ],
   "source": [
    "a2\n"
   ]
  },
  {
   "cell_type": "code",
   "execution_count": 234,
   "id": "ed5ae8e6",
   "metadata": {},
   "outputs": [
    {
     "data": {
      "text/plain": [
       "array([[2],\n",
       "       [8],\n",
       "       [9],\n",
       "       [3],\n",
       "       [5],\n",
       "       [9]])"
      ]
     },
     "execution_count": 234,
     "metadata": {},
     "output_type": "execute_result"
    }
   ],
   "source": [
    "a1 =a2.reshape(-1,1)\n",
    "a1"
   ]
  },
  {
   "cell_type": "code",
   "execution_count": 231,
   "id": "654224ee",
   "metadata": {},
   "outputs": [
    {
     "data": {
      "text/plain": [
       "array([[2, 3],\n",
       "       [8, 5],\n",
       "       [9, 9]])"
      ]
     },
     "execution_count": 231,
     "metadata": {},
     "output_type": "execute_result"
    }
   ],
   "source": [
    "a2.T"
   ]
  },
  {
   "cell_type": "code",
   "execution_count": 240,
   "id": "b78a959c",
   "metadata": {},
   "outputs": [
    {
     "data": {
      "text/plain": [
       "(3, 2, 1)"
      ]
     },
     "execution_count": 240,
     "metadata": {},
     "output_type": "execute_result"
    }
   ],
   "source": [
    "a1 = np.random.randint(0,10,size=(3,2,1))\n",
    "a1.shape"
   ]
  },
  {
   "cell_type": "code",
   "execution_count": 241,
   "id": "13df7f2d",
   "metadata": {},
   "outputs": [
    {
     "data": {
      "text/plain": [
       "(1, 2, 3)"
      ]
     },
     "execution_count": 241,
     "metadata": {},
     "output_type": "execute_result"
    }
   ],
   "source": [
    "a1.T.shape"
   ]
  },
  {
   "cell_type": "markdown",
   "id": "ca4aded7",
   "metadata": {},
   "source": [
    "# Dot product numpy"
   ]
  },
  {
   "cell_type": "code",
   "execution_count": 276,
   "id": "7f5cafc1",
   "metadata": {},
   "outputs": [],
   "source": [
    "np.random.seed(1)\n",
    "mat1 = np.random.randint(0,10,size = (3,1,1))\n",
    "\n"
   ]
  },
  {
   "cell_type": "code",
   "execution_count": 277,
   "id": "8aa48784",
   "metadata": {},
   "outputs": [],
   "source": [
    "np.random.seed(20)\n",
    "mat2 = np.random.randint(0,10,size = (1,2))"
   ]
  },
  {
   "cell_type": "code",
   "execution_count": 278,
   "id": "c9cda3f3",
   "metadata": {},
   "outputs": [
    {
     "data": {
      "text/plain": [
       "array([[[5]],\n",
       "\n",
       "       [[8]],\n",
       "\n",
       "       [[9]]])"
      ]
     },
     "execution_count": 278,
     "metadata": {},
     "output_type": "execute_result"
    }
   ],
   "source": [
    "mat1"
   ]
  },
  {
   "cell_type": "code",
   "execution_count": 279,
   "id": "da0af713",
   "metadata": {},
   "outputs": [
    {
     "data": {
      "text/plain": [
       "array([[3, 9]])"
      ]
     },
     "execution_count": 279,
     "metadata": {},
     "output_type": "execute_result"
    }
   ],
   "source": [
    "mat2"
   ]
  },
  {
   "cell_type": "code",
   "execution_count": 282,
   "id": "99a1a310",
   "metadata": {},
   "outputs": [
    {
     "data": {
      "text/plain": [
       "array([[[15, 45]],\n",
       "\n",
       "       [[24, 72]],\n",
       "\n",
       "       [[27, 81]]])"
      ]
     },
     "execution_count": 282,
     "metadata": {},
     "output_type": "execute_result"
    }
   ],
   "source": [
    "np.dot(mat1,mat2)"
   ]
  },
  {
   "cell_type": "markdown",
   "id": "978f637c",
   "metadata": {},
   "source": [
    "## Dot Product Nut and bolts"
   ]
  },
  {
   "cell_type": "code",
   "execution_count": 285,
   "id": "f71bff8f",
   "metadata": {},
   "outputs": [
    {
     "data": {
      "text/plain": [
       "array([[12, 15,  0],\n",
       "       [ 3,  3,  7],\n",
       "       [ 9, 19, 18],\n",
       "       [ 4,  6, 12],\n",
       "       [ 1,  6,  7]])"
      ]
     },
     "execution_count": 285,
     "metadata": {},
     "output_type": "execute_result"
    }
   ],
   "source": [
    "np.random.seed(0)\n",
    "sales_amount = np.random.randint(20,size=(5,3))\n",
    "sales_amount"
   ]
  },
  {
   "cell_type": "code",
   "execution_count": 287,
   "id": "c8e5a0a9",
   "metadata": {},
   "outputs": [
    {
     "data": {
      "text/html": [
       "<div>\n",
       "<style scoped>\n",
       "    .dataframe tbody tr th:only-of-type {\n",
       "        vertical-align: middle;\n",
       "    }\n",
       "\n",
       "    .dataframe tbody tr th {\n",
       "        vertical-align: top;\n",
       "    }\n",
       "\n",
       "    .dataframe thead th {\n",
       "        text-align: right;\n",
       "    }\n",
       "</style>\n",
       "<table border=\"1\" class=\"dataframe\">\n",
       "  <thead>\n",
       "    <tr style=\"text-align: right;\">\n",
       "      <th></th>\n",
       "      <th>Almond butter</th>\n",
       "      <th>Peanat Butter</th>\n",
       "      <th>cassbew</th>\n",
       "    </tr>\n",
       "  </thead>\n",
       "  <tbody>\n",
       "    <tr>\n",
       "      <th>Mon</th>\n",
       "      <td>12</td>\n",
       "      <td>15</td>\n",
       "      <td>0</td>\n",
       "    </tr>\n",
       "    <tr>\n",
       "      <th>Tues</th>\n",
       "      <td>3</td>\n",
       "      <td>3</td>\n",
       "      <td>7</td>\n",
       "    </tr>\n",
       "    <tr>\n",
       "      <th>wed</th>\n",
       "      <td>9</td>\n",
       "      <td>19</td>\n",
       "      <td>18</td>\n",
       "    </tr>\n",
       "    <tr>\n",
       "      <th>Thurs</th>\n",
       "      <td>4</td>\n",
       "      <td>6</td>\n",
       "      <td>12</td>\n",
       "    </tr>\n",
       "    <tr>\n",
       "      <th>Fri</th>\n",
       "      <td>1</td>\n",
       "      <td>6</td>\n",
       "      <td>7</td>\n",
       "    </tr>\n",
       "  </tbody>\n",
       "</table>\n",
       "</div>"
      ],
      "text/plain": [
       "       Almond butter  Peanat Butter  cassbew\n",
       "Mon               12             15        0\n",
       "Tues               3              3        7\n",
       "wed                9             19       18\n",
       "Thurs              4              6       12\n",
       "Fri                1              6        7"
      ]
     },
     "execution_count": 287,
     "metadata": {},
     "output_type": "execute_result"
    }
   ],
   "source": [
    "weekly_sales = pd.DataFrame(sales_amount, index=[\"Mon\",\"Tues\" ,\"wed\" ,\"Thurs\" , \"Fri\"],\n",
    "                           columns=[\"Almond butter\",\"Peanat Butter\",\"cassbew\"])\n",
    "weekly_sales"
   ]
  },
  {
   "cell_type": "code",
   "execution_count": 292,
   "id": "7eecb5e4",
   "metadata": {},
   "outputs": [
    {
     "data": {
      "text/html": [
       "<div>\n",
       "<style scoped>\n",
       "    .dataframe tbody tr th:only-of-type {\n",
       "        vertical-align: middle;\n",
       "    }\n",
       "\n",
       "    .dataframe tbody tr th {\n",
       "        vertical-align: top;\n",
       "    }\n",
       "\n",
       "    .dataframe thead th {\n",
       "        text-align: right;\n",
       "    }\n",
       "</style>\n",
       "<table border=\"1\" class=\"dataframe\">\n",
       "  <thead>\n",
       "    <tr style=\"text-align: right;\">\n",
       "      <th></th>\n",
       "      <th>Almond butter</th>\n",
       "      <th>Peanat Butter</th>\n",
       "      <th>cassbew</th>\n",
       "    </tr>\n",
       "  </thead>\n",
       "  <tbody>\n",
       "    <tr>\n",
       "      <th>price</th>\n",
       "      <td>10</td>\n",
       "      <td>12</td>\n",
       "      <td>9</td>\n",
       "    </tr>\n",
       "  </tbody>\n",
       "</table>\n",
       "</div>"
      ],
      "text/plain": [
       "       Almond butter  Peanat Butter  cassbew\n",
       "price             10             12        9"
      ]
     },
     "execution_count": 292,
     "metadata": {},
     "output_type": "execute_result"
    }
   ],
   "source": [
    "prices = np.array([10,12,9])\n",
    "\n",
    "butter_prices = pd.DataFrame(prices.reshape(1,3),index=[\"price\"],columns=[\"Almond butter\",\"Peanat Butter\",\"cassbew\"])\n",
    "butter_prices"
   ]
  },
  {
   "cell_type": "markdown",
   "id": "3912eb66",
   "metadata": {},
   "source": [
    "## Comparison operators"
   ]
  },
  {
   "cell_type": "code",
   "execution_count": 305,
   "id": "7cb4eefe",
   "metadata": {},
   "outputs": [],
   "source": [
    "a1 = np.array([1,2,3])\n",
    "a2 = np.random.randint(10,size=(2,3))\n"
   ]
  },
  {
   "cell_type": "code",
   "execution_count": 296,
   "id": "12063f88",
   "metadata": {},
   "outputs": [
    {
     "data": {
      "text/plain": [
       "array([1, 2, 3])"
      ]
     },
     "execution_count": 296,
     "metadata": {},
     "output_type": "execute_result"
    }
   ],
   "source": [
    "a1"
   ]
  },
  {
   "cell_type": "code",
   "execution_count": 297,
   "id": "b4fd75b7",
   "metadata": {},
   "outputs": [
    {
     "data": {
      "text/plain": [
       "array([[9, 4, 3],\n",
       "       [0, 3, 5]])"
      ]
     },
     "execution_count": 297,
     "metadata": {},
     "output_type": "execute_result"
    }
   ],
   "source": [
    "a2"
   ]
  },
  {
   "cell_type": "code",
   "execution_count": 298,
   "id": "ea210477",
   "metadata": {},
   "outputs": [
    {
     "data": {
      "text/plain": [
       "array([False, False, False])"
      ]
     },
     "execution_count": 298,
     "metadata": {},
     "output_type": "execute_result"
    }
   ],
   "source": [
    "a1 >5"
   ]
  },
  {
   "cell_type": "code",
   "execution_count": 299,
   "id": "e46d79fb",
   "metadata": {},
   "outputs": [
    {
     "data": {
      "text/plain": [
       "array([[False, False,  True],\n",
       "       [False, False, False]])"
      ]
     },
     "execution_count": 299,
     "metadata": {},
     "output_type": "execute_result"
    }
   ],
   "source": [
    "a1 == a2"
   ]
  },
  {
   "cell_type": "code",
   "execution_count": 310,
   "id": "69a6f8f1",
   "metadata": {},
   "outputs": [
    {
     "data": {
      "text/plain": [
       "array([[0, 1, 7],\n",
       "       [3, 3, 9]])"
      ]
     },
     "execution_count": 310,
     "metadata": {},
     "output_type": "execute_result"
    }
   ],
   "source": [
    "np.sort(a2 , axis = 0 )\n"
   ]
  },
  {
   "cell_type": "code",
   "execution_count": 311,
   "id": "2d007000",
   "metadata": {},
   "outputs": [
    {
     "data": {
      "text/plain": [
       "array([[0, 1, 2],\n",
       "       [0, 1, 2]], dtype=int64)"
      ]
     },
     "execution_count": 311,
     "metadata": {},
     "output_type": "execute_result"
    }
   ],
   "source": [
    "np.argsort(a2)"
   ]
  },
  {
   "cell_type": "code",
   "execution_count": 312,
   "id": "61b257fd",
   "metadata": {},
   "outputs": [
    {
     "data": {
      "text/plain": [
       "array([1, 2, 3])"
      ]
     },
     "execution_count": 312,
     "metadata": {},
     "output_type": "execute_result"
    }
   ],
   "source": [
    "a1"
   ]
  },
  {
   "cell_type": "code",
   "execution_count": 313,
   "id": "ccb9d4d3",
   "metadata": {},
   "outputs": [
    {
     "data": {
      "text/plain": [
       "array([0, 1, 2], dtype=int64)"
      ]
     },
     "execution_count": 313,
     "metadata": {},
     "output_type": "execute_result"
    }
   ],
   "source": [
    "np.argsort(a1)"
   ]
  },
  {
   "cell_type": "code",
   "execution_count": 323,
   "id": "d5f9b14b",
   "metadata": {},
   "outputs": [
    {
     "data": {
      "text/plain": [
       "array([[3, 3, 7],\n",
       "       [0, 1, 9]])"
      ]
     },
     "execution_count": 323,
     "metadata": {},
     "output_type": "execute_result"
    }
   ],
   "source": [
    "a2"
   ]
  },
  {
   "cell_type": "code",
   "execution_count": 322,
   "id": "19c07c68",
   "metadata": {},
   "outputs": [
    {
     "data": {
      "text/plain": [
       "array([[1, 1, 1],\n",
       "       [3, 3, 1]])"
      ]
     },
     "execution_count": 322,
     "metadata": {},
     "output_type": "execute_result"
    }
   ],
   "source": [
    "np.where(a2 > 2,1,3)"
   ]
  },
  {
   "cell_type": "markdown",
   "id": "ebbd0dd1",
   "metadata": {},
   "source": [
    " # Convert an image into ndarrays"
   ]
  },
  {
   "cell_type": "markdown",
   "id": "a7f4ea2a",
   "metadata": {},
   "source": [
    "<img src=\"panda.png\"/>\n"
   ]
  },
  {
   "cell_type": "code",
   "execution_count": 337,
   "id": "282d7a69",
   "metadata": {},
   "outputs": [
    {
     "data": {
      "text/plain": [
       "(array([[[0.05490196, 0.10588235, 0.06666667],\n",
       "         [0.05490196, 0.10588235, 0.06666667],\n",
       "         [0.05490196, 0.10588235, 0.06666667],\n",
       "         ...,\n",
       "         [0.16470589, 0.12941177, 0.09411765],\n",
       "         [0.16470589, 0.12941177, 0.09411765],\n",
       "         [0.16470589, 0.12941177, 0.09411765]],\n",
       " \n",
       "        [[0.05490196, 0.10588235, 0.06666667],\n",
       "         [0.05490196, 0.10588235, 0.06666667],\n",
       "         [0.05490196, 0.10588235, 0.06666667],\n",
       "         ...,\n",
       "         [0.16470589, 0.12941177, 0.09411765],\n",
       "         [0.16470589, 0.12941177, 0.09411765],\n",
       "         [0.16470589, 0.12941177, 0.09411765]],\n",
       " \n",
       "        [[0.05490196, 0.10588235, 0.06666667],\n",
       "         [0.05490196, 0.10588235, 0.06666667],\n",
       "         [0.05490196, 0.10588235, 0.06666667],\n",
       "         ...,\n",
       "         [0.16470589, 0.12941177, 0.09411765],\n",
       "         [0.16470589, 0.12941177, 0.09411765],\n",
       "         [0.16470589, 0.12941177, 0.09411765]],\n",
       " \n",
       "        ...,\n",
       " \n",
       "        [[0.13333334, 0.07450981, 0.05490196],\n",
       "         [0.12156863, 0.0627451 , 0.04313726],\n",
       "         [0.10980392, 0.05098039, 0.03137255],\n",
       "         ...,\n",
       "         [0.02745098, 0.02745098, 0.03529412],\n",
       "         [0.02745098, 0.02745098, 0.03529412],\n",
       "         [0.02745098, 0.02745098, 0.03529412]],\n",
       " \n",
       "        [[0.13333334, 0.07450981, 0.05490196],\n",
       "         [0.12156863, 0.0627451 , 0.04313726],\n",
       "         [0.12156863, 0.0627451 , 0.04313726],\n",
       "         ...,\n",
       "         [0.02352941, 0.02352941, 0.03137255],\n",
       "         [0.02352941, 0.02352941, 0.03137255],\n",
       "         [0.02352941, 0.02352941, 0.03137255]],\n",
       " \n",
       "        [[0.13333334, 0.07450981, 0.05490196],\n",
       "         [0.12156863, 0.0627451 , 0.04313726],\n",
       "         [0.12156863, 0.0627451 , 0.04313726],\n",
       "         ...,\n",
       "         [0.02352941, 0.02352941, 0.03137255],\n",
       "         [0.02352941, 0.02352941, 0.03137255],\n",
       "         [0.02352941, 0.02352941, 0.03137255]]], dtype=float32),\n",
       " (2330, 3500, 3),\n",
       " 24465000)"
      ]
     },
     "execution_count": 337,
     "metadata": {},
     "output_type": "execute_result"
    }
   ],
   "source": [
    "from matplotlib.image import imread\n",
    "\n",
    "panda = imread(\"panda.png\")\n",
    "panda,panda.shape, panda.size"
   ]
  },
  {
   "cell_type": "markdown",
   "id": "2e0541c3",
   "metadata": {},
   "source": [
    "# Car"
   ]
  },
  {
   "cell_type": "markdown",
   "id": "e5924c11",
   "metadata": {},
   "source": [
    "<img src=\"car-photo.png\" />"
   ]
  },
  {
   "cell_type": "code",
   "execution_count": 339,
   "id": "abd40dcd",
   "metadata": {},
   "outputs": [
    {
     "data": {
      "text/plain": [
       "array([[[0.5019608 , 0.50980395, 0.4862745 , 1.        ],\n",
       "        [0.3372549 , 0.34509805, 0.30588236, 1.        ],\n",
       "        [0.20392157, 0.21568628, 0.14901961, 1.        ],\n",
       "        ...,\n",
       "        [0.64705884, 0.7058824 , 0.54901963, 1.        ],\n",
       "        [0.59607846, 0.63529414, 0.45882353, 1.        ],\n",
       "        [0.44705883, 0.47058824, 0.3372549 , 1.        ]],\n",
       "\n",
       "       [[0.44313726, 0.43529412, 0.40392157, 1.        ],\n",
       "        [0.3137255 , 0.31764707, 0.27450982, 1.        ],\n",
       "        [0.2       , 0.21176471, 0.14117648, 1.        ],\n",
       "        ...,\n",
       "        [0.5058824 , 0.5372549 , 0.4117647 , 1.        ],\n",
       "        [0.49803922, 0.52156866, 0.39607844, 1.        ],\n",
       "        [0.4       , 0.42745098, 0.34117648, 1.        ]],\n",
       "\n",
       "       [[0.39607844, 0.38039216, 0.34117648, 1.        ],\n",
       "        [0.31764707, 0.3137255 , 0.27450982, 1.        ],\n",
       "        [0.28627452, 0.29411766, 0.24705882, 1.        ],\n",
       "        ...,\n",
       "        [0.44705883, 0.45882353, 0.32156864, 1.        ],\n",
       "        [0.45882353, 0.48235294, 0.3529412 , 1.        ],\n",
       "        [0.4509804 , 0.49019608, 0.38039216, 1.        ]],\n",
       "\n",
       "       ...,\n",
       "\n",
       "       [[0.47058824, 0.57254905, 0.6313726 , 1.        ],\n",
       "        [0.4392157 , 0.53333336, 0.5882353 , 1.        ],\n",
       "        [0.48235294, 0.5803922 , 0.6392157 , 1.        ],\n",
       "        ...,\n",
       "        [0.6156863 , 0.7529412 , 0.827451  , 1.        ],\n",
       "        [0.61960787, 0.7607843 , 0.83137256, 1.        ],\n",
       "        [0.5921569 , 0.73333335, 0.7921569 , 1.        ]],\n",
       "\n",
       "       [[0.4745098 , 0.5803922 , 0.6392157 , 1.        ],\n",
       "        [0.47058824, 0.58431375, 0.63529414, 1.        ],\n",
       "        [0.4117647 , 0.5019608 , 0.5529412 , 1.        ],\n",
       "        ...,\n",
       "        [0.54901963, 0.6784314 , 0.74509805, 1.        ],\n",
       "        [0.65882355, 0.8117647 , 0.8862745 , 1.        ],\n",
       "        [0.60784316, 0.74509805, 0.8117647 , 1.        ]],\n",
       "\n",
       "       [[0.4745098 , 0.57254905, 0.627451  , 1.        ],\n",
       "        [0.49411765, 0.6       , 0.65882355, 1.        ],\n",
       "        [0.49019608, 0.5921569 , 0.64705884, 1.        ],\n",
       "        ...,\n",
       "        [0.5294118 , 0.63529414, 0.69803923, 1.        ],\n",
       "        [0.5529412 , 0.67058825, 0.7372549 , 1.        ],\n",
       "        [0.6156863 , 0.73333335, 0.8       , 1.        ]]], dtype=float32)"
      ]
     },
     "execution_count": 339,
     "metadata": {},
     "output_type": "execute_result"
    }
   ],
   "source": [
    "car = imread(\"car-photo.png\")\n",
    "car"
   ]
  },
  {
   "cell_type": "code",
   "execution_count": null,
   "id": "7c786e6e",
   "metadata": {},
   "outputs": [],
   "source": []
  }
 ],
 "metadata": {
  "kernelspec": {
   "display_name": "Python 3 (ipykernel)",
   "language": "python",
   "name": "python3"
  },
  "language_info": {
   "codemirror_mode": {
    "name": "ipython",
    "version": 3
   },
   "file_extension": ".py",
   "mimetype": "text/x-python",
   "name": "python",
   "nbconvert_exporter": "python",
   "pygments_lexer": "ipython3",
   "version": "3.10.9"
  }
 },
 "nbformat": 4,
 "nbformat_minor": 5
}
