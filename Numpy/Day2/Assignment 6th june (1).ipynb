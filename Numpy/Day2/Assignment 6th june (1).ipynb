{
 "cells": [
  {
   "cell_type": "code",
   "execution_count": 20,
   "id": "a50a486e",
   "metadata": {},
   "outputs": [
    {
     "name": "stdout",
     "output_type": "stream",
     "text": [
      "output = \n",
      "[[0 1 2 3 4]\n",
      " [5 6 7 8 9]\n",
      " [1 1 1 1 1]\n",
      " [1 1 1 1 1]]\n"
     ]
    }
   ],
   "source": [
    "#Task 1:\n",
    "#Stack arrays a and b vertically\n",
    "import numpy as np\n",
    "\n",
    "a = np.arange(10).reshape(2,-1)\n",
    "\n",
    "\n",
    "b = np.repeat(1, 10).reshape(2,-1)\n",
    "\n",
    "\n",
    "x = np.vstack((a,b))\n",
    "print('output = ')\n",
    "print (x)\n"
   ]
  },
  {
   "cell_type": "code",
   "execution_count": 21,
   "id": "aeb58f8e",
   "metadata": {},
   "outputs": [
    {
     "name": "stdout",
     "output_type": "stream",
     "text": [
      "[1 1 1 2 2 2 3 3 3 1 2 3 1 2 3 1 2 3]\n"
     ]
    }
   ],
   "source": [
    "#Task 2\n",
    "#Create the following pattern without hardcoding. Use only numpy functions\n",
    "#and the below input array a.\n",
    "\n",
    "a = np.array([1,2,3])\n",
    "\n",
    "#print(a)\n",
    "\n",
    "x= np.repeat(a,3)\n",
    "#print (x)\n",
    "\n",
    "x= np.concatenate((x,a,a,a))\n",
    "print(x)\n"
   ]
  },
  {
   "cell_type": "code",
   "execution_count": 22,
   "id": "f8717369",
   "metadata": {},
   "outputs": [
    {
     "name": "stdout",
     "output_type": "stream",
     "text": [
      "[6 7 9 8 9 7 5]\n"
     ]
    }
   ],
   "source": [
    "#Task 3\n",
    "\n",
    "#Convert the function maxx that works on two scalars, to work on two arrays.\n",
    "\n",
    "a = np.array([5, 7, 9, 8, 6, 4, 5])\n",
    "b = np.array([6, 3, 4, 8, 9, 7, 1])\n",
    "\n",
    "x= np.max((a,b),axis=0)\n",
    "\n",
    "\n",
    "\n",
    "\n",
    "print (x)\n",
    "\n"
   ]
  },
  {
   "cell_type": "code",
   "execution_count": 23,
   "id": "f7174a37",
   "metadata": {},
   "outputs": [
    {
     "name": "stdout",
     "output_type": "stream",
     "text": [
      "[[6 3 4 8 9 7 1]\n",
      " [5 7 9 8 6 4 5]]\n"
     ]
    }
   ],
   "source": [
    "#Task 4\n",
    "#Swap rows 1 and 2 in the array arr:\n",
    "v = np.vstack((b,a))\n",
    "print(v)\n",
    "\n"
   ]
  },
  {
   "cell_type": "code",
   "execution_count": 24,
   "id": "aff29d31",
   "metadata": {},
   "outputs": [
    {
     "name": "stdout",
     "output_type": "stream",
     "text": [
      "Result: [1 2 3 4]\n"
     ]
    }
   ],
   "source": [
    "#Task 5\n",
    "#From array a remove all items present in array b\n",
    "#Input:\n",
    "\n",
    "import numpy as np\n",
    "\n",
    "a = np.array([1, 2, 3, 4, 5])\n",
    "b = np.array([5, 6, 7, 8, 9])\n",
    "\n",
    "result = np.setdiff1d(a, b) # return unique value that are not in array b\n",
    "print(\"Result:\", result)"
   ]
  },
  {
   "cell_type": "code",
   "execution_count": null,
   "id": "f7413a5f",
   "metadata": {},
   "outputs": [],
   "source": []
  }
 ],
 "metadata": {
  "kernelspec": {
   "display_name": "Python 3 (ipykernel)",
   "language": "python",
   "name": "python3"
  },
  "language_info": {
   "codemirror_mode": {
    "name": "ipython",
    "version": 3
   },
   "file_extension": ".py",
   "mimetype": "text/x-python",
   "name": "python",
   "nbconvert_exporter": "python",
   "pygments_lexer": "ipython3",
   "version": "3.10.9"
  }
 },
 "nbformat": 4,
 "nbformat_minor": 5
}
