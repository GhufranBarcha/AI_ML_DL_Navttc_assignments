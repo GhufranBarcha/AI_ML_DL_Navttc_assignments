{
 "cells": [
  {
   "cell_type": "markdown",
   "id": "edf03bba",
   "metadata": {},
   "source": [
    "    Task 1:\n",
    "    Make a mini-calculator using functions. All the functions should be accessed from module.\n",
    "    Your program should ask inputs and option from user.\n",
    "    Task 2:\n",
    "    Write a function which can apply this function in all elements of list. Y=x √\n",
    "\n",
    "    using list\n",
    "\n",
    "    comprehension.\n",
    "    Task 3:\n",
    "    Apply all arithmetic functions on Numpy array and discus output.\n",
    "    Task 4:\n",
    "    Make a Numpy array by using all possible ways.\n",
    "    Task 5:\n",
    "    Perform basic indexing and slicing on multi-dimension array."
   ]
  },
  {
   "cell_type": "markdown",
   "id": "25d719c6",
   "metadata": {},
   "source": [
    "## Task 1:\n",
    "    Make a mini-calculator using functions. All the functions should be accessed from module.\n",
    "    Your program should ask inputs and option from user."
   ]
  },
  {
   "cell_type": "code",
   "execution_count": 4,
   "id": "12aa3945",
   "metadata": {},
   "outputs": [
    {
     "name": "stdout",
     "output_type": "stream",
     "text": [
      "mul 10\n",
      "add 7\n",
      "sub 3\n",
      "div 2.5\n",
      "Squared  25\n"
     ]
    }
   ],
   "source": [
    "def add(a , b):\n",
    "    return a+b\n",
    "\n",
    "def sub(a ,b):\n",
    "    return a-b\n",
    "\n",
    "def mul(a , b):\n",
    "    return a * b\n",
    "\n",
    "def div(a,b):\n",
    "    return a/b\n",
    "\n",
    "def squared(a,b):\n",
    "    return a ** b\n",
    "           \n",
    "\n",
    "\n",
    "print(\"mul\",mul(5,2))\n",
    "print(\"add\",add(5,2))\n",
    "print(\"sub\",sub(5,2))\n",
    "print(\"div\",div(5,2))\n",
    "print(\"Squared \",squared(5,2))"
   ]
  },
  {
   "cell_type": "markdown",
   "id": "a7c1c9d0",
   "metadata": {},
   "source": [
    "## Task 2:\n",
    "    Write a function which can apply this function in all elements of list. Y=x √\n",
    "\n",
    "    using list"
   ]
  },
  {
   "cell_type": "code",
   "execution_count": 7,
   "id": "e2897120",
   "metadata": {},
   "outputs": [
    {
     "data": {
      "text/plain": [
       "-3.591751709536137"
      ]
     },
     "execution_count": 7,
     "metadata": {},
     "output_type": "execute_result"
    }
   ],
   "source": [
    "from math import sqrt\n",
    "def fun(x):\n",
    "    \n",
    "    return (sqrt(x)-(4*x))/x\n",
    "\n",
    "fun(6)"
   ]
  },
  {
   "cell_type": "markdown",
   "id": "5edce73b",
   "metadata": {},
   "source": [
    "## Task 3:\n",
    "   Apply all arithmetic functions on Numpy array and discus output."
   ]
  },
  {
   "cell_type": "code",
   "execution_count": 34,
   "id": "bf9d153e",
   "metadata": {},
   "outputs": [
    {
     "data": {
      "text/plain": [
       "(array([1, 2, 3]),\n",
       " array([[5, 9, 7],\n",
       "        [0, 5, 3]]))"
      ]
     },
     "execution_count": 34,
     "metadata": {},
     "output_type": "execute_result"
    }
   ],
   "source": [
    "a1 = np.array([1,2,3])\n",
    "a2 = np.random.randint(0,10,size=(2,3))\n",
    "\n",
    "a1,a2"
   ]
  },
  {
   "cell_type": "code",
   "execution_count": 28,
   "id": "62a1256f",
   "metadata": {},
   "outputs": [
    {
     "data": {
      "text/plain": [
       "array([1., 1., 1.])"
      ]
     },
     "execution_count": 28,
     "metadata": {},
     "output_type": "execute_result"
    }
   ],
   "source": [
    "ones = np.ones(3)\n",
    "ones"
   ]
  },
  {
   "cell_type": "code",
   "execution_count": 29,
   "id": "2becc6df",
   "metadata": {},
   "outputs": [
    {
     "data": {
      "text/plain": [
       "array([2., 3., 4.])"
      ]
     },
     "execution_count": 29,
     "metadata": {},
     "output_type": "execute_result"
    }
   ],
   "source": [
    "a1 + ones"
   ]
  },
  {
   "cell_type": "code",
   "execution_count": 30,
   "id": "b0855d36",
   "metadata": {},
   "outputs": [
    {
     "data": {
      "text/plain": [
       "array([0., 1., 2.])"
      ]
     },
     "execution_count": 30,
     "metadata": {},
     "output_type": "execute_result"
    }
   ],
   "source": [
    "a1 - ones"
   ]
  },
  {
   "cell_type": "code",
   "execution_count": 31,
   "id": "18dcc9dd",
   "metadata": {},
   "outputs": [
    {
     "data": {
      "text/plain": [
       "array([1., 2., 3.])"
      ]
     },
     "execution_count": 31,
     "metadata": {},
     "output_type": "execute_result"
    }
   ],
   "source": [
    "a1 * ones"
   ]
  },
  {
   "cell_type": "code",
   "execution_count": 32,
   "id": "ce9d42d0",
   "metadata": {},
   "outputs": [
    {
     "data": {
      "text/plain": [
       "array([ 5, 10, 15])"
      ]
     },
     "execution_count": 32,
     "metadata": {},
     "output_type": "execute_result"
    }
   ],
   "source": [
    "a1 * 5"
   ]
  },
  {
   "cell_type": "code",
   "execution_count": 35,
   "id": "cbf299a9",
   "metadata": {},
   "outputs": [
    {
     "data": {
      "text/plain": [
       "array([[5, 9, 7],\n",
       "       [0, 5, 3]])"
      ]
     },
     "execution_count": 35,
     "metadata": {},
     "output_type": "execute_result"
    }
   ],
   "source": [
    "a2"
   ]
  },
  {
   "cell_type": "code",
   "execution_count": 36,
   "id": "e5051e29",
   "metadata": {},
   "outputs": [
    {
     "data": {
      "text/plain": [
       "array([[   1,  512, 2187],\n",
       "       [   1,   32,   27]])"
      ]
     },
     "execution_count": 36,
     "metadata": {},
     "output_type": "execute_result"
    }
   ],
   "source": [
    "a1 ** a2"
   ]
  },
  {
   "cell_type": "code",
   "execution_count": 37,
   "id": "1c84f1dd",
   "metadata": {},
   "outputs": [
    {
     "data": {
      "text/plain": [
       "array([[-4, -7, -4],\n",
       "       [ 1, -3,  0]])"
      ]
     },
     "execution_count": 37,
     "metadata": {},
     "output_type": "execute_result"
    }
   ],
   "source": [
    "a1 - a2"
   ]
  },
  {
   "cell_type": "markdown",
   "id": "130f5bb4",
   "metadata": {},
   "source": [
    "## Task 4:\n",
    "   Make a Numpy array by using all possible ways."
   ]
  },
  {
   "cell_type": "code",
   "execution_count": 26,
   "id": "172c2a86",
   "metadata": {},
   "outputs": [
    {
     "data": {
      "text/plain": [
       "array([1, 2, 3])"
      ]
     },
     "execution_count": 26,
     "metadata": {},
     "output_type": "execute_result"
    }
   ],
   "source": [
    "a1 = np.array([1,2,3])\n",
    "a1"
   ]
  },
  {
   "cell_type": "code",
   "execution_count": 27,
   "id": "e965dd56",
   "metadata": {},
   "outputs": [
    {
     "data": {
      "text/plain": [
       "array([[[1, 2, 3],\n",
       "        [1, 5, 6],\n",
       "        [5, 6, 7]],\n",
       "\n",
       "       [[4, 5, 6],\n",
       "        [1, 3, 5],\n",
       "        [1, 4, 5]]])"
      ]
     },
     "execution_count": 27,
     "metadata": {},
     "output_type": "execute_result"
    }
   ],
   "source": [
    "a2 = np.array([\n",
    "    [\n",
    "        [1,2,3],\n",
    "        [1,5,6],\n",
    "        [5,6,7]\n",
    "    ], \n",
    "    [\n",
    "        [4,5,6],\n",
    "        [1,3,5],\n",
    "        [1,4,5]\n",
    "    ]\n",
    "])\n",
    "a2"
   ]
  },
  {
   "cell_type": "code",
   "execution_count": 11,
   "id": "da0a6612",
   "metadata": {},
   "outputs": [
    {
     "data": {
      "text/plain": [
       "array([[1., 1., 1.],\n",
       "       [1., 1., 1.]])"
      ]
     },
     "execution_count": 11,
     "metadata": {},
     "output_type": "execute_result"
    }
   ],
   "source": [
    "ones = np.ones((2,3))\n",
    "ones"
   ]
  },
  {
   "cell_type": "code",
   "execution_count": 12,
   "id": "b762e66e",
   "metadata": {},
   "outputs": [
    {
     "data": {
      "text/plain": [
       "array([[0., 0., 0.],\n",
       "       [0., 0., 0.]])"
      ]
     },
     "execution_count": 12,
     "metadata": {},
     "output_type": "execute_result"
    }
   ],
   "source": [
    "np.zeros((2,3))"
   ]
  },
  {
   "cell_type": "code",
   "execution_count": 13,
   "id": "985e8b0a",
   "metadata": {},
   "outputs": [
    {
     "data": {
      "text/plain": [
       "array([ 0,  2,  4,  6,  8, 10])"
      ]
     },
     "execution_count": 13,
     "metadata": {},
     "output_type": "execute_result"
    }
   ],
   "source": [
    "range_array = np.arange(0,11,2 )\n",
    "range_array"
   ]
  },
  {
   "cell_type": "code",
   "execution_count": 15,
   "id": "0317659c",
   "metadata": {},
   "outputs": [
    {
     "data": {
      "text/plain": [
       "array([[[7, 2, 8, 4, 7],\n",
       "        [7, 7, 3, 7, 3],\n",
       "        [4, 4, 4, 5, 0]],\n",
       "\n",
       "       [[6, 9, 5, 7, 2],\n",
       "        [8, 1, 4, 1, 2],\n",
       "        [5, 2, 1, 9, 3]]])"
      ]
     },
     "execution_count": 15,
     "metadata": {},
     "output_type": "execute_result"
    }
   ],
   "source": [
    "random_array = np.random.randint(0,10,size=(2,3,5))\n",
    "random_array"
   ]
  },
  {
   "cell_type": "code",
   "execution_count": 19,
   "id": "40b5b223",
   "metadata": {},
   "outputs": [
    {
     "data": {
      "text/plain": [
       "array([[[[0.84609716, 0.99360092, 0.34239463, 0.052884  , 0.97938858]]]])"
      ]
     },
     "execution_count": 19,
     "metadata": {},
     "output_type": "execute_result"
    }
   ],
   "source": [
    "rand = np.random.random((1,1,15,5))\n",
    "rand"
   ]
  },
  {
   "cell_type": "code",
   "execution_count": 20,
   "id": "33016480",
   "metadata": {},
   "outputs": [
    {
     "data": {
      "text/plain": [
       "array([[[0.41370797, 0.08976311],\n",
       "        [0.22240868, 0.22704704],\n",
       "        [0.78363215, 0.9178051 ]],\n",
       "\n",
       "       [[0.38388878, 0.32795903],\n",
       "        [0.79027016, 0.0538381 ],\n",
       "        [0.42007477, 0.68192605]]])"
      ]
     },
     "execution_count": 20,
     "metadata": {},
     "output_type": "execute_result"
    }
   ],
   "source": []
  },
  {
   "cell_type": "markdown",
   "id": "539a2ec5",
   "metadata": {},
   "source": [
    "## Task 5:\n",
    "   Perform basic indexing and slicing on multi-dimension array."
   ]
  },
  {
   "cell_type": "code",
   "execution_count": 21,
   "id": "84ccd7c7",
   "metadata": {},
   "outputs": [
    {
     "data": {
      "text/plain": [
       "array([0, 1, 2, 3, 4, 5, 6, 7, 8, 9])"
      ]
     },
     "execution_count": 21,
     "metadata": {},
     "output_type": "execute_result"
    }
   ],
   "source": [
    "arr = np.unique(np.arange(10))\n",
    "arr"
   ]
  },
  {
   "cell_type": "code",
   "execution_count": 22,
   "id": "9678f25f",
   "metadata": {},
   "outputs": [
    {
     "data": {
      "text/plain": [
       "array([9, 7, 5, 3, 1])"
      ]
     },
     "execution_count": 22,
     "metadata": {},
     "output_type": "execute_result"
    }
   ],
   "source": [
    "arr[::-2]"
   ]
  },
  {
   "cell_type": "code",
   "execution_count": 23,
   "id": "3eef7748",
   "metadata": {},
   "outputs": [
    {
     "data": {
      "text/plain": [
       "array([[[10,  2, 13,  1],\n",
       "        [ 5, 11, 15, 14],\n",
       "        [ 4,  8, 12, 15]],\n",
       "\n",
       "       [[19,  4,  3, 16],\n",
       "        [18,  9,  1,  2],\n",
       "        [ 0, 13, 12, 11]],\n",
       "\n",
       "       [[19, 11,  6,  1],\n",
       "        [ 4, 13,  9, 19],\n",
       "        [15,  6, 19,  3]],\n",
       "\n",
       "       [[ 7,  7,  8, 13],\n",
       "        [ 8,  8, 14, 19],\n",
       "        [18, 13,  4, 16]],\n",
       "\n",
       "       [[18,  6, 16,  2],\n",
       "        [ 3,  1, 12, 13],\n",
       "        [11, 15,  1, 15]]])"
      ]
     },
     "execution_count": 23,
     "metadata": {},
     "output_type": "execute_result"
    }
   ],
   "source": [
    "arr3 = np.random.randint(20,size=(5,3,4))\n",
    "arr3"
   ]
  },
  {
   "cell_type": "code",
   "execution_count": 24,
   "id": "74ae71ae",
   "metadata": {},
   "outputs": [
    {
     "data": {
      "text/plain": [
       "array([[10,  2, 13],\n",
       "       [ 5, 11, 15]])"
      ]
     },
     "execution_count": 24,
     "metadata": {},
     "output_type": "execute_result"
    }
   ],
   "source": [
    "arr3[0,:2,:3]"
   ]
  },
  {
   "cell_type": "code",
   "execution_count": null,
   "id": "b58eb5bd",
   "metadata": {},
   "outputs": [],
   "source": []
  }
 ],
 "metadata": {
  "kernelspec": {
   "display_name": "Python 3 (ipykernel)",
   "language": "python",
   "name": "python3"
  },
  "language_info": {
   "codemirror_mode": {
    "name": "ipython",
    "version": 3
   },
   "file_extension": ".py",
   "mimetype": "text/x-python",
   "name": "python",
   "nbconvert_exporter": "python",
   "pygments_lexer": "ipython3",
   "version": "3.10.9"
  }
 },
 "nbformat": 4,
 "nbformat_minor": 5
}
