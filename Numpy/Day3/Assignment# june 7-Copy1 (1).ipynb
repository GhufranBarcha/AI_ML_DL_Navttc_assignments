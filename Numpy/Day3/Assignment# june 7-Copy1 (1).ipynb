{
 "cells": [
  {
   "cell_type": "code",
   "execution_count": 10,
   "id": "150c19bd",
   "metadata": {},
   "outputs": [
    {
     "name": "stdout",
     "output_type": "stream",
     "text": [
      "The maximum value of the above-flattened array:\n",
      "3\n",
      "A minimum value of the above-flattened array:\n",
      "0\n"
     ]
    }
   ],
   "source": [
    "#Task 1:\n",
    "#Write a Python program to find the maximum and minimum value of a given\n",
    "#flattened array.\n",
    "import numpy as np\n",
    "\n",
    "arr1 = np.array([[0,1],[2,3]])\n",
    "arr1\n",
    "max1 = np.max(arr1)\n",
    "min1 = np.min(arr1)\n",
    "print('The maximum value of the above-flattened array:')\n",
    "print(max1)\n",
    "print('A minimum value of the above-flattened array:')\n",
    "print(min1)"
   ]
  },
  {
   "cell_type": "code",
   "execution_count": 69,
   "id": "ee552798",
   "metadata": {},
   "outputs": [
    {
     "name": "stdout",
     "output_type": "stream",
     "text": [
      "[[       0        1      256    19683  1048576 48828125]\n",
      " [       6        7        8        9       10       11]]\n",
      "[       0        1      256    19683  1048576 48828125        6        7\n",
      "        8        9       10       11]\n",
      "Median of said array:\n",
      "9.5\n"
     ]
    }
   ],
   "source": [
    "#Task 2\n",
    "#Write a NumPy program to compute the median of flattened given array.\n",
    "#Note: First array elements raised to powers from second array\n",
    "\n",
    "arr2 = np.array([[ 0, 1, 2, 3, 4, 5],[6, 7, 8, 9, 10, 11]])\n",
    "\n",
    "\n",
    "arr5= np.power(arr2[0],arr2[1])\n",
    "arr2[0] = arr5\n",
    "print (arr2)\n",
    "\n",
    "arr = arr2.flatten()\n",
    "\n",
    "print(arr)\n",
    "median = np.median(arr)\n",
    "print('Median of said array:')\n",
    "print(median)\n",
    "\n",
    "\n"
   ]
  },
  {
   "cell_type": "code",
   "execution_count": 15,
   "id": "bbaa2f0e",
   "metadata": {},
   "outputs": [
    {
     "name": "stdout",
     "output_type": "stream",
     "text": [
      "[0 1 2 3 4 5]\n",
      "Mean:  2.5\n",
      "std:  1.707825127659933\n",
      "variance:  2.9166666666666665\n"
     ]
    }
   ],
   "source": [
    "#Task 3\n",
    "#Write a NumPy program to compute the mean, standard deviation, and variance\n",
    "#of a given array along the second axis.\n",
    "#Sample output:\n",
    "#Original array:\n",
    "#[0 1 2 3 4 5]\n",
    "\n",
    "arr = np.array([0,1,2,3,4,5])\n",
    "print(arr)\n",
    "\n",
    "mean = np.mean(arr)\n",
    "\n",
    "std_dev = np.std(arr)\n",
    "\n",
    "variance = np.var(arr)\n",
    "\n",
    "print(\"Mean: \",mean)\n",
    "print(\"std: \",std_dev)\n",
    "print(\"variance: \",variance)\n",
    "\n"
   ]
  },
  {
   "cell_type": "code",
   "execution_count": 18,
   "id": "c2834bba",
   "metadata": {
    "scrolled": true
   },
   "outputs": [
    {
     "name": "stdout",
     "output_type": "stream",
     "text": [
      "Number of occurrences of each value in array:\n",
      "[1 3 2 0 1 0 1 1]\n"
     ]
    }
   ],
   "source": [
    "#Task 4\n",
    "#Write a Python program to count number of occurrences of each value in a given\n",
    "#array of non-negative integers.\n",
    "#Note: bincount() function count number of occurrences of each value in an array\n",
    "#of non-negative integers in the range of the array between the minimum and\n",
    "#maximum values including the values that did not occur.\n",
    "#Sample Output:\n",
    "#Original array:\n",
    "#[0, 1, 6, 1, 4, 1, 2, 2, 7]\n",
    "#Number of occurrences of each value in array:\n",
    "#[1 3 2 0 1 0 1 1]\n",
    "\n",
    "#code bellow\n",
    "arr = np.array([0, 1, 6, 1, 4, 1, 2, 2, 7])\n",
    "\n",
    "occ = np.bincount(arr)\n",
    "print(\"Number of occurrences of each value in array:\")\n",
    "print(occ)\n",
    "\n"
   ]
  },
  {
   "cell_type": "code",
   "execution_count": 48,
   "id": "633748d6",
   "metadata": {},
   "outputs": [
    {
     "name": "stdout",
     "output_type": "stream",
     "text": [
      "result : (array([2, 3, 1], dtype=int64), array([0, 1, 2, 3]))\n"
     ]
    },
    {
     "data": {
      "image/png": "[encoded data removed]",
      "text/plain": [
       "<Figure size 600x400 with 1 Axes>"
      ]
     },
     "metadata": {},
     "output_type": "display_data"
    }
   ],
   "source": [
    "#Write a NumPy program to compute the histogram of nums against the bins.\n",
    "#Sample Output:\n",
    "#nums: [0.5 0.7 1. 1.2 1.3 2.1]\n",
    "#bins: [0 1 2 3]\n",
    "#Result: (array([2, 3, 1], dtype=int64), array([0, 1, 2, 3]))\n",
    "\n",
    "\n",
    "import matplotlib.pyplot as plt\n",
    "nums = [0.5, 0.7, 1, 1.2, 1.3, 2.1]\n",
    "bins= [0 ,1 , 2 , 3]\n",
    "plt.figure(figsize=(6, 4))\n",
    "x,y = np.histogram(nums,bins)\n",
    "plt.hist(nums, bins, color='blue', alpha=0.5)\n",
    "\n",
    "print('result :',(x ,y))\n",
    "\n",
    "plt.show()\n"
   ]
  },
  {
   "cell_type": "code",
   "execution_count": null,
   "id": "5723bdc4",
   "metadata": {},
   "outputs": [],
   "source": []
  }
 ],
 "metadata": {
  "kernelspec": {
   "display_name": "Python 3 (ipykernel)",
   "language": "python",
   "name": "python3"
  },
  "language_info": {
   "codemirror_mode": {
    "name": "ipython",
    "version": 3
   },
   "file_extension": ".py",
   "mimetype": "text/x-python",
   "name": "python",
   "nbconvert_exporter": "python",
   "pygments_lexer": "ipython3",
   "version": "3.10.9"
  }
 },
 "nbformat": 4,
 "nbformat_minor": 5
}
