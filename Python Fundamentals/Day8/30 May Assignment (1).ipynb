{
 "cells": [
  {
   "cell_type": "markdown",
   "id": "3d9384a3",
   "metadata": {},
   "source": [
    "     Task 1:\n",
    "            Write a function which take numerical list and return number of list even odd prime\n",
    "            Task 2:\n",
    "            Write a python function which take this list = [\"Jamal\", \"Hamza\",\"Ali\",\"c\", \"P\"] and return two list one\n",
    "            for string and other of characters like String_list=[\"Jamal\",\"Hamza\",\"Ali\"] and character_list =[\"c\",\"P\"]\n",
    "            Task 3:\n",
    "            Write a function which return list each element datatype in new list same at that position of element.\n",
    "            List1= [5,9,8,6,0,2,2,a,b,c,Jamal] so according to this solution will be this\n",
    "            Hint:list1_solution=[int,int,int,int,int,int,int,ch,ch,ch,str]\n",
    "            Task 4:\n",
    "            Make a list, List= [ 1,nan,4,5,6,0,6,7]\n",
    "            The function should return:\n",
    "            a)Most Repeating values\n",
    "            b)Display nan values\n",
    "            c)Highest value\n",
    "            d)Prime number\n",
    "            Task 5:\n",
    "            [8,10,a,b,s,f,99,'fine','Education',6,53,'Pass']\n",
    "            a)The Function should return only\n",
    "            b)Numeric Value\n",
    "            c)Character\n",
    "            d)string            "
   ]
  },
  {
   "cell_type": "markdown",
   "id": "d966b0bc",
   "metadata": {},
   "source": [
    "## Task 1:\n",
    "     Write a function which take numerical list and return number of list even odd prime"
   ]
  },
  {
   "cell_type": "code",
   "execution_count": 1,
   "id": "7ea87c3b",
   "metadata": {},
   "outputs": [
    {
     "name": "stdout",
     "output_type": "stream",
     "text": [
      "Even numbers: [6, 4]\n",
      "Odd numbers: [1, 3, 5, 45, 23]\n",
      "Prime numbers: [3, 5, 23]\n"
     ]
    }
   ],
   "source": [
    "def is_prime(n):\n",
    "    if n < 2:\n",
    "        return False\n",
    "    for i in range(2, int(n**0.5) + 1):\n",
    "        if n % i == 0:\n",
    "            return False\n",
    "    return True\n",
    "\n",
    "def find_even_odd_prime(numbers):\n",
    "    even_numbers = []\n",
    "    odd_numbers = []\n",
    "    prime_numbers = []\n",
    "\n",
    "    for num in numbers:\n",
    "        if num % 2 == 0:\n",
    "            even_numbers.append(num)\n",
    "        else:\n",
    "            odd_numbers.append(num)\n",
    "\n",
    "        if is_prime(num):\n",
    "            prime_numbers.append(num)\n",
    "\n",
    "    return even_numbers, odd_numbers, prime_numbers\n",
    "\n",
    "numbers = [1, 3, 5, 45, 6, 4, 23]\n",
    "even_nums, odd_nums, prime_nums = find_even_odd_prime(numbers)\n",
    "\n",
    "print(\"Even numbers:\", even_nums)\n",
    "print(\"Odd numbers:\", odd_nums)\n",
    "print(\"Prime numbers:\", prime_nums)"
   ]
  },
  {
   "cell_type": "markdown",
   "id": "c79883e6",
   "metadata": {},
   "source": [
    "## Task 2:\n",
    "    Write a python function which take this list = [\"Jamal\", \"Hamza\",\"Ali\",\"c\", \"P\"] and return two list one\n",
    "    for string and other of characters like String_list=[\"Jamal\",\"Hamza\",\"Ali\"] and character_list =[\"c\",\"P\"]"
   ]
  },
  {
   "cell_type": "code",
   "execution_count": 15,
   "id": "bf2c971b",
   "metadata": {},
   "outputs": [
    {
     "name": "stdout",
     "output_type": "stream",
     "text": [
      "String List: ['Jamal', 'Hamza', 'Ali']\n",
      "Character List: ['c', 'P']\n"
     ]
    }
   ],
   "source": [
    "def separate_list(lst):\n",
    "    string_list = []\n",
    "    character_list = []\n",
    "\n",
    "    for item in lst:\n",
    "        if len(item) > 1:\n",
    "            string_list.append(item)\n",
    "        else:\n",
    "            character_list.append(item)\n",
    "\n",
    "    return string_list, character_list\n",
    "\n",
    "string_list, character_list = separate_list([\"Jamal\", \"Hamza\", \"Ali\", \"c\", \"P\"])\n",
    "print(\"String List:\", string_list)\n",
    "print(\"Character List:\", character_list)"
   ]
  },
  {
   "cell_type": "markdown",
   "id": "d608b4ec",
   "metadata": {},
   "source": [
    " ## Task 3:\n",
    "        Write a function which return list each element datatype in new list same at that position of element.\n",
    "        List1= [5,9,8,6,0,2,2,a,b,c,Jamal] so according to this solution will be this\n",
    "        Hint:list1_solution=[int,int,int,int,int,int,int,ch,ch,ch,str]"
   ]
  },
  {
   "cell_type": "code",
   "execution_count": 32,
   "id": "04dcc4e1",
   "metadata": {},
   "outputs": [
    {
     "name": "stdout",
     "output_type": "stream",
     "text": [
      "['int', 'int', 'int', 'int', 'int', 'int', 'int', 'ch', 'ch', 'ch', 'str']\n"
     ]
    }
   ],
   "source": [
    "def get_datatypes(lst):\n",
    "    result = []\n",
    "\n",
    "    for item in lst:\n",
    "        datatype = type(item).__name__\n",
    "        if datatype == \"int\":\n",
    "            result.append('int')\n",
    "        elif datatype == \"str\" and len(item) > 1:\n",
    "            result.append('str')\n",
    "        else:\n",
    "            result.append('ch')\n",
    "\n",
    "    return result\n",
    "\n",
    "lst = [5, 9, 8, 6, 0, 2, 2, 'a', 'b', 'c', 'Jamal']\n",
    "solution = get_datatypes(lst)\n",
    "print(solution)"
   ]
  },
  {
   "cell_type": "markdown",
   "id": "64fa1212",
   "metadata": {},
   "source": [
    "## Task 4:\n",
    "        Make a list, List= [ 1,nan,4,5,6,0,6,7]\n",
    "        The function should return:\n",
    "        a)Most Repeating values\n",
    "        b)Display nan values\n",
    "        c)Highest value\n",
    "        d)Prime number"
   ]
  },
  {
   "cell_type": "code",
   "execution_count": 3,
   "id": "22f806ff",
   "metadata": {},
   "outputs": [
    {
     "name": "stdout",
     "output_type": "stream",
     "text": [
      "Most Repeating Values: [6]\n",
      "NaN Values: [None]\n",
      "Highest Value: 7\n",
      "Prime Numbers: [5, 7]\n"
     ]
    }
   ],
   "source": [
    "def analyze_list(lst):\n",
    "    cleaned_list = []\n",
    "    for item in lst:\n",
    "        if item is not None:\n",
    "            cleaned_list.append(item)\n",
    "\n",
    "    counts = {}\n",
    "    for item in cleaned_list:\n",
    "        if item in counts:\n",
    "            counts[item] += 1\n",
    "        else:\n",
    "            counts[item] = 1\n",
    "\n",
    "            \n",
    "            \n",
    "    max_count = 0\n",
    "    most_repeating = []\n",
    "    for item, count in counts.items():\n",
    "        if count > max_count:\n",
    "            max_count = count\n",
    "            most_repeating = [item]\n",
    "        elif count == max_count:\n",
    "            most_repeating.append(item)\n",
    "\n",
    "            \n",
    "            \n",
    "    nan_values = []\n",
    "    for item in lst:\n",
    "        if item is None:\n",
    "            nan_values.append(item)\n",
    "\n",
    "            \n",
    "            \n",
    "    highest_value = 0\n",
    "    for item in cleaned_list:\n",
    "        if item > highest_value:\n",
    "            highest_value = item\n",
    "\n",
    "   \n",
    "    prime_numbers = []\n",
    "    for item in cleaned_list:\n",
    "        if item < 2:\n",
    "            continue\n",
    "        is_prime = True\n",
    "        for i in range(2, int(item ** 0.5) + 1):\n",
    "            if item % i == 0:\n",
    "                is_prime = False\n",
    "                break\n",
    "        if is_prime:\n",
    "            prime_numbers.append(item)\n",
    "\n",
    "    return most_repeating, nan_values, highest_value, prime_numbers\n",
    "\n",
    "lst = [1, None, 4, 5, 6, 0, 6, 7]\n",
    "results = analyze_list(lst)\n",
    "print(\"Most Repeating Values:\", results[0])\n",
    "print(\"NaN Values:\", results[1])\n",
    "print(\"Highest Value:\", results[2])\n",
    "print(\"Prime Numbers:\", results[3])"
   ]
  },
  {
   "cell_type": "markdown",
   "id": "558063e9",
   "metadata": {},
   "source": [
    "## Task 5:\n",
    "    [8,10,a,b,s,f,99,'fine','Education',6,53,'Pass']\n",
    "    a)The Function should return only\n",
    "    b)Numeric Value\n",
    "    c)Character\n",
    "    d)string"
   ]
  },
  {
   "cell_type": "code",
   "execution_count": 8,
   "id": "c4f7d892",
   "metadata": {},
   "outputs": [
    {
     "name": "stdout",
     "output_type": "stream",
     "text": [
      "Only Values: [8, 10, 'a', 'b', 's', 'f', 99, 'fine', 'Education', 6, 53, 'Pass']\n",
      "Numeric Values: [8, 10, 99, 6, 53]\n",
      "Character Values: ['a', 'b', 's', 'f']\n",
      "String Values: ['fine', 'Education', 'Pass']\n"
     ]
    }
   ],
   "source": [
    "def analyze_list(lst):\n",
    "    only_values = []\n",
    "    numeric_values = []\n",
    "    character_values = []\n",
    "    string_values = []\n",
    "\n",
    "    for item in lst:\n",
    "        \n",
    "        if isinstance(item, (int, str)):\n",
    "            only_values.append(item)\n",
    "\n",
    "        \n",
    "        if isinstance(item, int):\n",
    "            numeric_values.append(item)\n",
    "\n",
    "        \n",
    "        if isinstance(item, str) and len(item) == 1:\n",
    "            character_values.append(item)\n",
    "\n",
    "        \n",
    "        if isinstance(item, str) and len(item) > 1:\n",
    "            string_values.append(item)\n",
    "\n",
    "    return only_values, numeric_values, character_values, string_values\n",
    "\n",
    "my_list = [8, 10, 'a', 'b', 's', 'f', 99, 'fine', 'Education', 6, 53, 'Pass']\n",
    "result = analyze_list(my_list)\n",
    "print(\"Only Values:\", result[0])\n",
    "print(\"Numeric Values:\", result[1])\n",
    "print(\"Character Values:\", result[2])\n",
    "print(\"String Values:\", result[3])"
   ]
  },
  {
   "cell_type": "code",
   "execution_count": null,
   "id": "dcb895b4",
   "metadata": {},
   "outputs": [],
   "source": []
  }
 ],
 "metadata": {
  "kernelspec": {
   "display_name": "Python 3 (ipykernel)",
   "language": "python",
   "name": "python3"
  },
  "language_info": {
   "codemirror_mode": {
    "name": "ipython",
    "version": 3
   },
   "file_extension": ".py",
   "mimetype": "text/x-python",
   "name": "python",
   "nbconvert_exporter": "python",
   "pygments_lexer": "ipython3",
   "version": "3.10.9"
  }
 },
 "nbformat": 4,
 "nbformat_minor": 5
}
