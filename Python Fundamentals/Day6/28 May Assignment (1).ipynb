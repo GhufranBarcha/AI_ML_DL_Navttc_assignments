{
 "cells": [
  {
   "cell_type": "markdown",
   "id": "08d00084",
   "metadata": {},
   "source": [
    "# Tasks"
   ]
  },
  {
   "cell_type": "markdown",
   "id": "15a99467",
   "metadata": {},
   "source": [
    "        Task 1: Write a program to find maximum between two numbers.\n",
    "        Task 2: Write a program to find maximum between three numbers.\n",
    "        Task 3: Write a program to check whether a number is negative, positive or zero.\n",
    "        Task 4: Write a program to check whether a number is divisible by 5 and 11 or not.\n",
    "        Task 5: Write a program to check whether a number is even or odd.\n",
    "        Task 6: Write a program to input any alphabet and check whether it is vowel or not.\n",
    "        Task 7: Write a program to input day number of a month (31 days) and print the number of\n",
    "        week (1,2,3,4).\n",
    "        Task 8: Write a program to input month number and print number of days in that month.\n",
    "        Task 9: Write a program to give the name of the day when given the number of day in a week.\n",
    "        e.g., User enters 1, answer comes \"Monday\" and son on to 7.\n",
    "        Task 10: Write a program to input marks (out of 100 each) of five subjects Physics, Chemistry,\n",
    "        Biology, Mathematics and Computer. Calculate percentage and grade of each subject according\n",
    "        to following:\n",
    "        Percentage >= 90% : Grade A\n",
    "        Percentage >= 80% : Grade B\n",
    "        Percentage >= 70% : Grade C\n",
    "        Percentage >= 60% : Grade D\n",
    "        Percentage >= 40% : Grade E\n",
    "        Percentage < 40% : Grade F\n",
    "        Task 11: Write a program to input electricity unit charges and calculate total electricity bill\n",
    "        according to the given condition:\n",
    "        For first 50 units Rs. 0.50/unit\n",
    "        For next 100 units (i.e., 51 to 150) Rs. 0.75/unit\n",
    "        For next 100 units (i.e., 151 to 250) Rs. 1.20/unit\n",
    "        For units above 250 Rs. 1.50/unit\n",
    "        An additional surcharge of 20% is added to the bill"
   ]
  },
  {
   "cell_type": "markdown",
   "id": "700cfa49",
   "metadata": {},
   "source": [
    "## Task 1:\n",
    "    Write a program to find maximum between two numbers."
   ]
  },
  {
   "cell_type": "code",
   "execution_count": 1,
   "id": "1bb4a128",
   "metadata": {},
   "outputs": [
    {
     "name": "stdout",
     "output_type": "stream",
     "text": [
      "Number 1 = 12\n",
      "Number 2 =1\n",
      "Number 1 is greater 12.0\n"
     ]
    }
   ],
   "source": [
    "number = float(input(\"Number 1 = \"))\n",
    "number2 = float(input(\"Number 2 =\"))\n",
    "\n",
    "if number > number2:\n",
    "    print(f\"Number 1 is greater {number}\")\n",
    "elif number == number2:\n",
    "    print(\"Numbers are equal\")\n",
    "else:\n",
    "    print(f\"Number2 are greater {number2}\")\n",
    "\n"
   ]
  },
  {
   "cell_type": "markdown",
   "id": "bac6d7c7",
   "metadata": {},
   "source": [
    "## Task 2:\n",
    "  Write a program to find maximum between three numbers."
   ]
  },
  {
   "cell_type": "code",
   "execution_count": 6,
   "id": "f7e1c8b6",
   "metadata": {},
   "outputs": [
    {
     "name": "stdout",
     "output_type": "stream",
     "text": [
      "Number 1 = 34\n",
      "Number 2 =45\n",
      "Number 3 =33\n",
      "Max number is 45.0\n"
     ]
    }
   ],
   "source": [
    "number1 = float(input(\"Number 1 = \"))\n",
    "number2 = float(input(\"Number 2 =\"))\n",
    "number3 = float(input(\"Number 3 =\"))\n",
    "\n",
    "num=[number1,number2,number3]\n",
    "max_num = max(num)\n",
    "print(\"Max number is\",max_num)"
   ]
  },
  {
   "cell_type": "markdown",
   "id": "957596db",
   "metadata": {},
   "source": [
    "## Task 3:\n",
    "     Write a program to check whether a number is negative, positive or zero."
   ]
  },
  {
   "cell_type": "code",
   "execution_count": 11,
   "id": "82cd8537",
   "metadata": {},
   "outputs": [
    {
     "name": "stdout",
     "output_type": "stream",
     "text": [
      "input Number : -3\n",
      "number is negative\n"
     ]
    }
   ],
   "source": [
    "num = float(input(\"input Number : \"))\n",
    "\n",
    "if num == 0:\n",
    "    print(\"number is zero\")\n",
    "elif num > 0:\n",
    "    print(\"number is positive\")\n",
    "else:\n",
    "    print(\"number is negative\")"
   ]
  },
  {
   "cell_type": "markdown",
   "id": "d5f5dc2a",
   "metadata": {},
   "source": [
    "## Task 4:\n",
    "    Write a program to check whether a number is divisible by 5 and 11 or not."
   ]
  },
  {
   "cell_type": "code",
   "execution_count": 15,
   "id": "563440d8",
   "metadata": {},
   "outputs": [
    {
     "name": "stdout",
     "output_type": "stream",
     "text": [
      "input Number : 15\n",
      "the number is not divisible by 5 and 11\n"
     ]
    }
   ],
   "source": [
    "num = float(input(\"input Number : \"))\n",
    "\n",
    "if num % 5 == 0 and num  % 11 == 0:\n",
    "    print(\"the number is divisible by 5 and 11\")\n",
    "else:\n",
    "    print(\"the number is not divisible by 5 and 11\")\n",
    "    "
   ]
  },
  {
   "cell_type": "markdown",
   "id": "8a94f10a",
   "metadata": {},
   "source": [
    "## Task 5:\n",
    "    Write a program to check whether a number is even or odd."
   ]
  },
  {
   "cell_type": "code",
   "execution_count": 16,
   "id": "c062236b",
   "metadata": {},
   "outputs": [
    {
     "name": "stdout",
     "output_type": "stream",
     "text": [
      "input Number : 4\n",
      "even 4.0\n"
     ]
    }
   ],
   "source": [
    "num = float(input(\"input Number : \"))\n",
    "if num % 2==0:\n",
    "    print(\"even\",num)\n",
    "else:\n",
    "    print(\"odd\",odd)"
   ]
  },
  {
   "cell_type": "markdown",
   "id": "0330c89d",
   "metadata": {},
   "source": [
    "## Task 6:\n",
    "    Write a program to input any alphabet and check whether it is vowel or not."
   ]
  },
  {
   "cell_type": "code",
   "execution_count": 23,
   "id": "445c4b15",
   "metadata": {},
   "outputs": [
    {
     "name": "stdout",
     "output_type": "stream",
     "text": [
      "input Number : r\n",
      "the alphabet is not vowel: r\n"
     ]
    }
   ],
   "source": [
    "alpha = input(\"input Number : \")\n",
    "alpha = alpha.lower()\n",
    "if alpha == \"a\" or alpha == \"e\" or alpha == \"i\" or alpha == \"o\" or alpha == \"u\":\n",
    "    print(\"the alphabet is vowel:\",alpha)\n",
    "else:\n",
    "    print(\"the alphabet is not vowel:\",alpha)"
   ]
  },
  {
   "cell_type": "markdown",
   "id": "92859489",
   "metadata": {},
   "source": [
    "## Task 7:\n",
    "    Write a program to input day number of a month (31 days) and print the number of\n",
    "    week (1,2,3,4)."
   ]
  },
  {
   "cell_type": "code",
   "execution_count": 27,
   "id": "0f370c36",
   "metadata": {},
   "outputs": [
    {
     "name": "stdout",
     "output_type": "stream",
     "text": [
      "input Number : 31\n",
      "weeks :  4\n"
     ]
    }
   ],
   "source": [
    "days = int(input(\"input Number : \"))\n",
    "\n",
    "weeks = days//7\n",
    "\n",
    "print(\"weeks : \",weeks)"
   ]
  },
  {
   "cell_type": "markdown",
   "id": "5713b232",
   "metadata": {},
   "source": [
    "## Task 8: \n",
    "    Write a program to input month number and print number of days in that month."
   ]
  },
  {
   "cell_type": "code",
   "execution_count": 28,
   "id": "4d3bcc5b",
   "metadata": {},
   "outputs": [
    {
     "name": "stdout",
     "output_type": "stream",
     "text": [
      "Enter month number (1-12): 5\n",
      "Number of days: 31\n"
     ]
    }
   ],
   "source": [
    "month = int(input(\"Enter month number (1-12): \"))\n",
    "\n",
    "if month == 2:\n",
    "    print(\"Number of days: 28 or 29 (leap year)\")\n",
    "elif month in [4, 6, 9, 11]:\n",
    "    print(\"Number of days: 30\")\n",
    "else:\n",
    "    print(\"Number of days: 31\")"
   ]
  },
  {
   "cell_type": "markdown",
   "id": "60e8fb86",
   "metadata": {},
   "source": [
    "## Task 9:\n",
    "    Write a program to give the name of the day when given the number of day in a week.\n",
    "    e.g., User enters 1, answer comes \"Monday\" and son on to 7."
   ]
  },
  {
   "cell_type": "code",
   "execution_count": 29,
   "id": "ae56d531",
   "metadata": {},
   "outputs": [
    {
     "name": "stdout",
     "output_type": "stream",
     "text": [
      "Enter day number (1-7): 4\n",
      "Day name: Thursday\n"
     ]
    }
   ],
   "source": [
    "day_number = int(input(\"Enter day number (1-7): \"))\n",
    "\n",
    "days = ['Monday', 'Tuesday', 'Wednesday', 'Thursday', 'Friday', 'Saturday', 'Sunday']\n",
    "\n",
    "if day_number >= 1 and day_number <= 7:\n",
    "    day_name = days[day_number - 1]\n",
    "    print(\"Day name:\", day_name)\n",
    "else:\n",
    "    print(\"Invalid day number. Please enter a number between 1 and 7.\")"
   ]
  },
  {
   "cell_type": "markdown",
   "id": "0f8a0d05",
   "metadata": {},
   "source": [
    "## Task 10:\n",
    "    Write a program to input marks (out of 100 each) of five subjects Physics, Chemistry,\n",
    "    Biology, Mathematics and Computer. Calculate percentage and grade of each subject according\n",
    "    to following:\n",
    "    Percentage >= 90% : Grade A\n",
    "    Percentage >= 80% : Grade B\n",
    "    Percentage >= 70% : Grade C\n",
    "    Percentage >= 60% : Grade D\n",
    "    Percentage >= 40% : Grade E\n",
    "    Percentage < 40% : Grade F"
   ]
  },
  {
   "cell_type": "code",
   "execution_count": 31,
   "id": "3678f83f",
   "metadata": {},
   "outputs": [
    {
     "name": "stdout",
     "output_type": "stream",
     "text": [
      "Enter marks in Physics (out of 100): 89\n",
      "Enter marks in Chemistry (out of 100): 90\n",
      "Enter marks  in Biology (out of 100): 96\n",
      "Enter marks in Mathematics (out of 100): 98\n",
      "Enter marks in Computer (out of 100): 67\n",
      "Percentage: 88.0\n",
      "Grade: B\n"
     ]
    }
   ],
   "source": [
    "physics_marks = int(input(\"Enter marks in Physics (out of 100): \"))\n",
    "chemistry_marks = int(input(\"Enter marks in Chemistry (out of 100): \"))\n",
    "biology_marks = int(input(\"Enter marks  in Biology (out of 100): \"))\n",
    "mathematics_marks = int(input(\"Enter marks in Mathematics (out of 100): \"))\n",
    "computer_marks = int(input(\"Enter marks in Computer (out of 100): \"))\n",
    "\n",
    "total_marks = 500\n",
    "obtained_marks = physics_marks + chemistry_marks + biology_marks + mathematics_marks + computer_marks\n",
    "\n",
    "percentage = (obtained_marks / total_marks) * 100\n",
    "\n",
    "print(\"Percentage:\", percentage)\n",
    "\n",
    "if percentage >= 90:\n",
    "    grade = \"A\"\n",
    "elif percentage >= 80:\n",
    "    grade = \"B\"\n",
    "elif percentage >= 70:\n",
    "    grade = \"C\"\n",
    "elif percentage >= 60:\n",
    "    grade = \"D\"\n",
    "elif percentage >= 40:\n",
    "    grade = \"E\"\n",
    "else:\n",
    "    grade = \"F\"\n",
    "\n",
    "print(\"Grade:\", grade)"
   ]
  },
  {
   "cell_type": "markdown",
   "id": "700c730f",
   "metadata": {},
   "source": [
    "## Task 11: \n",
    "    Write a program to input electricity unit charges and calculate total electricity bill\n",
    "    according to the given condition:\n",
    "    For first 50 units Rs. 0.50/unit\n",
    "    For next 100 units (i.e., 51 to 150) Rs. 0.75/unit\n",
    "    For next 100 units (i.e., 151 to 250) Rs. 1.20/unit\n",
    "    For units above 250 Rs. 1.50/unit\n",
    "    An additional surcharge of 20% is added to the bill"
   ]
  },
  {
   "cell_type": "code",
   "execution_count": 32,
   "id": "d70b1bcf",
   "metadata": {},
   "outputs": [
    {
     "name": "stdout",
     "output_type": "stream",
     "text": [
      "Enter the number of electricity units consumed: 190\n",
      "Total Electricity Bill: Rs. 177.6\n"
     ]
    }
   ],
   "source": [
    "unit_charges = float(input(\"Enter the number of electricity units consumed: \"))\n",
    "\n",
    "if unit_charges <= 50:\n",
    "    bill = unit_charges * 0.50\n",
    "elif unit_charges <= 150:\n",
    "    bill = 50 * 0.50 + (unit_charges - 50) * 0.75\n",
    "elif unit_charges <= 250:\n",
    "    bill = 50 * 0.50 + 100 * 0.75 + (unit_charges - 150) * 1.20\n",
    "else:\n",
    "    bill = 50 * 0.50 + 100 * 0.75 + 100 * 1.20 + (unit_charges - 250) * 1.50\n",
    "\n",
    "surcharge = bill * 0.20 \n",
    "total_bill = bill + surcharge\n",
    "\n",
    "print(\"Total Electricity Bill: Rs.\", total_bill)\n"
   ]
  },
  {
   "cell_type": "code",
   "execution_count": null,
   "id": "0fb2d33d",
   "metadata": {},
   "outputs": [],
   "source": []
  }
 ],
 "metadata": {
  "kernelspec": {
   "display_name": "Python 3 (ipykernel)",
   "language": "python",
   "name": "python3"
  },
  "language_info": {
   "codemirror_mode": {
    "name": "ipython",
    "version": 3
   },
   "file_extension": ".py",
   "mimetype": "text/x-python",
   "name": "python",
   "nbconvert_exporter": "python",
   "pygments_lexer": "ipython3",
   "version": "3.10.9"
  }
 },
 "nbformat": 4,
 "nbformat_minor": 5
}
