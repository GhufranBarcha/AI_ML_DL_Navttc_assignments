{
 "cells": [
  {
   "cell_type": "markdown",
   "id": "96a766c7",
   "metadata": {},
   "source": [
    "# Tasks"
   ]
  },
  {
   "cell_type": "markdown",
   "id": "b4e0687c",
   "metadata": {},
   "source": [
    "    Task1:\n",
    "    Write a Python program using function to count the number of strings from a given list of\n",
    "    strings. The string length is 2 or more and the first and last characters are the same.\n",
    "    \n",
    "    Task 2\n",
    "    Write a Python program to get a list, sorted in increasing order by the last element in each\n",
    "    tuple from a given list of non-empty tuples.\n",
    "    Sample List : [(2, 5), (1, 2), (4, 4), (2, 3), (2, 1)]\n",
    "    Expected Result : [(2, 1), (1, 2), (2, 3), (4, 4), (2, 5)]\n",
    "        \n",
    "    Task3:\n",
    "    Here is your list of elements [1,0,6,2,0.8,9,'Jamal','Adeel','Hamza','Ali','Jawad','C','Q',P]\n",
    "    Write a lambda expression which genernates these results\n",
    "    Result 1:[0,0.8,1,2,6,9]\n",
    "    Result 2:['Jamal','Adeel','Hamza','Ali','Jawad']\n",
    "    Result 3:[\"Adeel\",\"Ali\",\"Hamaza\",\"Jamal\",\"Jawad\"]\n",
    "    Result 4: [\"C\",\"P\",\"Q\"]\n",
    "    Result5: Multiply each number of list with 5\n",
    "        \n",
    "    Task 4:\n",
    "    Create a file with name Try.txt and write code of python in function structure which what\n",
    "    nested functions\n",
    "    1. Def read()\n",
    "    You can display the result of upper question in it\n",
    "\n",
    "    2. Def write()\n",
    "    You will save the result of all question in files with with question number.\n",
    "    Also apply try and except in case file does not exist then exception case will run.Task1:\n",
    "    Write a Python program using function to count the number of strings from a given list of\n",
    "    strings. The string length is 2 or more and the first and last characters are the same.\n",
    "    \n",
    "    \n",
    "    Task 2\n",
    "    Write a Python program to get a list, sorted in increasing order by the last element in each\n",
    "    tuple from a given list of non-empty tuples.\n",
    "    Sample List : [(2, 5), (1, 2), (4, 4), (2, 3), (2, 1)]\n",
    "    Expected Result : [(2, 1), (1, 2), (2, 3), (4, 4), (2, 5)]\n",
    "        \n",
    "        \n",
    "    Task3:\n",
    "    Here is your list of elements [1,0,6,2,0.8,9,'Jamal','Adeel','Hamza','Ali','Jawad','C','Q',P]\n",
    "    Write a lambda expression which genernates these results\n",
    "    Result 1:[0,0.8,1,2,6,9]\n",
    "    Result 2:['Jamal','Adeel','Hamza','Ali','Jawad']\n",
    "    Result 3:[\"Adeel\",\"Ali\",\"Hamaza\",\"Jamal\",\"Jawad\"]\n",
    "    Result 4: [\"C\",\"P\",\"Q\"]\n",
    "    Result5: Multiply each number of list with 5\n",
    "        \n",
    "        \n",
    "    Task 4:\n",
    "    Create a file with name Try.txt and write code of python in function structure which what\n",
    "    nested functions\n",
    "    1. Def read()\n",
    "    You can display the result of upper question in it\n",
    "\n",
    "    2. Def write()\n",
    "    You will save the result of all question in files with with question number.\n",
    "    Also apply try and except in case file does not exist then exception case will run."
   ]
  },
  {
   "cell_type": "markdown",
   "id": "2c27265d",
   "metadata": {},
   "source": [
    "## Task1:\n",
    "    Write a Python program using function to count the number of strings from a given list of\n",
    "    strings. The string length is 2 or more and the first and last characters are the same."
   ]
  },
  {
   "cell_type": "code",
   "execution_count": 15,
   "id": "d370511b",
   "metadata": {},
   "outputs": [
    {
     "name": "stdout",
     "output_type": "stream",
     "text": [
      "Number of strings: 2\n"
     ]
    }
   ],
   "source": [
    "string_list = ['hello', 'level', 'world', 'noon', 'python']\n",
    "\n",
    "def count_str(string_list):\n",
    "    \n",
    "    count = 0\n",
    "    \n",
    "    for string in string_list:\n",
    "        if len(string) >= 2 and string[0] == string[-1]:\n",
    "            count += 1\n",
    "            \n",
    "    return count        \n",
    "result = count_str(string_list)\n",
    "print(\"Number of strings:\", result)            "
   ]
  },
  {
   "cell_type": "markdown",
   "id": "93ccd796",
   "metadata": {},
   "source": [
    "## Task 2\n",
    "    Write a Python program to get a list, sorted in increasing order by the last element in each\n",
    "    tuple from a given list of non-empty tuples.\n",
    "    Sample List : [(2, 5), (1, 2), (4, 4), (2, 3), (2, 1)]\n",
    "    Expected Result : [(2, 1), (1, 2), (2, 3), (4, 4), (2, 5)]"
   ]
  },
  {
   "cell_type": "code",
   "execution_count": 16,
   "id": "3d11937d",
   "metadata": {},
   "outputs": [
    {
     "name": "stdout",
     "output_type": "stream",
     "text": [
      "Sorted List: [(2, 1), (1, 2), (2, 3), (4, 4), (2, 5)]\n"
     ]
    }
   ],
   "source": [
    "def sort_tuples(Sample_list):\n",
    "    sorted_tuples = sorted(Sample_list, key=lambda x: x[-1])\n",
    "    return sorted_tuples\n",
    "\n",
    "# Test the function\n",
    "Sample_list = [(2, 5), (1, 2), (4, 4), (2, 3), (2, 1)]\n",
    "result = sort_tuples(Sample_list)\n",
    "print(\"Sorted List:\", result)"
   ]
  },
  {
   "cell_type": "markdown",
   "id": "cbca9101",
   "metadata": {},
   "source": [
    "## Task3:\n",
    "    Here is your list of elements [1,0,6,2,0.8,9,'Jamal','Adeel','Hamza','Ali','Jawad','C','Q',P]\n",
    "    Write a lambda expression which genernates these results\n",
    "    Result 1:[0,0.8,1,2,6,9]\n",
    "    Result 2:['Jamal','Adeel','Hamza','Ali','Jawad']\n",
    "    Result 3:[\"Adeel\",\"Ali\",\"Hamaza\",\"Jamal\",\"Jawad\"]\n",
    "    Result 4: [\"C\",\"P\",\"Q\"]\n",
    "    Result5: Multiply each number of list with 5"
   ]
  },
  {
   "cell_type": "code",
   "execution_count": 23,
   "id": "a86f6390",
   "metadata": {},
   "outputs": [
    {
     "name": "stdout",
     "output_type": "stream",
     "text": [
      "Result 1: [0, 0.8, 1, 2, 6, 9]\n",
      "Result 2: ['Jamal', 'Adeel', 'Hamza', 'Ali', 'Jawad']\n",
      "Result 3: ['Jawad', 'Jamal', 'Hamza', 'Ali', 'Adeel']\n",
      "Result 4: ['C', 'Q', 'P']\n",
      "Result 5: [5, 0, 30, 10, 4.0, 45, 'Jamal', 'Adeel', 'Hamza', 'Ali', 'Jawad', 'C', 'Q', 'P']\n"
     ]
    }
   ],
   "source": [
    "\n",
    "elements = [1, 0, 6, 2, 0.8, 9, 'Jamal', 'Adeel', 'Hamza', 'Ali', 'Jawad', 'C', 'Q', 'P']\n",
    "\n",
    "\n",
    "result1 = sorted(filter(lambda x: isinstance(x, (int, float)), elements))\n",
    "\n",
    "\n",
    "result2 = list(filter(lambda x: isinstance(x, str) and len(x) != 1, elements))\n",
    "\n",
    "\n",
    "result3 = sorted(filter(lambda x: isinstance(x, str) and len(x) != 1, elements), reverse=True)\n",
    "\n",
    "\n",
    "result4 = list(filter(lambda x: isinstance(x, str) and len(x) == 1, elements))\n",
    "\n",
    "\n",
    "result5 = list(map(lambda x: x * 5 if isinstance(x, (int, float)) else x, elements))\n",
    "\n",
    "# Print the results\n",
    "print(\"Result 1:\", result1)\n",
    "print(\"Result 2:\", result2)\n",
    "print(\"Result 3:\", result3)\n",
    "print(\"Result 4:\", result4)\n",
    "print(\"Result 5:\", result5)"
   ]
  },
  {
   "cell_type": "markdown",
   "id": "7dcb5ba8",
   "metadata": {},
   "source": [
    "## Task 4:\n",
    "    Create a file with name Try.txt and write code of python in function structure which what\n",
    "    nested functions\n",
    "    1. Def read()\n",
    "    You can display the result of upper question in it\n",
    "\n",
    "    2. Def write()\n",
    "    You will save the result of all question in files with with question number.\n",
    "    Also apply try and except in case file does not exist then exception case will run."
   ]
  },
  {
   "cell_type": "code",
   "execution_count": 45,
   "id": "cfdd4813",
   "metadata": {},
   "outputs": [
    {
     "name": "stdout",
     "output_type": "stream",
     "text": [
      "Results saved to 'Try.txt'\n",
      "Result 1: [0, 0.8, 1, 2, 6, 9]\n",
      "Result 2: ['Jamal', 'Adeel', 'Hamza', 'Ali', 'Jawad', 'C', 'Q', 'P']\n",
      "Result 3: ['Q', 'P', 'Jawad', 'Jamal', 'Hamza', 'C', 'Ali', 'Adeel']\n",
      "Result 4: ['C', 'Q', 'P']\n",
      "Result 5: [5, 0, 30, 10, 4.0, 45, 'Jamal', 'Adeel', 'Hamza', 'Ali', 'Jawad', 'C', 'Q', 'P']\n",
      "\n"
     ]
    }
   ],
   "source": [
    "def read_txt():\n",
    "    try:\n",
    "        with open(\"Try.txt\",\"r\") as file:\n",
    "            result = file.read()\n",
    "        \n",
    "    except Exception as e:\n",
    "        print(f\"Error in retrieve file {e}\")\n",
    "        \n",
    "\n",
    "def write_txt():\n",
    "    try:\n",
    "        with open(\"Try.txt\",\"w\") as file:\n",
    "            elements = [1, 0, 6, 2, 0.8, 9, 'Jamal', 'Adeel', 'Hamza', 'Ali', 'Jawad', 'C', 'Q', 'P']\n",
    "\n",
    "\n",
    "            result1 = sorted(filter(lambda x: isinstance(x, (int, float)), elements))\n",
    "\n",
    "\n",
    "            result2 = list(filter(lambda x: isinstance(x, str) and len(x) != 1, elements))\n",
    "\n",
    "\n",
    "            result3 = sorted(filter(lambda x: isinstance(x, str) and len(x) != 1, elements), reverse=True)\n",
    "\n",
    "\n",
    "            result4 = list(filter(lambda x: isinstance(x, str) and len(x) == 1, elements))\n",
    "\n",
    "\n",
    "            result5 = list(map(lambda x: x * 5 if isinstance(x, (int, float)) else x, elements))\n",
    "\n",
    "            # Print the results\n",
    "            file.write(\"Result 1:\", result1)\n",
    "            file.write(\"Result 2:\", result2)\n",
    "            file.write(\"Result 3:\", result3)\n",
    "            file.write(\"Result 4:\", result4)\n",
    "            file.write(\"Result 5:\", result5)\n",
    "            \n",
    "        \n",
    "    except Exception as e:\n",
    "        print(f\"Error occur {e}\")\n",
    "        \n",
    "        \n",
    "        \n",
    "        \n",
    "\n",
    "\n",
    "write()\n",
    "read()"
   ]
  },
  {
   "cell_type": "code",
   "execution_count": null,
   "id": "70cccb8e",
   "metadata": {},
   "outputs": [],
   "source": []
  },
  {
   "cell_type": "code",
   "execution_count": null,
   "id": "43b7a830",
   "metadata": {},
   "outputs": [],
   "source": []
  }
 ],
 "metadata": {
  "kernelspec": {
   "display_name": "Python 3 (ipykernel)",
   "language": "python",
   "name": "python3"
  },
  "language_info": {
   "codemirror_mode": {
    "name": "ipython",
    "version": 3
   },
   "file_extension": ".py",
   "mimetype": "text/x-python",
   "name": "python",
   "nbconvert_exporter": "python",
   "pygments_lexer": "ipython3",
   "version": "3.10.9"
  }
 },
 "nbformat": 4,
 "nbformat_minor": 5
}
