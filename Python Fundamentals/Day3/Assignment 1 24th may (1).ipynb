{
 "cells": [
  {
   "cell_type": "markdown",
   "id": "a72debb3",
   "metadata": {},
   "source": [
    "# Task"
   ]
  },
  {
   "cell_type": "code",
   "execution_count": 2,
   "id": "550ec239",
   "metadata": {},
   "outputs": [
    {
     "name": "stdout",
     "output_type": "stream",
     "text": [
      "Enter your math result: 15\n",
      "Enter your science result: 78\n",
      "Enter your biology result: 98\n",
      "\n",
      "Result math:  F\n",
      "Result science:  B\n",
      "Result biology:  A\n",
      "\n",
      "percentage of Math :  15.0 %\n",
      "percentage of science:  78.0 %\n",
      "percentage of biology :  98.0 %\n",
      "Average of result:  63.67\n",
      "Percentage of Subject Marks:  63.67 %\n"
     ]
    }
   ],
   "source": [
    "# Task 1: Calculator based on result scenario\n",
    "def calculator(result):\n",
    "    if result >= 80:\n",
    "        return 'A'\n",
    "    elif result >= 70:\n",
    "        return 'B'\n",
    "    elif result >= 60:\n",
    "        return 'C'\n",
    "    elif result >= 50:\n",
    "        return 'D'\n",
    "    else:\n",
    "        return 'F'\n",
    "\n",
    "# Task 2: Get value from user\n",
    "math = float(input(\"Enter your math result: \"))\n",
    "science = float(input(\"Enter your science result: \"))\n",
    "biology= float(input(\"Enter your biology result: \"))\n",
    "\n",
    "print(\"\\nResult math: \", calculator(math))\n",
    "print(\"Result science: \", calculator(science))\n",
    "print(\"Result biology: \", calculator(biology))\n",
    "\n",
    "# Task 3: Total marks\n",
    "marks = math + science + biology\n",
    "\n",
    "# Task 4: Average of the result\n",
    "average =round(marks / 3,2) \n",
    "\n",
    "# Task 5: Percentage of each subject marks\n",
    "\n",
    "print(\"\\npercentage of Math : \" , round(math/100 *100,2) ,'%')\n",
    "print(\"percentage of science: \" , round(science/100 *100,2) ,'%')\n",
    "print(\"percentage of biology : \" , round(biology/100 *100,2) ,'%')\n",
    "\n",
    "# Printing the results\n",
    "\n",
    "print(\"Average of result: \", average)\n",
    "print(\"Percentage of Subject Marks: \", round(marks/300 *100,2),'%')"
   ]
  },
  {
   "cell_type": "code",
   "execution_count": null,
   "id": "8727e67a",
   "metadata": {},
   "outputs": [],
   "source": []
  }
 ],
 "metadata": {
  "kernelspec": {
   "display_name": "Python 3 (ipykernel)",
   "language": "python",
   "name": "python3"
  },
  "language_info": {
   "codemirror_mode": {
    "name": "ipython",
    "version": 3
   },
   "file_extension": ".py",
   "mimetype": "text/x-python",
   "name": "python",
   "nbconvert_exporter": "python",
   "pygments_lexer": "ipython3",
   "version": "3.10.9"
  }
 },
 "nbformat": 4,
 "nbformat_minor": 5
}
