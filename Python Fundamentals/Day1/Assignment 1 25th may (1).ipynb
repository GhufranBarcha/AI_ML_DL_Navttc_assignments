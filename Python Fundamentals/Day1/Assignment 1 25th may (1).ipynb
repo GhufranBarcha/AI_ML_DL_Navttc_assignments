{
 "cells": [
  {
   "cell_type": "markdown",
   "id": "0d04bfe9",
   "metadata": {},
   "source": [
    "# Tasks\n"
   ]
  },
  {
   "cell_type": "code",
   "execution_count": 1,
   "id": "3828eb60",
   "metadata": {},
   "outputs": [
    {
     "name": "stdout",
     "output_type": "stream",
     "text": [
      "Total Marks :100\n",
      "obtained Marks :67\n",
      "pass\n"
     ]
    }
   ],
   "source": [
    "# Task 1:\n",
    "#1.Make a program in which user enter his total marks and obtained marks then display student is pass or\n",
    "#fail.\n",
    "\n",
    "totalMarks = int(input(\"Total Marks :\"))\n",
    "obtainedMarks = int(input(\"obtained Marks :\"))\n",
    "\n",
    "if obtainedMarks >= totalMarks /2 and obtainedMarks <= totalMarks:\n",
    "    print('pass')\n",
    "elif  obtainedMarks < totalMarks /2  and  obtainedMarks >= 0:\n",
    "    print('fail')\n",
    "else:\n",
    "    print ('inputs are invalid')"
   ]
  },
  {
   "cell_type": "code",
   "execution_count": 2,
   "id": "5e5ef3ce",
   "metadata": {},
   "outputs": [
    {
     "name": "stdout",
     "output_type": "stream",
     "text": [
      "input your marks :70\n",
      "B Grade\n"
     ]
    }
   ],
   "source": [
    "#Task 2:\n",
    "#2. Make a calculator which suggest your grades on the behalf of marks. (Hint 80 :A, 70:B, 60:C, 50:D)\n",
    "\n",
    "marks = int(input('input your marks :'))\n",
    "\n",
    "if marks>=80 and marks <= 100:\n",
    "    print('A Grade')\n",
    "elif  marks >= 70 and marks < 80:\n",
    "    print (\"B Grade\")\n",
    "\n",
    "elif  marks >= 60 and marks < 70:\n",
    "    print (\"C Grade\")\n",
    "    \n",
    "elif  marks >= 50 and marks < 60:\n",
    "    print (\"D Grade\") \n",
    "elif marks <50 and marks >=0:\n",
    "    print (\"F Grade\")\n",
    "else:\n",
    "    print ('invalid input')"
   ]
  },
  {
   "cell_type": "code",
   "execution_count": null,
   "id": "57a37620",
   "metadata": {},
   "outputs": [],
   "source": []
  },
  {
   "cell_type": "code",
   "execution_count": 4,
   "id": "b223d94c",
   "metadata": {},
   "outputs": [
    {
     "name": "stdout",
     "output_type": "stream",
     "text": [
      "Enter the result: 89\n",
      "Total result: Passed\n"
     ]
    }
   ],
   "source": [
    "#Task 3:\n",
    "#Make a program in which if single \"F\" comes then show total result will be \"Failed\"\n",
    "\n",
    "\n",
    "result = input(\"Enter the result: \")\n",
    "\n",
    "if result.count(\"F\") or result.count(\"f\") :\n",
    "    print(\"Total result: Failed\")\n",
    "else:\n",
    "    print(\"Total result: Passed\")"
   ]
  },
  {
   "cell_type": "code",
   "execution_count": 7,
   "id": "1935b648",
   "metadata": {},
   "outputs": [
    {
     "name": "stdout",
     "output_type": "stream",
     "text": [
      "Total Marks :19\n",
      "obtained Marks :23\n",
      "Error\n"
     ]
    }
   ],
   "source": [
    "#Task 4 :\n",
    "#Make a program in which if user enter obtain mark above then subject total marks then display error.\n",
    "\n",
    "totalMarks = int(input(\"Total Marks :\"))\n",
    "obtainedMarks = int(input(\"obtained Marks :\"))\n",
    "\n",
    "if obtainedMarks > totalMarks:\n",
    "    print('Error')\n",
    "else: \n",
    "    print('Marks entered successfully.')"
   ]
  },
  {
   "cell_type": "code",
   "execution_count": null,
   "id": "b2022321",
   "metadata": {},
   "outputs": [],
   "source": []
  },
  {
   "cell_type": "code",
   "execution_count": null,
   "id": "1c48b0a7",
   "metadata": {},
   "outputs": [],
   "source": []
  }
 ],
 "metadata": {
  "kernelspec": {
   "display_name": "Python 3 (ipykernel)",
   "language": "python",
   "name": "python3"
  },
  "language_info": {
   "codemirror_mode": {
    "name": "ipython",
    "version": 3
   },
   "file_extension": ".py",
   "mimetype": "text/x-python",
   "name": "python",
   "nbconvert_exporter": "python",
   "pygments_lexer": "ipython3",
   "version": "3.10.9"
  }
 },
 "nbformat": 4,
 "nbformat_minor": 5
}
