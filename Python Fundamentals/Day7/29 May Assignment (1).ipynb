{
 "cells": [
  {
   "cell_type": "markdown",
   "id": "f3a0b341",
   "metadata": {},
   "source": [
    "# Tasks"
   ]
  },
  {
   "cell_type": "markdown",
   "id": "db11ad23",
   "metadata": {},
   "source": [
    "        Task 1: Write a Python program that prints all the numbers from 0 to 10 except 2 and 8.\n",
    "        Task 2: Print table of 7 using for loop in this format\n",
    "        7 * 1= 7\n",
    "        7 * 2= 14\n",
    "        ...\n",
    "        ...\n",
    "        7 * 10= 70\n",
    "        Task 3: Write a program to print this:\n",
    "        *\n",
    "        * *\n",
    "        * * *\n",
    "        * * * *\n",
    "        * * * * *\n",
    "        * * * *\n",
    "        * * *\n",
    "        * *\n",
    "        *\n",
    "        Task 4: Take ten number from user in a loop and find the largest number\n",
    "        Task 5: Write a program to add ten numbers enter by user in a loop. (For loop)"
   ]
  },
  {
   "cell_type": "markdown",
   "id": "c0b9beb1",
   "metadata": {},
   "source": [
    "## Task 1:\n",
    "    Write a Python program that prints all the numbers from 0 to 10 except 2 and 8."
   ]
  },
  {
   "cell_type": "code",
   "execution_count": null,
   "id": "728d3db1",
   "metadata": {},
   "outputs": [],
   "source": [
    "for num in range(11):\n",
    "    if num != 2 and num != 8:\n",
    "        print(num)"
   ]
  },
  {
   "cell_type": "markdown",
   "id": "8f6c4276",
   "metadata": {},
   "source": [
    "## Task 2: \n",
    "    Print table of 7 using for loop in this format\n",
    "        7 * 1= 7\n",
    "        7 * 2= 14\n",
    "        ...\n",
    "        ...\n",
    "        7 * 10= 70      "
   ]
  },
  {
   "cell_type": "code",
   "execution_count": null,
   "id": "c63d5cbc",
   "metadata": {},
   "outputs": [],
   "source": [
    "for num in range(1, 11):\n",
    "    result = 7 * num\n",
    "    print(f\"7 * {num} = {result}\")"
   ]
  },
  {
   "cell_type": "markdown",
   "id": "0e2e63b3",
   "metadata": {},
   "source": [
    "## Task 3:\n",
    "    Write a program to print this:\n",
    "    *\n",
    "    * *\n",
    "    * * *\n",
    "    * * * *\n",
    "    * * * * *\n",
    "    * * * *\n",
    "    * * *\n",
    "    * *\n",
    "    *"
   ]
  },
  {
   "cell_type": "code",
   "execution_count": null,
   "id": "c2b0089b",
   "metadata": {},
   "outputs": [],
   "source": [
    "a = 1  # start ✴  star\n",
    "b = 5  # Maximum ✳ star\n",
    "\n",
    "for i in range(a,b+1):\n",
    "    print(\"* \" * i)\n",
    "for z in range(i-1,a-1,-1):\n",
    "    print(z * \"* \")"
   ]
  },
  {
   "cell_type": "markdown",
   "id": "53fa3e43",
   "metadata": {},
   "source": [
    "## Task 4:\n",
    "    Take ten number from user in a loop and find the largest number"
   ]
  },
  {
   "cell_type": "code",
   "execution_count": 2,
   "id": "8de04f1e",
   "metadata": {},
   "outputs": [
    {
     "name": "stdout",
     "output_type": "stream",
     "text": [
      "Enter a number: 12\n",
      "Enter a number: 12\n",
      "Enter a number: 43\n",
      "Enter a number: 534\n",
      "Enter a number: 12\n",
      "Enter a number: 43\n",
      "Enter a number: 54\n",
      "Enter a number: 34\n",
      "Enter a number: 23\n",
      "Enter a number: 43\n",
      "The largest number is: 534.0\n"
     ]
    }
   ],
   "source": [
    "largest = float(\"-inf\")\n",
    "for _ in range(10):\n",
    "    num = float(input(\"Enter a number: \"))\n",
    "    if num > largest:\n",
    "        largest = num\n",
    "\n",
    "print(\"The largest number is:\", largest) "
   ]
  },
  {
   "cell_type": "markdown",
   "id": "a8ee5306",
   "metadata": {},
   "source": [
    "## Task 5:\n",
    "    Write a program to add ten numbers enter by user in a loop. (For loop)"
   ]
  },
  {
   "cell_type": "code",
   "execution_count": 5,
   "id": "90788c5a",
   "metadata": {},
   "outputs": [
    {
     "name": "stdout",
     "output_type": "stream",
     "text": [
      "Enter a number: 12\n",
      "Enter a number: 32\n",
      "Enter a number: 45\n",
      "Enter a number: 23\n",
      "Enter a number: 43\n",
      "Enter a number: 54\n",
      "Enter a number: 54\n",
      "Enter a number: 23\n",
      "Enter a number: 23\n",
      "Enter a number: 12\n",
      "The sum of the numbers is: 321.0\n"
     ]
    }
   ],
   "source": [
    "total = 0\n",
    "for _ in range(10):\n",
    "    num = float(input(\"Enter a number: \"))\n",
    "    total += num\n",
    "\n",
    "print(\"The sum of the numbers is:\", total)"
   ]
  },
  {
   "cell_type": "markdown",
   "id": "9887529f",
   "metadata": {},
   "source": []
  },
  {
   "cell_type": "code",
   "execution_count": null,
   "id": "b8654d83",
   "metadata": {},
   "outputs": [],
   "source": []
  }
 ],
 "metadata": {
  "kernelspec": {
   "display_name": "Python 3 (ipykernel)",
   "language": "python",
   "name": "python3"
  },
  "language_info": {
   "codemirror_mode": {
    "name": "ipython",
    "version": 3
   },
   "file_extension": ".py",
   "mimetype": "text/x-python",
   "name": "python",
   "nbconvert_exporter": "python",
   "pygments_lexer": "ipython3",
   "version": "3.10.9"
  }
 },
 "nbformat": 4,
 "nbformat_minor": 5
}
