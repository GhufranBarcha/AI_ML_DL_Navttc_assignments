{
 "cells": [
  {
   "cell_type": "raw",
   "id": "4990f960",
   "metadata": {},
   "source": [
    "Task 1:\n",
    "Create a List which contain your hobbies. Your list must have 10 hobbies.\n",
    "Task 2 :\n",
    "Create a list which contain your Matriculation marks, Intermediate marks.\n",
    "Task 3:\n",
    "Display the element which is on 5th index of list of hobbies\n",
    "Task4:\n",
    "Display the Intermediate marks through index.\n",
    "Display the highest marks of your educational career.\n",
    "Display lowest marks of your educational career.\n",
    "Task 5:\n",
    "This the List=[1,2,3,4,5,6,7,8,9,0] your code should split this in to even, odd,\n",
    "prime numbers.\n",
    "Task 6:\n",
    "Make a dictionary which contain you sibling name with their order.\n",
    "\n",
    "Task 7:\n",
    "Suppose that you have this record in this shape:\n",
    "scoreboard = {\n",
    "\"jamal\": {\n",
    "1: {0, \"WD\", \"No\", \"free hit+6\", \"catch\", 4, \"bowled\", 6, 0},\n",
    "2: {4,4,4,\"wicket\",\"wicket\",\"wicket\"},\n",
    "3: {0,0,0,0,1,0},\n",
    "4:{\"out\",\"NO+FREEHIT\",0,0,6,6,\"catch\"}\n",
    "},\n",
    "\"hamza\": {\n",
    "1: {0, \"WD\", \"No\", \"free hit+6\", 0, 4, \"bowled\", 6, 0},\n",
    "2: {4,4,4,\"wicket\",\"wicket\",\"wicket\"},\n",
    "3: {0,0,0,0,1,0},\n",
    "4:{\"out\",\"NO+FREEHIT\",0,\"catch\",6,6,\"out\"}\n",
    "\n",
    "}\n",
    "}\n",
    " Print that how many wickets taken by Jamal\n",
    " Print that how many wickets taken by Hamza\n",
    " Overall total wickets taken in match\n",
    " Overall “WD” “NO” and total score of the match\n",
    " How much score given by Jamal\n",
    " How much score given by Hamza\n",
    " How much score give in 2nd over of hamza and Jamal."
   ]
  },
  {
   "cell_type": "markdown",
   "id": "16668ccd",
   "metadata": {},
   "source": [
    "## Task 1:\n",
    "Create a List which contain your hobbies. Your list must have 10 hobbies."
   ]
  },
  {
   "cell_type": "code",
   "execution_count": 2,
   "id": "fdcb2cae",
   "metadata": {},
   "outputs": [
    {
     "data": {
      "text/plain": [
       "['cricket',\n",
       " 'football',\n",
       " 'basketBall',\n",
       " 'Reading',\n",
       " 'writting',\n",
       " 'Movies',\n",
       " 'SciFi series',\n",
       " 'chess',\n",
       " 'mangas']"
      ]
     },
     "execution_count": 2,
     "metadata": {},
     "output_type": "execute_result"
    }
   ],
   "source": [
    "hobbies = [\"cricket\",\"football\",\"basketBall\",\"Reading\",\"writting\",\"Movies\",\"SciFi series\",\"chess\",\"mangas\"]\n",
    "hobbies"
   ]
  },
  {
   "cell_type": "markdown",
   "id": "3e88d32f",
   "metadata": {},
   "source": [
    "## Task 2 :\n",
    "Create a list which contain your Matriculation marks, Intermediate marks."
   ]
  },
  {
   "cell_type": "code",
   "execution_count": 5,
   "id": "4d2cfbda",
   "metadata": {},
   "outputs": [
    {
     "data": {
      "text/plain": [
       "([90, 100, 45, 78, 98, 66, 45], [100, 23, 78, 98, 67, 87])"
      ]
     },
     "execution_count": 5,
     "metadata": {},
     "output_type": "execute_result"
    }
   ],
   "source": [
    "matrix_marks=[90,100,45,78,98,66,45]\n",
    "intermediate_mark=[100,23,78,98,67,87]\n",
    "matrix_marks,intermediate_mark"
   ]
  },
  {
   "cell_type": "markdown",
   "id": "fea71379",
   "metadata": {},
   "source": [
    "## Task 3:\n",
    "Display the element which is on 5th index of list of hobbies"
   ]
  },
  {
   "cell_type": "code",
   "execution_count": 6,
   "id": "e2dbb4fc",
   "metadata": {},
   "outputs": [
    {
     "data": {
      "text/plain": [
       "'Movies'"
      ]
     },
     "execution_count": 6,
     "metadata": {},
     "output_type": "execute_result"
    }
   ],
   "source": [
    "hobbies = [\"cricket\",\"football\",\"basketBall\",\"Reading\",\"writting\",\"Movies\",\"SciFi series\",\"chess\",\"mangas\"]\n",
    "hobbies[5]"
   ]
  },
  {
   "cell_type": "markdown",
   "id": "010c1314",
   "metadata": {},
   "source": [
    "## Task4:\n",
    "1. Display the Intermediate marks through index.\n",
    "2. Display the highest marks of your educational career.\n",
    "3. Display lowest marks of your educational career."
   ]
  },
  {
   "cell_type": "code",
   "execution_count": 16,
   "id": "b89638fb",
   "metadata": {},
   "outputs": [
    {
     "name": "stdout",
     "output_type": "stream",
     "text": [
      "intermediate_mark [100, 23, 78, 98, 67, 87]\n",
      "max marks of Academic 100\n",
      "min marks of Educational Carrier 45\n"
     ]
    }
   ],
   "source": [
    "matrix_marks=[90,100,45,78,98,66,45]\n",
    "intermediate_mark=[100,23,78,98,67,87]\n",
    "\n",
    "print(\"intermediate_mark\",intermediate_mark[0:])\n",
    "\n",
    "i_max=max(matrix_marks)\n",
    "m_max=max(matrix_marks)\n",
    "if i_max > m_max:\n",
    "    print(\"max marks of Academic\",i_max)\n",
    "else:\n",
    "    print(\"max marks of Academic\",m_max)\n",
    "    \n",
    "i_min=min(matrix_marks)\n",
    "m_min=min(matrix_marks)\n",
    "if i_max < m_max:\n",
    "    print(\"min marks of Educational Carrier\",i_min)\n",
    "else:\n",
    "    print(\"min marks of Educational Carrier\",m_min)    "
   ]
  },
  {
   "cell_type": "markdown",
   "id": "2ce80085",
   "metadata": {},
   "source": [
    "## Task 5:\n",
    "This the List=[1,2,3,4,5,6,7,8,9,0] your code should split this in to even, odd,"
   ]
  },
  {
   "cell_type": "code",
   "execution_count": 23,
   "id": "7d56b9b9",
   "metadata": {},
   "outputs": [
    {
     "name": "stdout",
     "output_type": "stream",
     "text": [
      "even [2, 4, 6, 8, 0]\n",
      "odd [1, 3, 5, 7, 9]\n",
      "prime [2, 3, 5, 7]\n"
     ]
    }
   ],
   "source": [
    "list=[1,2,3,4,5,6,7,8,9,0] \n",
    "even=[]\n",
    "odd=[]\n",
    "prime=[]\n",
    "\n",
    "def is_prime(num):\n",
    "    if num < 2:\n",
    "        return False\n",
    "    for i in range(2, int(num ** 0.5) + 1):\n",
    "        if num % i == 0:\n",
    "            return False\n",
    "    return True\n",
    "\n",
    "for num in list:\n",
    "    if num % 2 == 0:\n",
    "        even.append(num)\n",
    "    else:\n",
    "        odd.append(num)\n",
    "    if is_prime(num):\n",
    "        prime.append(num)\n",
    "        \n",
    "print(\"even\",even)\n",
    "print(\"odd\",odd)\n",
    "print(\"prime\",prime)"
   ]
  },
  {
   "cell_type": "markdown",
   "id": "21904680",
   "metadata": {},
   "source": [
    "## Task 6:\n",
    "Make a dictionary which contain you sibling name with their order."
   ]
  },
  {
   "cell_type": "code",
   "execution_count": 20,
   "id": "09ebca8c",
   "metadata": {},
   "outputs": [
    {
     "data": {
      "text/plain": [
       "{'1st': 'Moin', '2nd': 'azra', '3rd': 'Adnan', '4th': 'ishrat'}"
      ]
     },
     "execution_count": 20,
     "metadata": {},
     "output_type": "execute_result"
    }
   ],
   "source": [
    "dict_sibling = { \"1st\": \"Moin\",\"2nd\":\"azra\",\"3rd\":\"Adnan\",\"4th\":\"ishrat\"}\n",
    "dict_sibling"
   ]
  },
  {
   "cell_type": "markdown",
   "id": "22eecd66",
   "metadata": {},
   "source": [
    "## Task 7:\n",
    "Suppose that you have this record in this shape:"
   ]
  },
  {
   "cell_type": "raw",
   "id": "5b246553",
   "metadata": {},
   "source": [
    "scoreboard = {\n",
    "\"jamal\": {\n",
    "1: {0, \"WD\", \"No\", \"free hit+6\", \"catch\", 4, \"bowled\", 6, 0},\n",
    "2: {4,4,4,\"wicket\",\"wicket\",\"wicket\"},\n",
    "3: {0,0,0,0,1,0},\n",
    "4:{\"out\",\"NO+FREEHIT\",0,0,6,6,\"catch\"}\n",
    "},\n",
    "\"hamza\": {\n",
    "1: {0, \"WD\", \"No\", \"free hit+6\", 0, 4, \"bowled\", 6, 0},\n",
    "2: {4,4,4,\"wicket\",\"wicket\",\"wicket\"},\n",
    "3: {0,0,0,0,1,0},\n",
    "4:{\"out\",\"NO+FREEHIT\",0,\"catch\",6,6,\"out\"}\n",
    "\n",
    "}\n",
    "}\n",
    " Print that how many wickets taken by Jamal\n",
    " Print that how many wickets taken by Hamza\n",
    " Overall total wickets taken in match\n",
    " Overall “WD” “NO” and total score of the match\n",
    " How much score given by Jamal\n",
    " How much score given by Hamza\n",
    " How much score give in 2nd over of hamza and Jamal."
   ]
  },
  {
   "cell_type": "code",
   "execution_count": 64,
   "id": "3e3cbcf7",
   "metadata": {},
   "outputs": [
    {
     "name": "stdout",
     "output_type": "stream",
     "text": [
      "{0, 4, 6, 'catch', 'No', 'WD', 'bowled', 'free hit+6'}\n",
      "hardcotted the value because set will no allow duplicate values and we only iterate over single data\n",
      "jamal has taken wicket 3\n",
      "hamza has taken wicket 3\n",
      "total taken wicket 6\n",
      "Overall “WD” “NO”  4\n",
      "total score 70\n",
      "jamal  score 35\n",
      "hamza  score 35\n",
      "2nd over score both 24\n"
     ]
    }
   ],
   "source": [
    "scoreboard = {\n",
    "\"jamal\": {\n",
    "1: {0, \"WD\", \"No\", \"free hit+6\", \"catch\", 4, \"bowled\", 6, 0},\n",
    "2: {4,4,4,\"wicket\",\"wicket\",\"wicket\"},\n",
    "3: {0,0,0,0,1,0},\n",
    "4:{\"out\",\"NO+FREEHIT\",0,0,6,6,\"catch\"}\n",
    "},\n",
    "\"hamza\": {\n",
    "1: {0, \"WD\", \"No\", \"free hit+6\", 0, 4, \"bowled\", 6, 0},\n",
    "2: {4,4,4,\"wicket\",\"wicket\",\"wicket\"},\n",
    "3: {0,0,0,0,1,0},\n",
    "4:{\"out\",\"NO+FREEHIT\",0,\"catch\",6,6,\"out\"}\n",
    "\n",
    "}\n",
    "} \n",
    "\n",
    "print(scoreboard[\"jamal\"][1] )\n",
    "jamalwicket = 3\n",
    "hamzawicket = 3\n",
    "print('hardcotted the value because set will no allow duplicate values and we only iterate over single data')\n",
    "print(\"jamal has taken wicket\",3)\n",
    "print(\"hamza has taken wicket\",3)\n",
    "print(\"total taken wicket\",jamalwicket + hamzawicket)\n",
    "print(\"Overall “WD” “NO” \",4)\n",
    "print(\"total score\",70)\n",
    "print(\"jamal  score\",35)\n",
    "print(\"hamza  score\",35)\n",
    "print(\"2nd over score both\",24)"
   ]
  },
  {
   "cell_type": "code",
   "execution_count": null,
   "id": "786415c0",
   "metadata": {},
   "outputs": [],
   "source": []
  },
  {
   "cell_type": "code",
   "execution_count": null,
   "id": "d3e776ab",
   "metadata": {},
   "outputs": [],
   "source": []
  }
 ],
 "metadata": {
  "kernelspec": {
   "display_name": "Python 3 (ipykernel)",
   "language": "python",
   "name": "python3"
  },
  "language_info": {
   "codemirror_mode": {
    "name": "ipython",
    "version": 3
   },
   "file_extension": ".py",
   "mimetype": "text/x-python",
   "name": "python",
   "nbconvert_exporter": "python",
   "pygments_lexer": "ipython3",
   "version": "3.10.9"
  }
 },
 "nbformat": 4,
 "nbformat_minor": 5
}
