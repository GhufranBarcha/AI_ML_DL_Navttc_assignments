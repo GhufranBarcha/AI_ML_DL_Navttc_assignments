{
 "cells": [
  {
   "cell_type": "markdown",
   "id": "e7237766",
   "metadata": {},
   "source": [
    "# Task 1\n"
   ]
  },
  {
   "cell_type": "code",
   "execution_count": 3,
   "id": "2854042f",
   "metadata": {},
   "outputs": [
    {
     "name": "stdout",
     "output_type": "stream",
     "text": [
      "cat\n"
     ]
    }
   ],
   "source": [
    "#Task 1: Rewrite this line so it's valid:\n",
    "#if species = \"cat\":\n",
    "species = \"cat\"\n",
    "if species == \"cat\":\n",
    "    print (species)"
   ]
  },
  {
   "cell_type": "markdown",
   "id": "b980f669",
   "metadata": {},
   "source": [
    "# Task 2"
   ]
  },
  {
   "cell_type": "code",
   "execution_count": 5,
   "id": "54195d42",
   "metadata": {},
   "outputs": [
    {
     "name": "stdout",
     "output_type": "stream",
     "text": [
      "Same Value\n"
     ]
    }
   ],
   "source": [
    "#Task 2: Code the first line of an if statement that tests whether x has the same value as y\n",
    "x =1\n",
    "y =1\n",
    "\n",
    "if x == y:\n",
    "    print (\"Same Value\")\n",
    "else:\n",
    "    print(\"Different Value\")"
   ]
  },
  {
   "cell_type": "markdown",
   "id": "642e6cca",
   "metadata": {},
   "source": [
    "# Task3"
   ]
  },
  {
   "cell_type": "code",
   "execution_count": null,
   "id": "9b54b882",
   "metadata": {},
   "outputs": [],
   "source": [
    "#Task 3: On line 1, test whether a has the same value as b. On line 2, write that c equals d. Don't forget to\n",
    "#indent the second line.\n",
    "a=1\n",
    "b =1\n",
    "\n",
    "if a == b:\n",
    "    c = d"
   ]
  },
  {
   "cell_type": "markdown",
   "id": "b5bc6db7",
   "metadata": {},
   "source": [
    "# Task4"
   ]
  },
  {
   "cell_type": "code",
   "execution_count": null,
   "id": "c0e0cd69",
   "metadata": {},
   "outputs": [],
   "source": [
    "#Task 4: If total has the value of 100, then tax has the value of 2. Code both lines. Don't forget to indent\n",
    "#the second line.\n",
    "\n",
    "if total == 100:\n",
    "    tax = 2"
   ]
  },
  {
   "cell_type": "markdown",
   "id": "63ee4026",
   "metadata": {},
   "source": [
    "# Task 5"
   ]
  },
  {
   "cell_type": "code",
   "execution_count": null,
   "id": "dd5dfd9f",
   "metadata": {},
   "outputs": [],
   "source": [
    "#Task 5: If first_name is \"Sherlock\", then last_name is equal to \"Holmes\" and pal is equal to \"Watson\".\n",
    "#Code all three lines.\n",
    "if first_name == \"Sherlock\":\n",
    "    last_name = \"Holmes\"\n",
    "    pal = \"Watson\"\n",
    "    "
   ]
  },
  {
   "cell_type": "markdown",
   "id": "e6df92a9",
   "metadata": {},
   "source": [
    "# Task 6"
   ]
  },
  {
   "cell_type": "code",
   "execution_count": 11,
   "id": "f755d744",
   "metadata": {},
   "outputs": [
    {
     "name": "stdout",
     "output_type": "stream",
     "text": [
      "Enter yes or no: No\n",
      "Better luck next time\n"
     ]
    }
   ],
   "source": [
    "#Task 6: Ask user to Enter “yes” or “no”. If user entered \"yes\" tell Python to print \"congrats\", if “no”, tell\n",
    "#python to print “better luck next time”.\n",
    "\n",
    "data = input(\"Enter yes or no: \")\n",
    "\n",
    "if data.lower() == \"yes\":\n",
    "    print(\"Congrats\")\n",
    "elif data.lower() == \"no\":\n",
    "    print(\"Better luck next time\")\n",
    "else:\n",
    "    print(\"Invalid input\")"
   ]
  },
  {
   "cell_type": "markdown",
   "id": "b7763be3",
   "metadata": {},
   "source": [
    "# Task 7"
   ]
  },
  {
   "cell_type": "code",
   "execution_count": null,
   "id": "54918250",
   "metadata": {},
   "outputs": [],
   "source": [
    "#Task 7: Code the first line of an if statement testing whether the variable total is less than 100.\n",
    "\n",
    "if total < 100:"
   ]
  },
  {
   "cell_type": "markdown",
   "id": "9dbc8ed0",
   "metadata": {},
   "source": [
    "# Task 8"
   ]
  },
  {
   "cell_type": "code",
   "execution_count": 12,
   "id": "7f0666c3",
   "metadata": {},
   "outputs": [
    {
     "name": "stdout",
     "output_type": "stream",
     "text": [
      "Enter value between 1 to 1000122\n",
      "smaller than 500\n"
     ]
    }
   ],
   "source": [
    "#Task 8: Write a program:\n",
    "#1. Ask user to enter a value in range of 1 -> 1000.\n",
    "#2. if the value is greater then 500, then write “greater than 500” else write “smaller than 500”.\n",
    "\n",
    "valueRange  = int(input(\"Enter value between 1 to 1000\"))\n",
    "if valueRange >500:\n",
    "    print(\"greater than 500\")\n",
    "else:\n",
    "    print (\"smaller than 500\")"
   ]
  },
  {
   "cell_type": "markdown",
   "id": "abec4e50",
   "metadata": {},
   "source": [
    "# Task 9"
   ]
  },
  {
   "cell_type": "code",
   "execution_count": 18,
   "id": "45e28871",
   "metadata": {},
   "outputs": [
    {
     "name": "stdout",
     "output_type": "stream",
     "text": [
      "Enter value of a : 4\n",
      "Enter value of b : 10\n",
      "Greater or Equal: True\n"
     ]
    }
   ],
   "source": [
    "#Task 9: Code if statement that tests whether the Difference of a and b (take input from user) is greater\n",
    "#than or equal to c= - 7.\n",
    "\n",
    "a  = int(input(\"Enter value of a : \"))\n",
    "b  = int(input(\"Enter value of b : \"))\n",
    "c = -7\n",
    "if a-b >= c:\n",
    "    print(\"Greater or Equal: True\")   \n",
    "else: \n",
    "    print(\"Greater or Equal: False \")\n",
    "               "
   ]
  },
  {
   "cell_type": "markdown",
   "id": "0c075cd3",
   "metadata": {},
   "source": [
    "# Task 10"
   ]
  },
  {
   "cell_type": "code",
   "execution_count": 19,
   "id": "c11d853e",
   "metadata": {},
   "outputs": [
    {
     "name": "stdout",
     "output_type": "stream",
     "text": [
      "Enter value of Variable : 12\n",
      "99\n"
     ]
    }
   ],
   "source": [
    "#Task 10: Write an if statement that tests whether a variable is smaller than 99. If the test passes, assign 99\n",
    "#to the variable. Make up the variable name. Remember to indent the second line two spaces.\n",
    "\n",
    "var  = int(input(\"Enter value of Variable : \"))\n",
    "\n",
    "if var < 99:\n",
    "    var = 99\n",
    "print(var)    "
   ]
  },
  {
   "cell_type": "markdown",
   "id": "7a04932f",
   "metadata": {},
   "source": [
    "\n",
    "# Task 11"
   ]
  },
  {
   "cell_type": "code",
   "execution_count": 22,
   "id": "3fadabd6",
   "metadata": {},
   "outputs": [
    {
     "name": "stdout",
     "output_type": "stream",
     "text": [
      "Enter value of Variable1 : 15\n",
      "Enter value of Variable2 : 12\n",
      "Var1 is 15\n",
      "Var2 is 15\n"
     ]
    }
   ],
   "source": [
    "#Task 11: Write an if statement that tests whether a first variable is greater than a second variable. (Take\n",
    "#both values from the user)\n",
    "#If the test passes, make the second variable equal to the first variable. Make up the variable names.\n",
    "\n",
    "var1  = int(input(\"Enter value of Variable1 : \"))\n",
    "var2  = int(input(\"Enter value of Variable2 : \"))\n",
    "\n",
    "if var1 > var2:\n",
    "    var2 = var1\n",
    "print(f\"Var1 is {var1}\")\n",
    "print(f\"Var2 is {var2}\")\n",
    "    "
   ]
  },
  {
   "cell_type": "code",
   "execution_count": null,
   "id": "357a88d3",
   "metadata": {},
   "outputs": [],
   "source": []
  }
 ],
 "metadata": {
  "kernelspec": {
   "display_name": "Python 3 (ipykernel)",
   "language": "python",
   "name": "python3"
  },
  "language_info": {
   "codemirror_mode": {
    "name": "ipython",
    "version": 3
   },
   "file_extension": ".py",
   "mimetype": "text/x-python",
   "name": "python",
   "nbconvert_exporter": "python",
   "pygments_lexer": "ipython3",
   "version": "3.10.9"
  }
 },
 "nbformat": 4,
 "nbformat_minor": 5
}
