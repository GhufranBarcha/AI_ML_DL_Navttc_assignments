{
 "cells": [
  {
   "cell_type": "markdown",
   "id": "03e56e7d",
   "metadata": {},
   "source": [
    "# Task 1"
   ]
  },
  {
   "cell_type": "code",
   "execution_count": null,
   "id": "58efa521",
   "metadata": {},
   "outputs": [],
   "source": [
    "#Task 1: Store your Bio data (Name, roll number, age, date of birth\n",
    "#and Gender) in the variables.\n",
    "\n",
    "Name = input(\"Your Name : \")\n",
    "rollNo = input(\"Your Roll Number : \")\n",
    "DateofBirth = input(\"Your date of birth : \")\n",
    "age = int(input(\"Your age : \"))\n",
    "gender = input(\" your gender : \")"
   ]
  },
  {
   "cell_type": "markdown",
   "id": "2d567fbc",
   "metadata": {},
   "source": [
    "# Task 2"
   ]
  },
  {
   "cell_type": "code",
   "execution_count": null,
   "id": "34ff0728",
   "metadata": {},
   "outputs": [],
   "source": [
    "#Task 2: Write a program to convert $ dollar into Pakistani Rupees.\n",
    "\n",
    "def convert(pkr):\n",
    "    dollar = pkr * 0.0035\n",
    "    print(f\"The converted Pkr to Dollar is {dollar}\")\n",
    "    return dollar\n",
    "\n",
    "pkr = int(input(\"Pkr amount to be converted : \"))\n",
    "convert(pkr)"
   ]
  },
  {
   "cell_type": "markdown",
   "id": "5cde758a",
   "metadata": {},
   "source": [
    "# Task 3"
   ]
  },
  {
   "cell_type": "code",
   "execution_count": null,
   "id": "3b10eda1",
   "metadata": {},
   "outputs": [],
   "source": [
    "#Take two number from user and then Calculate\n",
    "#these manipulations sum, subtract, multiple and division\n",
    "\n",
    "\n",
    "# Take input from the user\n",
    "num1 = float(input(\"Enter the first number: \"))\n",
    "num2 = float(input(\"Enter the second number: \"))\n",
    "\n",
    "# Perform the mathematical operations\n",
    "sum_result = num1 + num2\n",
    "sub_result = num1 - num2\n",
    "mul_result = num1 * num2\n",
    "div_result = num1 / num2\n",
    "\n",
    "# Print the results\n",
    "print(\"Sum:\", sum_result)\n",
    "print(\"Difference:\", sub_result)\n",
    "print(\"Product:\", mul_result)\n",
    "print(\"Division:\", div_result)"
   ]
  },
  {
   "cell_type": "markdown",
   "id": "422805d5",
   "metadata": {},
   "source": [
    "# Task 4"
   ]
  },
  {
   "cell_type": "code",
   "execution_count": null,
   "id": "47683d83",
   "metadata": {},
   "outputs": [],
   "source": [
    "#Task4: Please draw these diagrams.\n",
    "#***********************\n",
    "#*                     *\n",
    "#*                     *\n",
    "#*                     *\n",
    "#*                     *\n",
    "#***********************\n",
    "\n",
    "def diagram():\n",
    "    width = 23\n",
    "    print('*' * width)\n",
    "    for _ in range(height):\n",
    "          print('*' + '                     ' + '*')\n",
    "    print('*' * width)\n",
    "diagram() "
   ]
  },
  {
   "cell_type": "markdown",
   "id": "69f57430",
   "metadata": {},
   "source": [
    "# Task 5"
   ]
  },
  {
   "cell_type": "code",
   "execution_count": null,
   "id": "f5f9b3a2",
   "metadata": {},
   "outputs": [],
   "source": [
    "#Task 5: take two number from user and divide them and display\n",
    "#them without floating point.\n",
    "\n",
    "# Take input\n",
    "num1 = int(input(\"Enter the first number: \"))\n",
    "num2 = int(input(\"Enter the second number: \"))\n",
    "\n",
    "# division\n",
    "result = num1 // num2\n",
    "\n",
    "# Print the result\n",
    "print(\"Result:\", result)"
   ]
  },
  {
   "cell_type": "markdown",
   "id": "f5d0af3c",
   "metadata": {},
   "source": [
    "# Task 6"
   ]
  },
  {
   "cell_type": "code",
   "execution_count": null,
   "id": "bd4325d3",
   "metadata": {},
   "outputs": [],
   "source": [
    "#Task 6: Take the value from user in Celsius and covert into\n",
    "#Fahrenheit.\n",
    "celsius = float(input(\"Enter the temperature in Celsius: \"))\n",
    "\n",
    "# Celsius to Fahrenheit\n",
    "fahrenheit = (celsius * 9/5) + 32\n",
    "\n",
    "# Print the converted temperature\n",
    "print(\"Fahrenheit:\", fahrenheit)"
   ]
  },
  {
   "cell_type": "markdown",
   "id": "81430a2d",
   "metadata": {},
   "source": [
    "# Task 7"
   ]
  },
  {
   "cell_type": "code",
   "execution_count": null,
   "id": "ba43d774",
   "metadata": {},
   "outputs": [],
   "source": [
    "#Task 7: find the slope x1=5, x2=10 Where y1=3, y2=5 , b will be\n",
    "#enter from user (m=y2-y1/x2-x1)\n",
    "\n",
    "b = float(input(\"Enter the value of b (y-intercept): \"))\n",
    "\n",
    "\n",
    "x1 = 5\n",
    "x2 = 10\n",
    "y1 = 3\n",
    "y2 = 5\n",
    "\n",
    "#slope (m)\n",
    "m = (y2 - y1) / (x2 - x1)\n",
    "\n",
    "# Print the slope (m)\n",
    "print(\"Slope (m):\", m)"
   ]
  },
  {
   "cell_type": "markdown",
   "id": "36fdfb39",
   "metadata": {},
   "source": [
    "# Task 8"
   ]
  },
  {
   "cell_type": "code",
   "execution_count": null,
   "id": "7c765aca",
   "metadata": {},
   "outputs": [],
   "source": [
    "#Task 8: Enter your height in feet\n",
    "#and centimetres then system will display in meters\n",
    "\n",
    "height_feet = float(input(\"Enter your height in feet: \"))\n",
    "\n",
    "\n",
    "height_cm = float(input(\"Enter your height in centimeters: \"))\n",
    "\n",
    "\n",
    "height_meters = height_feet * 0.3048\n",
    "print('from feet to meter' , height_meters)\n",
    "\n",
    "height_centimeter = height_cm / 100\n",
    "\n",
    "print(\"from centimeter to meter: \",height_centimeter)"
   ]
  },
  {
   "cell_type": "markdown",
   "id": "3f47013e",
   "metadata": {},
   "source": [
    "# Task 9"
   ]
  },
  {
   "cell_type": "code",
   "execution_count": null,
   "id": "1760b459",
   "metadata": {},
   "outputs": [],
   "source": [
    "subject1_marks = float(input(\"Enter marks for subject 1: \"))\n",
    "subject2_marks = float(input(\"Enter marks for subject 2: \"))\n",
    "subject3_marks = float(input(\"Enter marks for subject 3: \"))\n",
    "\n",
    "# Calculate total marks\n",
    "total_marks = subject1_marks + subject2_marks + subject3_marks\n",
    "\n",
    "\n",
    "percentage = (total_marks / (3 * 100)) * 100\n",
    "\n",
    "\n",
    "subject1_percentage = (subject1_marks / 100) * 100\n",
    "subject2_percentage = (subject2_marks / 100) * 100\n",
    "subject3_percentage = (subject3_marks / 100) * 100\n",
    "\n",
    "\n",
    "print(\"Total Marks: \", total_marks)\n",
    "print(\"Overall Percentage: \", percentage)\n",
    "\n",
    "\n",
    "print(\"Subject 1 Percentage: \", subject1_percentage)\n",
    "print(\"Subject 2 Percentage: \", subject2_percentage)\n",
    "print(\"Subject 3 Percentage: \", subject3_percentage)\n"
   ]
  },
  {
   "cell_type": "code",
   "execution_count": null,
   "id": "be5165c4",
   "metadata": {},
   "outputs": [],
   "source": []
  }
 ],
 "metadata": {
  "kernelspec": {
   "display_name": "Python 3 (ipykernel)",
   "language": "python",
   "name": "python3"
  },
  "language_info": {
   "codemirror_mode": {
    "name": "ipython",
    "version": 3
   },
   "file_extension": ".py",
   "mimetype": "text/x-python",
   "name": "python",
   "nbconvert_exporter": "python",
   "pygments_lexer": "ipython3",
   "version": "3.10.9"
  }
 },
 "nbformat": 4,
 "nbformat_minor": 5
}
