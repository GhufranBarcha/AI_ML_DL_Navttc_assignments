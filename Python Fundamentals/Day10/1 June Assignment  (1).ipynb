{
 "cells": [
  {
   "cell_type": "markdown",
   "id": "d27e59d9",
   "metadata": {},
   "source": [
    "    Task 1:\n",
    "    Write a Python class named Student with two attributes student_name, marks. Modify the\n",
    "    attribute values of the said class and print the original and modified values of the said\n",
    "    attributes.\n",
    "    Task 2:\n",
    "    Write a Python class Restaurant with attributes like menu_items, book_table, and\n",
    "    customer_orders, and methods like add_item_to_menu, book_tables, and customer_order.\n",
    "    Perform the following tasks now:\n",
    "     Now add items to the menu.\n",
    "     Make table reservations.\n",
    "     Take customer orders.\n",
    "     Print the menu.\n",
    "     Print table reservations.\n",
    "     Print customer orders.\n",
    "    Note: Use dictionaries and lists to store the data"
   ]
  },
  {
   "cell_type": "markdown",
   "id": "ed703024",
   "metadata": {},
   "source": [
    "## Task 1:\n",
    "    Write a Python class named Student with two attributes student_name, marks. Modify the\n",
    "    attribute values of the said class and print the original and modified values of the said\n",
    "    attributes."
   ]
  },
  {
   "cell_type": "code",
   "execution_count": 2,
   "id": "afa632b9",
   "metadata": {},
   "outputs": [
    {
     "name": "stdout",
     "output_type": "stream",
     "text": [
      "Original values:\n",
      "Student Name: Ahmed\n",
      "Marks: 85\n",
      "\n",
      "Modified values:\n",
      "Student Name: Ghufran\n",
      "Marks: 92\n"
     ]
    }
   ],
   "source": [
    "class Student:\n",
    "    def __init__(self, student_name, marks):\n",
    "        self.student_name = student_name\n",
    "        self.marks = marks\n",
    "\n",
    "\n",
    "student = Student(\"Ahmed\", 85)\n",
    "\n",
    "\n",
    "print(\"Original values:\")\n",
    "print(\"Student Name:\", student.student_name)\n",
    "print(\"Marks:\", student.marks)\n",
    "\n",
    "\n",
    "student.student_name = \"Ghufran\"\n",
    "student.marks = 92\n",
    "\n",
    "\n",
    "print(\"\\nModified values:\")\n",
    "print(\"Student Name:\", student.student_name)\n",
    "print(\"Marks:\", student.marks)"
   ]
  },
  {
   "cell_type": "markdown",
   "id": "3f1ca31c",
   "metadata": {},
   "source": [
    "## Task 2:\n",
    "    Write a Python class Restaurant with attributes like menu_items, book_table, and\n",
    "    customer_orders, and methods like add_item_to_menu, book_tables, and customer_order.\n",
    "    Perform the following tasks now:\n",
    "     Now add items to the menu.\n",
    "     Make table reservations.\n",
    "     Take customer orders.\n",
    "     Print the menu.\n",
    "     Print table reservations.\n",
    "     Print customer orders.\n",
    "    Note: Use dictionaries and lists to store the data"
   ]
  },
  {
   "cell_type": "code",
   "execution_count": 4,
   "id": "d33d28ee",
   "metadata": {},
   "outputs": [
    {
     "name": "stdout",
     "output_type": "stream",
     "text": [
      "Menu:\n",
      "- Burger\n",
      "Table Reservations:\n",
      "- Table 1\n",
      "Customer Orders:\n",
      "- Burger\n"
     ]
    }
   ],
   "source": [
    "class Restaurant:\n",
    "    def __init__(self):\n",
    "        self.menu_items = []\n",
    "        self.book_table = []\n",
    "        self.customer_orders = []\n",
    "\n",
    "    def add_item_to_menu(self, item):\n",
    "        self.menu_items.append(item)\n",
    "\n",
    "    def book_tables(self, table):\n",
    "        self.book_table.append(table)\n",
    "\n",
    "    def customer_order(self, order):\n",
    "        self.customer_orders.append(order)\n",
    "\n",
    "    def print_menu(self):\n",
    "        print(\"Menu:\")\n",
    "        for item in self.menu_items:\n",
    "            print(\"-\", item)\n",
    "\n",
    "    def print_table_reservations(self):\n",
    "        print(\"Table Reservations:\")\n",
    "        for table in self.book_table:\n",
    "            print(\"-\", table)\n",
    "\n",
    "    def print_customer_orders(self):\n",
    "        print(\"Customer Orders:\")\n",
    "        for order in self.customer_orders:\n",
    "            print(\"-\", order)\n",
    "\n",
    "\n",
    "restaurant = Restaurant()\n",
    "\n",
    "restaurant.add_item_to_menu(\"Burger\")\n",
    "\n",
    "\n",
    "restaurant.book_tables(\"Table 1\")\n",
    "\n",
    "\n",
    "restaurant.customer_order(\"Burger\")\n",
    "\n",
    "\n",
    "\n",
    "restaurant.print_menu()\n",
    "restaurant.print_table_reservations()\n",
    "restaurant.print_customer_orders()"
   ]
  },
  {
   "cell_type": "code",
   "execution_count": null,
   "id": "5bbd8866",
   "metadata": {},
   "outputs": [],
   "source": []
  }
 ],
 "metadata": {
  "kernelspec": {
   "display_name": "Python 3 (ipykernel)",
   "language": "python",
   "name": "python3"
  },
  "language_info": {
   "codemirror_mode": {
    "name": "ipython",
    "version": 3
   },
   "file_extension": ".py",
   "mimetype": "text/x-python",
   "name": "python",
   "nbconvert_exporter": "python",
   "pygments_lexer": "ipython3",
   "version": "3.10.9"
  }
 },
 "nbformat": 4,
 "nbformat_minor": 5
}
