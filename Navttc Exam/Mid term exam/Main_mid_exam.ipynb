{
 "cells": [
  {
   "cell_type": "code",
   "execution_count": 86,
   "id": "f80102d8",
   "metadata": {},
   "outputs": [],
   "source": [
    "import pandas as pd\n",
    "import numpy as np\n",
    "from sklearn.linear_model import LogisticRegression\n",
    "from sklearn.model_selection import train_test_split\n",
    "from sklearn.preprocessing import StandardScaler ,OneHotEncoder \n",
    "from sklearn.metrics import f1_score ,accuracy_score ,confusion_matrix\n",
    "from sklearn.ensemble import RandomForestClassifier\n",
    "from sklearn.tree import DecisionTreeClassifier \n",
    "from sklearn.pipeline import Pipeline\n",
    "import seaborn as sns\n",
    "from sklearn.compose import ColumnTransformer\n",
    "from sklearn.svm import SVC\n",
    "from sklearn.neighbors import KNeighborsClassifier"
   ]
  },
  {
   "cell_type": "markdown",
   "id": "ff006366",
   "metadata": {},
   "source": [
    "## Ghufran Ahmed Barcha\n",
    "  ## C2-06"
   ]
  },
  {
   "cell_type": "markdown",
   "id": "bc7af80d",
   "metadata": {},
   "source": [
    "## Question 1"
   ]
  },
  {
   "cell_type": "code",
   "execution_count": 92,
   "id": "d0275628",
   "metadata": {},
   "outputs": [
    {
     "name": "stdout",
     "output_type": "stream",
     "text": [
      "**        ** \n",
      "**        ** \n",
      "**   **   ** \n",
      "**  ** ** ** \n",
      "**        ** \n"
     ]
    }
   ],
   "source": [
    "def pattern():\n",
    "    for i in range(5):\n",
    "        for j in range(9):\n",
    "            if j == 0 or j == 8 or (i == j and j > 4) or (i == 4 and j % 2 == 0):\n",
    "                print(\"**\", end=\" \")\n",
    "            else:\n",
    "                print(\" \", end=\" \")\n",
    "        print()\n"
   ]
  },
  {
   "cell_type": "markdown",
   "id": "2ad7dce3",
   "metadata": {},
   "source": [
    "## Question 2"
   ]
  },
  {
   "cell_type": "code",
   "execution_count": 50,
   "id": "33b5a7bf",
   "metadata": {},
   "outputs": [
    {
     "name": "stdout",
     "output_type": "stream",
     "text": [
      "[[1. 0. 1. 0. 1. 0. 1. 0.]\n",
      " [0. 1. 0. 1. 0. 1. 0. 1.]\n",
      " [1. 0. 1. 0. 1. 0. 1. 0.]\n",
      " [0. 1. 0. 1. 0. 1. 0. 1.]\n",
      " [1. 0. 1. 0. 1. 0. 1. 0.]\n",
      " [0. 1. 0. 1. 0. 1. 0. 1.]\n",
      " [1. 0. 1. 0. 1. 0. 1. 0.]\n",
      " [0. 1. 0. 1. 0. 1. 0. 1.]]\n"
     ]
    }
   ],
   "source": [
    "\n",
    "\n",
    "arr = np.zeros((8, 8))\n",
    "for a in range(8):\n",
    "    for b in range(8):\n",
    "        if (a + b) % 2 == 0:\n",
    "            arr[a, b] = 1\n",
    "\n",
    "print(arr)"
   ]
  },
  {
   "cell_type": "code",
   "execution_count": null,
   "id": "22f1cb3a",
   "metadata": {},
   "outputs": [],
   "source": []
  },
  {
   "cell_type": "markdown",
   "id": "624f4051",
   "metadata": {},
   "source": [
    " ## Question 3"
   ]
  },
  {
   "cell_type": "code",
   "execution_count": 22,
   "id": "1757c1ed",
   "metadata": {},
   "outputs": [
    {
     "data": {
      "text/plain": [
       "Age               0\n",
       "Sex               0\n",
       "ChestPainType     0\n",
       "RestingBP         0\n",
       "Cholesterol       0\n",
       "FastingBS         0\n",
       "RestingECG        0\n",
       "MaxHR             0\n",
       "ExerciseAngina    0\n",
       "Oldpeak           0\n",
       "ST_Slope          0\n",
       "HeartDisease      0\n",
       "dtype: int64"
      ]
     },
     "execution_count": 22,
     "metadata": {},
     "output_type": "execute_result"
    }
   ],
   "source": [
    "data = pd.read_csv(\"../DataSets/heart.csv\")\n",
    "data.isna().sum()"
   ]
  },
  {
   "cell_type": "code",
   "execution_count": 20,
   "id": "8bb0e720",
   "metadata": {},
   "outputs": [
    {
     "data": {
      "text/plain": [
       "<Axes: >"
      ]
     },
     "execution_count": 20,
     "metadata": {},
     "output_type": "execute_result"
    },
    {
     "data": {
      "image/png": "[encoded data removed]",
      "text/plain": [
       "<Figure size 640x480 with 1 Axes>"
      ]
     },
     "metadata": {},
     "output_type": "display_data"
    }
   ],
   "source": [
    "df = data.drop(\"HeartDisease\",axis = 1)\n",
    "\n",
    "sns.boxplot(data =df )\n",
    "\n",
    "## As you can see from boxplot there are outlier shown in diamond shape mean there are outliers\n",
    "##  in RestingBP  Cholesterol FastingBS RestingECG MaxHR which can decrease our model accuracy \n",
    "\n",
    "\n"
   ]
  },
  {
   "cell_type": "markdown",
   "id": "e0d58d34",
   "metadata": {},
   "source": [
    "## Question 4"
   ]
  },
  {
   "cell_type": "code",
   "execution_count": 29,
   "id": "96b9d8cf",
   "metadata": {},
   "outputs": [
    {
     "data": {
      "text/html": [
       "<div>\n",
       "<style scoped>\n",
       "    .dataframe tbody tr th:only-of-type {\n",
       "        vertical-align: middle;\n",
       "    }\n",
       "\n",
       "    .dataframe tbody tr th {\n",
       "        vertical-align: top;\n",
       "    }\n",
       "\n",
       "    .dataframe thead th {\n",
       "        text-align: right;\n",
       "    }\n",
       "</style>\n",
       "<table border=\"1\" class=\"dataframe\">\n",
       "  <thead>\n",
       "    <tr style=\"text-align: right;\">\n",
       "      <th></th>\n",
       "      <th>Age</th>\n",
       "      <th>Sex</th>\n",
       "      <th>ChestPainType</th>\n",
       "      <th>RestingBP</th>\n",
       "      <th>Cholesterol</th>\n",
       "      <th>FastingBS</th>\n",
       "      <th>RestingECG</th>\n",
       "      <th>MaxHR</th>\n",
       "      <th>ExerciseAngina</th>\n",
       "      <th>Oldpeak</th>\n",
       "      <th>ST_Slope</th>\n",
       "      <th>HeartDisease</th>\n",
       "    </tr>\n",
       "  </thead>\n",
       "  <tbody>\n",
       "    <tr>\n",
       "      <th>0</th>\n",
       "      <td>40</td>\n",
       "      <td>M</td>\n",
       "      <td>ATA</td>\n",
       "      <td>140</td>\n",
       "      <td>289</td>\n",
       "      <td>0</td>\n",
       "      <td>Normal</td>\n",
       "      <td>172</td>\n",
       "      <td>N</td>\n",
       "      <td>0.0</td>\n",
       "      <td>Up</td>\n",
       "      <td>0</td>\n",
       "    </tr>\n",
       "    <tr>\n",
       "      <th>1</th>\n",
       "      <td>49</td>\n",
       "      <td>F</td>\n",
       "      <td>NAP</td>\n",
       "      <td>160</td>\n",
       "      <td>180</td>\n",
       "      <td>0</td>\n",
       "      <td>Normal</td>\n",
       "      <td>156</td>\n",
       "      <td>N</td>\n",
       "      <td>1.0</td>\n",
       "      <td>Flat</td>\n",
       "      <td>1</td>\n",
       "    </tr>\n",
       "    <tr>\n",
       "      <th>2</th>\n",
       "      <td>37</td>\n",
       "      <td>M</td>\n",
       "      <td>ATA</td>\n",
       "      <td>130</td>\n",
       "      <td>283</td>\n",
       "      <td>0</td>\n",
       "      <td>ST</td>\n",
       "      <td>98</td>\n",
       "      <td>N</td>\n",
       "      <td>0.0</td>\n",
       "      <td>Up</td>\n",
       "      <td>0</td>\n",
       "    </tr>\n",
       "    <tr>\n",
       "      <th>3</th>\n",
       "      <td>48</td>\n",
       "      <td>F</td>\n",
       "      <td>ASY</td>\n",
       "      <td>138</td>\n",
       "      <td>214</td>\n",
       "      <td>0</td>\n",
       "      <td>Normal</td>\n",
       "      <td>108</td>\n",
       "      <td>Y</td>\n",
       "      <td>1.5</td>\n",
       "      <td>Flat</td>\n",
       "      <td>1</td>\n",
       "    </tr>\n",
       "    <tr>\n",
       "      <th>4</th>\n",
       "      <td>54</td>\n",
       "      <td>M</td>\n",
       "      <td>NAP</td>\n",
       "      <td>150</td>\n",
       "      <td>195</td>\n",
       "      <td>0</td>\n",
       "      <td>Normal</td>\n",
       "      <td>122</td>\n",
       "      <td>N</td>\n",
       "      <td>0.0</td>\n",
       "      <td>Up</td>\n",
       "      <td>0</td>\n",
       "    </tr>\n",
       "    <tr>\n",
       "      <th>...</th>\n",
       "      <td>...</td>\n",
       "      <td>...</td>\n",
       "      <td>...</td>\n",
       "      <td>...</td>\n",
       "      <td>...</td>\n",
       "      <td>...</td>\n",
       "      <td>...</td>\n",
       "      <td>...</td>\n",
       "      <td>...</td>\n",
       "      <td>...</td>\n",
       "      <td>...</td>\n",
       "      <td>...</td>\n",
       "    </tr>\n",
       "    <tr>\n",
       "      <th>913</th>\n",
       "      <td>45</td>\n",
       "      <td>M</td>\n",
       "      <td>TA</td>\n",
       "      <td>110</td>\n",
       "      <td>264</td>\n",
       "      <td>0</td>\n",
       "      <td>Normal</td>\n",
       "      <td>132</td>\n",
       "      <td>N</td>\n",
       "      <td>1.2</td>\n",
       "      <td>Flat</td>\n",
       "      <td>1</td>\n",
       "    </tr>\n",
       "    <tr>\n",
       "      <th>914</th>\n",
       "      <td>68</td>\n",
       "      <td>M</td>\n",
       "      <td>ASY</td>\n",
       "      <td>144</td>\n",
       "      <td>193</td>\n",
       "      <td>1</td>\n",
       "      <td>Normal</td>\n",
       "      <td>141</td>\n",
       "      <td>N</td>\n",
       "      <td>3.4</td>\n",
       "      <td>Flat</td>\n",
       "      <td>1</td>\n",
       "    </tr>\n",
       "    <tr>\n",
       "      <th>915</th>\n",
       "      <td>57</td>\n",
       "      <td>M</td>\n",
       "      <td>ASY</td>\n",
       "      <td>130</td>\n",
       "      <td>131</td>\n",
       "      <td>0</td>\n",
       "      <td>Normal</td>\n",
       "      <td>115</td>\n",
       "      <td>Y</td>\n",
       "      <td>1.2</td>\n",
       "      <td>Flat</td>\n",
       "      <td>1</td>\n",
       "    </tr>\n",
       "    <tr>\n",
       "      <th>916</th>\n",
       "      <td>57</td>\n",
       "      <td>F</td>\n",
       "      <td>ATA</td>\n",
       "      <td>130</td>\n",
       "      <td>236</td>\n",
       "      <td>0</td>\n",
       "      <td>LVH</td>\n",
       "      <td>174</td>\n",
       "      <td>N</td>\n",
       "      <td>0.0</td>\n",
       "      <td>Flat</td>\n",
       "      <td>1</td>\n",
       "    </tr>\n",
       "    <tr>\n",
       "      <th>917</th>\n",
       "      <td>38</td>\n",
       "      <td>M</td>\n",
       "      <td>NAP</td>\n",
       "      <td>138</td>\n",
       "      <td>175</td>\n",
       "      <td>0</td>\n",
       "      <td>Normal</td>\n",
       "      <td>173</td>\n",
       "      <td>N</td>\n",
       "      <td>0.0</td>\n",
       "      <td>Up</td>\n",
       "      <td>0</td>\n",
       "    </tr>\n",
       "  </tbody>\n",
       "</table>\n",
       "<p>918 rows × 12 columns</p>\n",
       "</div>"
      ],
      "text/plain": [
       "     Age Sex ChestPainType  RestingBP  Cholesterol  FastingBS RestingECG  \\\n",
       "0     40   M           ATA        140          289          0     Normal   \n",
       "1     49   F           NAP        160          180          0     Normal   \n",
       "2     37   M           ATA        130          283          0         ST   \n",
       "3     48   F           ASY        138          214          0     Normal   \n",
       "4     54   M           NAP        150          195          0     Normal   \n",
       "..   ...  ..           ...        ...          ...        ...        ...   \n",
       "913   45   M            TA        110          264          0     Normal   \n",
       "914   68   M           ASY        144          193          1     Normal   \n",
       "915   57   M           ASY        130          131          0     Normal   \n",
       "916   57   F           ATA        130          236          0        LVH   \n",
       "917   38   M           NAP        138          175          0     Normal   \n",
       "\n",
       "     MaxHR ExerciseAngina  Oldpeak ST_Slope  HeartDisease  \n",
       "0      172              N      0.0       Up             0  \n",
       "1      156              N      1.0     Flat             1  \n",
       "2       98              N      0.0       Up             0  \n",
       "3      108              Y      1.5     Flat             1  \n",
       "4      122              N      0.0       Up             0  \n",
       "..     ...            ...      ...      ...           ...  \n",
       "913    132              N      1.2     Flat             1  \n",
       "914    141              N      3.4     Flat             1  \n",
       "915    115              Y      1.2     Flat             1  \n",
       "916    174              N      0.0     Flat             1  \n",
       "917    173              N      0.0       Up             0  \n",
       "\n",
       "[918 rows x 12 columns]"
      ]
     },
     "execution_count": 29,
     "metadata": {},
     "output_type": "execute_result"
    }
   ],
   "source": [
    "data"
   ]
  },
  {
   "cell_type": "code",
   "execution_count": 81,
   "id": "ac89cb50",
   "metadata": {},
   "outputs": [],
   "source": [
    "x = data.drop(\"HeartDisease\",axis=1)\n",
    "y = data[\"HeartDisease\"]\n",
    "\n",
    "numeric = [\"Age\",\"RestingBP\",\"Cholesterol\",\"MaxHR\",\"Oldpeak\"]\n",
    "categ = [\"Sex\",\"ChestPainType\",\"RestingECG\",\"ExerciseAngina\",\"ST_Slope\"]\n",
    "\n",
    "transformer = ColumnTransformer([(\"scaling\",StandardScaler() ,numeric),\n",
    "                                 (\"categor\",OneHotEncoder(),categ)],remainder=\"passthrough\")\n",
    "\n",
    "trans_x = transformer.fit_transform(x)\n",
    "\n",
    "x_train ,x_test ,y_train , y_test = train_test_split(trans_x , y,test_size = 0.3 ,random_state = 42)\n"
   ]
  },
  {
   "cell_type": "code",
   "execution_count": 82,
   "id": "d4ba76bd",
   "metadata": {},
   "outputs": [
    {
     "name": "stdout",
     "output_type": "stream",
     "text": [
      "Model score 0.8586956521739131\n",
      "Accuray 0.8586956521739131\n",
      "f1_score 0.8792569659442725\n"
     ]
    }
   ],
   "source": [
    "## using random Forest Classifier\n",
    "\n",
    "clf = RandomForestClassifier()\n",
    "clf.fit(x_train,y_train)\n",
    "\n",
    "print(\"Model score\",clf.score(x_test ,y_test))\n",
    "\n",
    "\n",
    "y_preds  = clf.predict(x_test)\n",
    "\n",
    "print(\"Accuray\",accuracy_score(y_test ,y_preds))\n",
    "print(\"f1_score\",f1_score(y_test ,y_preds))"
   ]
  },
  {
   "cell_type": "code",
   "execution_count": 83,
   "id": "d1a8852e",
   "metadata": {},
   "outputs": [
    {
     "name": "stdout",
     "output_type": "stream",
     "text": [
      "0.7572463768115942\n",
      "Accuray 0.7572463768115942\n",
      "f1_score 0.780327868852459\n"
     ]
    }
   ],
   "source": [
    "## Using Decision Tree\n",
    "\n",
    "\n",
    "dcf = DecisionTreeClassifier()\n",
    "dcf.fit(x_train,y_train)\n",
    "\n",
    "print(dcf.score(x_test ,y_test))\n",
    "\n",
    "y_preds  = dcf.predict(x_test)\n",
    "print(\"Accuray\",accuracy_score(y_test ,y_preds))\n",
    "print(\"f1_score\",f1_score(y_test ,y_preds))"
   ]
  },
  {
   "cell_type": "code",
   "execution_count": 84,
   "id": "6371b44b",
   "metadata": {},
   "outputs": [
    {
     "name": "stdout",
     "output_type": "stream",
     "text": [
      "0.8804347826086957\n",
      "Accuray 0.8804347826086957\n",
      "f1_score 0.897196261682243\n"
     ]
    }
   ],
   "source": [
    "## Using LogisticRegression\n",
    "\n",
    "lg = LogisticRegression()\n",
    "lg.fit(x_train,y_train)\n",
    "\n",
    "print(lg.score(x_test ,y_test))\n",
    "\n",
    "y_preds  = lg.predict(x_test)\n",
    "print(\"Accuray\",accuracy_score(y_test ,y_preds))\n",
    "print(\"f1_score\",f1_score(y_test ,y_preds))"
   ]
  },
  {
   "cell_type": "code",
   "execution_count": 85,
   "id": "bed4c108",
   "metadata": {},
   "outputs": [
    {
     "name": "stdout",
     "output_type": "stream",
     "text": [
      "0.8876811594202898\n",
      "Accuray 0.8876811594202898\n",
      "f1_score 0.9063444108761329\n"
     ]
    }
   ],
   "source": [
    "## Using SVC\n",
    "\n",
    "svc = SVC()\n",
    "svc.fit(x_train,y_train)\n",
    "\n",
    "print(svc.score(x_test ,y_test))\n",
    "\n",
    "y_preds  = svc.predict(x_test)\n",
    "print(\"Accuray\",accuracy_score(y_test ,y_preds))\n",
    "print(\"f1_score\",f1_score(y_test ,y_preds))"
   ]
  },
  {
   "cell_type": "code",
   "execution_count": 87,
   "id": "9774855e",
   "metadata": {},
   "outputs": [
    {
     "name": "stdout",
     "output_type": "stream",
     "text": [
      "0.8913043478260869\n",
      "Accuray 0.8913043478260869\n",
      "f1_score 0.9085365853658537\n"
     ]
    }
   ],
   "source": [
    "## Using KNN\n",
    "\n",
    "knn = KNeighborsClassifier()\n",
    "knn.fit(x_train,y_train)\n",
    "\n",
    "print(knn.score(x_test ,y_test))\n",
    "\n",
    "y_preds  = knn.predict(x_test)\n",
    "print(\"Accuray\",accuracy_score(y_test ,y_preds))\n",
    "print(\"f1_score\",f1_score(y_test ,y_preds))"
   ]
  },
  {
   "cell_type": "markdown",
   "id": "a68bf916",
   "metadata": {},
   "source": [
    "## Question 5 \n",
    "  ### Problem :\n",
    "    I have to train a model which will predict HeartDisease based on the different condition of patient \n",
    "     \n",
    "  ### Importing Data  \n",
    "     First I have import the data from my computer which is in csv(Comma seperated values) into my jupiter file \n",
    "     and converted it into DataFrame so i can easily manipulate it in pandas.\n",
    "     \n",
    "   ### Data Cleaning\n",
    "     I first check the data and checked if there are any missing data or duplicates values in it \n",
    "      so i can remove it before preprocessing.\n",
    "      \n",
    "   ### Data Visualization \n",
    "        After cleaning the data we I visualize the data in a boxplot to see if there are any outliears in it.\n",
    "        \n",
    "   ### Data Preprocessing\n",
    "        After visualizing the data i used OneHotEncoder and standardScaler to encode the categorical colums and to scale \n",
    "        the numerical colums so our model can better understand our data.\n",
    "        \n",
    "   ### Model Selection     \n",
    "        so I are selecting my model  based on measuring multiple test models accuracy_score ,model_score and f1_score \n",
    "        and by doing trail and error have selected RandomForestClassifier as my model because it gives me best performance.\n",
    "\n"
   ]
  },
  {
   "cell_type": "code",
   "execution_count": null,
   "id": "b8944687",
   "metadata": {},
   "outputs": [],
   "source": []
  },
  {
   "cell_type": "code",
   "execution_count": null,
   "id": "efe1fe7c",
   "metadata": {},
   "outputs": [],
   "source": []
  }
 ],
 "metadata": {
  "kernelspec": {
   "display_name": "Python 3 (ipykernel)",
   "language": "python",
   "name": "python3"
  },
  "language_info": {
   "codemirror_mode": {
    "name": "ipython",
    "version": 3
   },
   "file_extension": ".py",
   "mimetype": "text/x-python",
   "name": "python",
   "nbconvert_exporter": "python",
   "pygments_lexer": "ipython3",
   "version": "3.10.9"
  }
 },
 "nbformat": 4,
 "nbformat_minor": 5
}
