{
 "cells": [
  {
   "cell_type": "markdown",
   "id": "438dccca",
   "metadata": {},
   "source": [
    "# Name: Ghufran Ahmed Barcha\n",
    "# Roll-Number: C2-06    "
   ]
  },
  {
   "cell_type": "markdown",
   "id": "1e961023",
   "metadata": {},
   "source": [
    "# Section B - Practicle\n",
    "# 1. Describe a scenario where you'd use Azure's Cognitive Services for languages analysis and explain your choice of service."
   ]
  },
  {
   "cell_type": "markdown",
   "id": "014d372b",
   "metadata": {},
   "source": [
    "    I am a student working on a personal upwork project where the client asked me to do q text sentimental anaysis on customer reviews about a his food website.As the deadline was short  I  use Azure's Text Analytics service to analyze the text of the reviews and identify the positive, negative, and neutral sentiment. This information was asked by client.\n",
    "\n",
    "    I  choose Azure's Text Analytics service because it is a pre-configured service that can be used to analyze text for a variety of purposes, including sentiment analysis. It is also a scalable service that can handle large amounts of data.\n",
    "\n",
    "    Steps on how I complete client request:\n",
    "    - I first collected the data from customer.\n",
    "    - I then create a collection to store the customer reviews.\n",
    "    - then use the Text Analytics API to analyze the text of the reviews.\n",
    "    - The API return the sentiment of each review, as well as other information such as the key phrases and entities in the review.\n",
    "    - I  used this information to analyze the customer sentiment about the food website.\n",
    "\n",
    "    I know that Azure's Text Analytics service would be a valuable tool for this upword project. It would allow me to easily and efficiently analyze a large amount of client food website text data, and it would provide me with valuable insights into customer sentiment.\n",
    "\n",
    "    There are also some additional benefits of using Azure's Cognitive Services for languages analysis:\n",
    "\n",
    "    - It is a cloud-based service, so I don't need to worry about managing or maintaining the infrastructure or running any code on my laptop.\n",
    "    - It is easy to use, with a simple API we can use it can complete the task.\n",
    "    - It is secure services, with data encryption and access control features so i dont have to wory about client data being leaked or misused.\n",
    "\n",
    "    Thats why i used Azure's Cognitive Services languages analysis for my upwork project."
   ]
  },
  {
   "cell_type": "markdown",
   "id": "88205209",
   "metadata": {},
   "source": [
    "# Twitter Text Sentimental Analysis\n",
    "## I use Twitter text sentimental anylsis dataset from kaggle\n"
   ]
  },
  {
   "cell_type": "code",
   "execution_count": 2,
   "id": "7171df4e",
   "metadata": {},
   "outputs": [],
   "source": [
    "## Importing necessary libraries\n",
    "import pandas as pd\n",
    "import numpy as np\n",
    "import matplotlib.pyplot as plt\n",
    "import seaborn as sns\n",
    "import re\n",
    "from nltk.tokenize import word_tokenize\n",
    "from nltk.stem import WordNetLemmatizer\n",
    "from nltk.corpus import stopwords\n",
    "from wordcloud import WordCloud"
   ]
  },
  {
   "cell_type": "code",
   "execution_count": 3,
   "id": "ffc67e72",
   "metadata": {},
   "outputs": [
    {
     "name": "stderr",
     "output_type": "stream",
     "text": [
      "[nltk_data] Downloading package punkt to\n",
      "[nltk_data]     C:\\Users\\Barcha\\AppData\\Roaming\\nltk_data...\n",
      "[nltk_data]   Package punkt is already up-to-date!\n",
      "[nltk_data] Downloading package stopwords to\n",
      "[nltk_data]     C:\\Users\\Barcha\\AppData\\Roaming\\nltk_data...\n",
      "[nltk_data]   Package stopwords is already up-to-date!\n"
     ]
    },
    {
     "data": {
      "text/plain": [
       "True"
      ]
     },
     "execution_count": 3,
     "metadata": {},
     "output_type": "execute_result"
    }
   ],
   "source": [
    "## Dowmload necessary words data\n",
    "import nltk\n",
    "nltk.download('punkt')\n",
    "nltk.download('stopwords')"
   ]
  },
  {
   "cell_type": "markdown",
   "id": "d484f207",
   "metadata": {},
   "source": [
    "# Data Collection"
   ]
  },
  {
   "cell_type": "code",
   "execution_count": 4,
   "id": "b22025e5",
   "metadata": {},
   "outputs": [
    {
     "data": {
      "text/html": [
       "<div>\n",
       "<style scoped>\n",
       "    .dataframe tbody tr th:only-of-type {\n",
       "        vertical-align: middle;\n",
       "    }\n",
       "\n",
       "    .dataframe tbody tr th {\n",
       "        vertical-align: top;\n",
       "    }\n",
       "\n",
       "    .dataframe thead th {\n",
       "        text-align: right;\n",
       "    }\n",
       "</style>\n",
       "<table border=\"1\" class=\"dataframe\">\n",
       "  <thead>\n",
       "    <tr style=\"text-align: right;\">\n",
       "      <th></th>\n",
       "      <th>0</th>\n",
       "      <th>1</th>\n",
       "      <th>2</th>\n",
       "      <th>3</th>\n",
       "    </tr>\n",
       "  </thead>\n",
       "  <tbody>\n",
       "    <tr>\n",
       "      <th>0</th>\n",
       "      <td>2401</td>\n",
       "      <td>Borderlands</td>\n",
       "      <td>Positive</td>\n",
       "      <td>im getting on borderlands and i will murder yo...</td>\n",
       "    </tr>\n",
       "    <tr>\n",
       "      <th>1</th>\n",
       "      <td>2401</td>\n",
       "      <td>Borderlands</td>\n",
       "      <td>Positive</td>\n",
       "      <td>I am coming to the borders and I will kill you...</td>\n",
       "    </tr>\n",
       "    <tr>\n",
       "      <th>2</th>\n",
       "      <td>2401</td>\n",
       "      <td>Borderlands</td>\n",
       "      <td>Positive</td>\n",
       "      <td>im getting on borderlands and i will kill you ...</td>\n",
       "    </tr>\n",
       "    <tr>\n",
       "      <th>3</th>\n",
       "      <td>2401</td>\n",
       "      <td>Borderlands</td>\n",
       "      <td>Positive</td>\n",
       "      <td>im coming on borderlands and i will murder you...</td>\n",
       "    </tr>\n",
       "    <tr>\n",
       "      <th>4</th>\n",
       "      <td>2401</td>\n",
       "      <td>Borderlands</td>\n",
       "      <td>Positive</td>\n",
       "      <td>im getting on borderlands 2 and i will murder ...</td>\n",
       "    </tr>\n",
       "  </tbody>\n",
       "</table>\n",
       "</div>"
      ],
      "text/plain": [
       "      0            1         2  \\\n",
       "0  2401  Borderlands  Positive   \n",
       "1  2401  Borderlands  Positive   \n",
       "2  2401  Borderlands  Positive   \n",
       "3  2401  Borderlands  Positive   \n",
       "4  2401  Borderlands  Positive   \n",
       "\n",
       "                                                   3  \n",
       "0  im getting on borderlands and i will murder yo...  \n",
       "1  I am coming to the borders and I will kill you...  \n",
       "2  im getting on borderlands and i will kill you ...  \n",
       "3  im coming on borderlands and i will murder you...  \n",
       "4  im getting on borderlands 2 and i will murder ...  "
      ]
     },
     "execution_count": 4,
     "metadata": {},
     "output_type": "execute_result"
    }
   ],
   "source": [
    "## Retrive data here using pandas Dataframe\n",
    " \n",
    "## As I can not share my friends data instead i am going to use a ml code on     \n",
    "    \n",
    "train_df = pd.read_csv(\"./Final Exam/twitter_training.csv\" ,header = None)\n",
    "test_df = pd.read_csv(\"./Final Exam/twitter_validation.csv\" ,header = None)\n",
    "train_df.head()"
   ]
  },
  {
   "cell_type": "code",
   "execution_count": 5,
   "id": "836ab1fa",
   "metadata": {},
   "outputs": [],
   "source": [
    "## View the Train Data and test data\n",
    "train_df = train_df.drop(train_df.iloc[:,0:2],axis = 1)\n",
    "test_df = test_df.drop(test_df.iloc[:,0:2],axis = 1)"
   ]
  },
  {
   "cell_type": "code",
   "execution_count": 6,
   "id": "633e8ca6",
   "metadata": {},
   "outputs": [
    {
     "data": {
      "text/html": [
       "<div>\n",
       "<style scoped>\n",
       "    .dataframe tbody tr th:only-of-type {\n",
       "        vertical-align: middle;\n",
       "    }\n",
       "\n",
       "    .dataframe tbody tr th {\n",
       "        vertical-align: top;\n",
       "    }\n",
       "\n",
       "    .dataframe thead th {\n",
       "        text-align: right;\n",
       "    }\n",
       "</style>\n",
       "<table border=\"1\" class=\"dataframe\">\n",
       "  <thead>\n",
       "    <tr style=\"text-align: right;\">\n",
       "      <th></th>\n",
       "      <th>sentiment</th>\n",
       "      <th>text</th>\n",
       "    </tr>\n",
       "  </thead>\n",
       "  <tbody>\n",
       "    <tr>\n",
       "      <th>0</th>\n",
       "      <td>Positive</td>\n",
       "      <td>im getting on borderlands and i will murder yo...</td>\n",
       "    </tr>\n",
       "    <tr>\n",
       "      <th>1</th>\n",
       "      <td>Positive</td>\n",
       "      <td>I am coming to the borders and I will kill you...</td>\n",
       "    </tr>\n",
       "    <tr>\n",
       "      <th>2</th>\n",
       "      <td>Positive</td>\n",
       "      <td>im getting on borderlands and i will kill you ...</td>\n",
       "    </tr>\n",
       "    <tr>\n",
       "      <th>3</th>\n",
       "      <td>Positive</td>\n",
       "      <td>im coming on borderlands and i will murder you...</td>\n",
       "    </tr>\n",
       "    <tr>\n",
       "      <th>4</th>\n",
       "      <td>Positive</td>\n",
       "      <td>im getting on borderlands 2 and i will murder ...</td>\n",
       "    </tr>\n",
       "  </tbody>\n",
       "</table>\n",
       "</div>"
      ],
      "text/plain": [
       "  sentiment                                               text\n",
       "0  Positive  im getting on borderlands and i will murder yo...\n",
       "1  Positive  I am coming to the borders and I will kill you...\n",
       "2  Positive  im getting on borderlands and i will kill you ...\n",
       "3  Positive  im coming on borderlands and i will murder you...\n",
       "4  Positive  im getting on borderlands 2 and i will murder ..."
      ]
     },
     "execution_count": 6,
     "metadata": {},
     "output_type": "execute_result"
    }
   ],
   "source": [
    "## view the data\n",
    "text_df = pd.concat((train_df ,test_df) ,axis = 0)\n",
    "text_df.rename(columns = {2 : \"sentiment\" ,3: \"text\"} ,inplace = True)\n",
    "text_df.head()"
   ]
  },
  {
   "cell_type": "code",
   "execution_count": 7,
   "id": "1d75855e",
   "metadata": {},
   "outputs": [
    {
     "data": {
      "text/plain": [
       "(75682, 2)"
      ]
     },
     "execution_count": 7,
     "metadata": {},
     "output_type": "execute_result"
    }
   ],
   "source": [
    "text_df.shape"
   ]
  },
  {
   "cell_type": "markdown",
   "id": "3a49de7c",
   "metadata": {},
   "source": [
    "# Data Cleaning & Preprocessing"
   ]
  },
  {
   "cell_type": "code",
   "execution_count": 8,
   "id": "d53b7b72",
   "metadata": {},
   "outputs": [
    {
     "name": "stdout",
     "output_type": "stream",
     "text": [
      "sentiment      0\n",
      "text         686\n",
      "dtype: int64\n",
      "\n",
      " After droped \n",
      "sentiment    0\n",
      "text         0\n",
      "dtype: int64\n"
     ]
    }
   ],
   "source": [
    "## check for nan and missing values\n",
    "print(text_df.isna().sum())\n",
    "\n",
    "# drops Nan Values from DataFrame\n",
    "text_df.dropna(inplace=True)\n",
    "\n",
    "print(\"\\n\" ,\"After droped \")\n",
    "print(text_df.isna().sum())"
   ]
  },
  {
   "cell_type": "code",
   "execution_count": 9,
   "id": "231c1516",
   "metadata": {},
   "outputs": [
    {
     "name": "stdout",
     "output_type": "stream",
     "text": [
      "Duplicated Rows 4744\n",
      "Duplicated Rows after 0\n"
     ]
    }
   ],
   "source": [
    "## check for duplicates\n",
    "print(\"Duplicated Rows\",text_df.duplicated().sum())\n",
    "\n",
    "\n",
    "## Drop duplicates values\n",
    "text_df.drop_duplicates(inplace = True)\n",
    "\n",
    "print(\"Duplicated Rows after\",text_df.duplicated().sum())"
   ]
  },
  {
   "cell_type": "code",
   "execution_count": 10,
   "id": "32652d39",
   "metadata": {},
   "outputs": [],
   "source": [
    "## function to preprocess the data\n",
    "stopword = set(stopwords.words('english'))\n",
    "\n",
    "def textProcessing(text):\n",
    "    # Convert text to lowercase\n",
    "    text = text.lower()\n",
    "    \n",
    "    # Remove punctuation using regular expressions\n",
    "    text = re.sub(r'[^\\w\\s]', '', text)\n",
    "    \n",
    "    # Remove specific characters #, @, and $\n",
    "    text = re.sub(r'[#@\\$]', '', text)\n",
    "    \n",
    "    # tokenize and convert to list\n",
    "    tokens = word_tokenize(text)\n",
    "    \n",
    "    ## Lemmatize it \n",
    "    lemmatizer  = WordNetLemmatizer()\n",
    "    \n",
    "    ## lemmatize each token\n",
    "    text = [lemmatizer.lemmatize(token) for token in tokens]\n",
    "    \n",
    "    text = [word for word in text if word not in stopword]\n",
    "    \n",
    "    \n",
    "    return \" \".join(text) "
   ]
  },
  {
   "cell_type": "code",
   "execution_count": 11,
   "id": "79b3e1c3",
   "metadata": {},
   "outputs": [],
   "source": [
    "text_df[\"text\"] = text_df['text'].apply(textProcessing)"
   ]
  },
  {
   "cell_type": "code",
   "execution_count": 12,
   "id": "93f6e70e",
   "metadata": {},
   "outputs": [
    {
     "data": {
      "text/plain": [
       "0                           im getting borderland murder\n",
       "1                                     coming border kill\n",
       "2                             im getting borderland kill\n",
       "3                            im coming borderland murder\n",
       "4                         im getting borderland 2 murder\n",
       "                             ...                        \n",
       "988    suikoden 2 1 alex kidd miracle world persona 3...\n",
       "989    thank matching fund home depot rw payment 2155...\n",
       "991    late night stream boy come watch warzone run s...\n",
       "995    toronto art culture capital canada wonder want...\n",
       "996    actually good move tot bring viewer wa one peo...\n",
       "Name: text, Length: 70252, dtype: object"
      ]
     },
     "execution_count": 12,
     "metadata": {},
     "output_type": "execute_result"
    }
   ],
   "source": [
    "## Check text data\n",
    "text_df['text']"
   ]
  },
  {
   "cell_type": "code",
   "execution_count": 13,
   "id": "241fac4e",
   "metadata": {},
   "outputs": [
    {
     "data": {
      "text/plain": [
       "Negative      21329\n",
       "Positive      19271\n",
       "Neutral       17281\n",
       "Irrelevant    12371\n",
       "Name: sentiment, dtype: int64"
      ]
     },
     "execution_count": 13,
     "metadata": {},
     "output_type": "execute_result"
    }
   ],
   "source": [
    "text_df[\"sentiment\"].value_counts()"
   ]
  },
  {
   "cell_type": "markdown",
   "id": "ed4f0da3",
   "metadata": {},
   "source": [
    "# Data Visualization "
   ]
  },
  {
   "cell_type": "code",
   "execution_count": 14,
   "id": "8ddd9ef7",
   "metadata": {},
   "outputs": [
    {
     "data": {
      "image/png": "[encoded data removed]",
      "text/plain": [
       "<Figure size 800x600 with 1 Axes>"
      ]
     },
     "metadata": {},
     "output_type": "display_data"
    }
   ],
   "source": [
    "## Visualize the sentiment Distribution\n",
    "\n",
    "# Visualizing the Sentiment Distribution\n",
    "plt.style.use(\"ggplot\")\n",
    "plt.figure(figsize=(8, 6))\n",
    "sns.countplot(data=text_df, x='sentiment')\n",
    "plt.title('Distribution of Sentiment Classes')\n",
    "plt.xlabel('Sentiment')\n",
    "plt.ylabel('Count')\n",
    "plt.show()"
   ]
  },
  {
   "cell_type": "markdown",
   "id": "5fac14db",
   "metadata": {},
   "source": [
    "# Model selection and Training"
   ]
  },
  {
   "cell_type": "code",
   "execution_count": 23,
   "id": "d9a26556",
   "metadata": {},
   "outputs": [],
   "source": [
    "## import necessary library for\n",
    "from sklearn.model_selection import train_test_split\n",
    "from sklearn.svm import LinearSVC\n",
    "from sklearn.feature_extraction.text import TfidfVectorizer\n",
    "from sklearn.metrics import classification_report ,accuracy_score\n"
   ]
  },
  {
   "cell_type": "code",
   "execution_count": 16,
   "id": "949a5c0a",
   "metadata": {},
   "outputs": [
    {
     "data": {
      "text/plain": [
       "array(['Irrelevant', 'Negative', 'Neutral', 'Positive'], dtype=object)"
      ]
     },
     "execution_count": 16,
     "metadata": {},
     "output_type": "execute_result"
    }
   ],
   "source": [
    "#Convert sentiment labels to numerical values for modeling\n",
    "from sklearn.preprocessing import LabelEncoder\n",
    "label_encoder = LabelEncoder()\n",
    "text_df['sentiment_encoded'] = label_encoder.fit_transform(text_df['sentiment'])\n",
    "text_df['sentiment_encoded']\n",
    "\n",
    "label_encoder.classes_"
   ]
  },
  {
   "cell_type": "markdown",
   "id": "f6d913a4",
   "metadata": {},
   "source": [
    "## Split the data"
   ]
  },
  {
   "cell_type": "code",
   "execution_count": 27,
   "id": "5c8428e4",
   "metadata": {},
   "outputs": [
    {
     "data": {
      "text/plain": [
       "28469                                    unkplaystationcom\n",
       "12381                                           game nba2k\n",
       "40012    thanks fun stream weapon nice lot whose laugh ...\n",
       "63977    eamaddennfl yall ever gon na fix community fil...\n",
       "32006    uh peeper quest dont leagueoflegends riotsuppo...\n",
       "                               ...                        \n",
       "49982    idiot would walk one room another saying fifa ...\n",
       "43308    guy let unfollow imrankhanpti pubg unbannedwe ...\n",
       "51711    one stranger thing red dead redemption 2 offli...\n",
       "65270    eamaddennfl swami _ ea equipment _ guru reduce...\n",
       "34613    look toward great bash style game love new update\n",
       "Name: text, Length: 21076, dtype: object"
      ]
     },
     "execution_count": 27,
     "metadata": {},
     "output_type": "execute_result"
    }
   ],
   "source": [
    "## Split the data\n",
    "x = text_df[\"text\"]\n",
    "y = text_df[\"sentiment_encoded\"]\n",
    "\n",
    "x_train ,x_test ,y_train ,y_test = train_test_split(x ,y ,random_state = 42 ,test_size = 0.3)\n"
   ]
  },
  {
   "cell_type": "markdown",
   "id": "be697322",
   "metadata": {},
   "source": [
    "## Using TfidfVectorizer technique"
   ]
  },
  {
   "cell_type": "code",
   "execution_count": 36,
   "id": "e1fabea9",
   "metadata": {},
   "outputs": [],
   "source": [
    "vectorizer = TfidfVectorizer()\n",
    "x_train = vectorizer.fit_transform(x_train)\n",
    "x_test =  vectorizer.transform(x_test)"
   ]
  },
  {
   "cell_type": "code",
   "execution_count": 19,
   "id": "d30dca58",
   "metadata": {},
   "outputs": [
    {
     "data": {
      "text/html": [
       "<style>#sk-container-id-1 {color: black;background-color: white;}#sk-container-id-1 pre{padding: 0;}#sk-container-id-1 div.sk-toggleable {background-color: white;}#sk-container-id-1 label.sk-toggleable__label {cursor: pointer;display: block;width: 100%;margin-bottom: 0;padding: 0.3em;box-sizing: border-box;text-align: center;}#sk-container-id-1 label.sk-toggleable__label-arrow:before {content: \"▸\";float: left;margin-right: 0.25em;color: #696969;}#sk-container-id-1 label.sk-toggleable__label-arrow:hover:before {color: black;}#sk-container-id-1 div.sk-estimator:hover label.sk-toggleable__label-arrow:before {color: black;}#sk-container-id-1 div.sk-toggleable__content {max-height: 0;max-width: 0;overflow: hidden;text-align: left;background-color: #f0f8ff;}#sk-container-id-1 div.sk-toggleable__content pre {margin: 0.2em;color: black;border-radius: 0.25em;background-color: #f0f8ff;}#sk-container-id-1 input.sk-toggleable__control:checked~div.sk-toggleable__content {max-height: 200px;max-width: 100%;overflow: auto;}#sk-container-id-1 input.sk-toggleable__control:checked~label.sk-toggleable__label-arrow:before {content: \"▾\";}#sk-container-id-1 div.sk-estimator input.sk-toggleable__control:checked~label.sk-toggleable__label {background-color: #d4ebff;}#sk-container-id-1 div.sk-label input.sk-toggleable__control:checked~label.sk-toggleable__label {background-color: #d4ebff;}#sk-container-id-1 input.sk-hidden--visually {border: 0;clip: rect(1px 1px 1px 1px);clip: rect(1px, 1px, 1px, 1px);height: 1px;margin: -1px;overflow: hidden;padding: 0;position: absolute;width: 1px;}#sk-container-id-1 div.sk-estimator {font-family: monospace;background-color: #f0f8ff;border: 1px dotted black;border-radius: 0.25em;box-sizing: border-box;margin-bottom: 0.5em;}#sk-container-id-1 div.sk-estimator:hover {background-color: #d4ebff;}#sk-container-id-1 div.sk-parallel-item::after {content: \"\";width: 100%;border-bottom: 1px solid gray;flex-grow: 1;}#sk-container-id-1 div.sk-label:hover label.sk-toggleable__label {background-color: #d4ebff;}#sk-container-id-1 div.sk-serial::before {content: \"\";position: absolute;border-left: 1px solid gray;box-sizing: border-box;top: 0;bottom: 0;left: 50%;z-index: 0;}#sk-container-id-1 div.sk-serial {display: flex;flex-direction: column;align-items: center;background-color: white;padding-right: 0.2em;padding-left: 0.2em;position: relative;}#sk-container-id-1 div.sk-item {position: relative;z-index: 1;}#sk-container-id-1 div.sk-parallel {display: flex;align-items: stretch;justify-content: center;background-color: white;position: relative;}#sk-container-id-1 div.sk-item::before, #sk-container-id-1 div.sk-parallel-item::before {content: \"\";position: absolute;border-left: 1px solid gray;box-sizing: border-box;top: 0;bottom: 0;left: 50%;z-index: -1;}#sk-container-id-1 div.sk-parallel-item {display: flex;flex-direction: column;z-index: 1;position: relative;background-color: white;}#sk-container-id-1 div.sk-parallel-item:first-child::after {align-self: flex-end;width: 50%;}#sk-container-id-1 div.sk-parallel-item:last-child::after {align-self: flex-start;width: 50%;}#sk-container-id-1 div.sk-parallel-item:only-child::after {width: 0;}#sk-container-id-1 div.sk-dashed-wrapped {border: 1px dashed gray;margin: 0 0.4em 0.5em 0.4em;box-sizing: border-box;padding-bottom: 0.4em;background-color: white;}#sk-container-id-1 div.sk-label label {font-family: monospace;font-weight: bold;display: inline-block;line-height: 1.2em;}#sk-container-id-1 div.sk-label-container {text-align: center;}#sk-container-id-1 div.sk-container {/* jupyter's `normalize.less` sets `[hidden] { display: none; }` but bootstrap.min.css set `[hidden] { display: none !important; }` so we also need the `!important` here to be able to override the default hidden behavior on the sphinx rendered scikit-learn.org. See: https://github.com/scikit-learn/scikit-learn/issues/21755 */display: inline-block !important;position: relative;}#sk-container-id-1 div.sk-text-repr-fallback {display: none;}</style><div id=\"sk-container-id-1\" class=\"sk-top-container\"><div class=\"sk-text-repr-fallback\"><pre>RandomForestClassifier()</pre><b>In a Jupyter environment, please rerun this cell to show the HTML representation or trust the notebook. <br />On GitHub, the HTML representation is unable to render, please try loading this page with nbviewer.org.</b></div><div class=\"sk-container\" hidden><div class=\"sk-item\"><div class=\"sk-estimator sk-toggleable\"><input class=\"sk-toggleable__control sk-hidden--visually\" id=\"sk-estimator-id-1\" type=\"checkbox\" checked><label for=\"sk-estimator-id-1\" class=\"sk-toggleable__label sk-toggleable__label-arrow\">RandomForestClassifier</label><div class=\"sk-toggleable__content\"><pre>RandomForestClassifier()</pre></div></div></div></div></div>"
      ],
      "text/plain": [
       "RandomForestClassifier()"
      ]
     },
     "execution_count": 19,
     "metadata": {},
     "output_type": "execute_result"
    }
   ],
   "source": [
    "from sklearn.ensemble import RandomForestClassifier\n",
    "\n",
    "\n",
    "# Create a Random Forest model\n",
    "random_forest = RandomForestClassifier()\n",
    "\n",
    "## fit model\n",
    "random_forest.fit(x_train, y_train)\n"
   ]
  },
  {
   "cell_type": "code",
   "execution_count": 21,
   "id": "3aed68a0",
   "metadata": {},
   "outputs": [
    {
     "name": "stdout",
     "output_type": "stream",
     "text": [
      "Random Forest - Train Score: 0.9904628273954774\n",
      "Random Forest - Test Score: 0.9030650977415069\n",
      "              precision    recall  f1-score   support\n",
      "\n",
      "           0       0.82      0.95      0.88      3190\n",
      "           1       0.95      0.88      0.91      6864\n",
      "           2       0.88      0.92      0.90      5045\n",
      "           3       0.92      0.88      0.90      5977\n",
      "\n",
      "    accuracy                           0.90     21076\n",
      "   macro avg       0.89      0.91      0.90     21076\n",
      "weighted avg       0.91      0.90      0.90     21076\n",
      "\n"
     ]
    }
   ],
   "source": [
    "print(\"Random Forest - Train Score:\",random_forest.score(x_train, y_train))\n",
    "print(\"Random Forest - Test Score:\", random_forest.score(x_test, y_test))\n",
    "\n",
    "y_pred = random_forest.predict(x_test)\n",
    "print(classification_report(y_pred ,y_test))"
   ]
  },
  {
   "cell_type": "code",
   "execution_count": null,
   "id": "ba75a94e",
   "metadata": {},
   "outputs": [],
   "source": []
  },
  {
   "cell_type": "markdown",
   "id": "6fb757f3",
   "metadata": {},
   "source": [
    "# SVM"
   ]
  },
  {
   "cell_type": "code",
   "execution_count": 25,
   "id": "7284178c",
   "metadata": {},
   "outputs": [
    {
     "name": "stdout",
     "output_type": "stream",
     "text": [
      "Model Score on Training data 0.9401333984057264\n",
      "Model Score on Training data 0.8482159802619093\n",
      "              precision    recall  f1-score   support\n",
      "\n",
      "           0       0.79      0.86      0.83      3404\n",
      "           1       0.89      0.85      0.87      6613\n",
      "           2       0.83      0.85      0.84      5167\n",
      "           3       0.86      0.83      0.85      5892\n",
      "\n",
      "    accuracy                           0.85     21076\n",
      "   macro avg       0.84      0.85      0.85     21076\n",
      "weighted avg       0.85      0.85      0.85     21076\n",
      "\n"
     ]
    }
   ],
   "source": [
    "svm = LinearSVC()\n",
    "svm.fit(x_train ,y_train)\n",
    "print(\"Model Score on Training data\",svm.score(x_train ,y_train))\n",
    "print(\"Model Score on Training data\",svm.score(x_test ,y_test))\n",
    "y_pred = svm.predict(x_test)\n",
    "print(classification_report(y_pred ,y_test))"
   ]
  },
  {
   "cell_type": "code",
   "execution_count": null,
   "id": "11519d93",
   "metadata": {},
   "outputs": [],
   "source": []
  },
  {
   "cell_type": "code",
   "execution_count": null,
   "id": "2efa8ee9",
   "metadata": {},
   "outputs": [],
   "source": [
    "\n"
   ]
  },
  {
   "cell_type": "markdown",
   "id": "e17de737",
   "metadata": {},
   "source": [
    "# Deployment code"
   ]
  },
  {
   "cell_type": "code",
   "execution_count": 41,
   "id": "79b10231",
   "metadata": {},
   "outputs": [
    {
     "name": "stdout",
     "output_type": "stream",
     "text": [
      "Positive\n"
     ]
    }
   ],
   "source": [
    "text = [\"congratulations on having good marks\"]\n",
    "x_t =  vectorizer.transform(text)\n",
    "\n",
    "prediction = random_forest.predict(x_t)\n",
    "print(label_encoder.classes_[prediction][0])"
   ]
  },
  {
   "cell_type": "code",
   "execution_count": null,
   "id": "34c65498",
   "metadata": {},
   "outputs": [],
   "source": []
  }
 ],
 "metadata": {
  "kernelspec": {
   "display_name": "Python 3 (ipykernel)",
   "language": "python",
   "name": "python3"
  },
  "language_info": {
   "codemirror_mode": {
    "name": "ipython",
    "version": 3
   },
   "file_extension": ".py",
   "mimetype": "text/x-python",
   "name": "python",
   "nbconvert_exporter": "python",
   "pygments_lexer": "ipython3",
   "version": "3.10.9"
  }
 },
 "nbformat": 4,
 "nbformat_minor": 5
}
