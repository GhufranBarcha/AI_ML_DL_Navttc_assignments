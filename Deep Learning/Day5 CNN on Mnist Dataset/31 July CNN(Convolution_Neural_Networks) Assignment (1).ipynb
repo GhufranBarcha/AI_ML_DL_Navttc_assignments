{
 "cells": [
  {
   "cell_type": "markdown",
   "id": "57822590",
   "metadata": {
    "id": "57822590"
   },
   "source": [
    "# Task 1\n",
    "    Plot the  Confusion Matrix of the given Data Set .\n",
    "    Also write Story Telling Telling of the given Data Set"
   ]
  },
  {
   "cell_type": "markdown",
   "id": "60bcc9a8",
   "metadata": {
    "id": "60bcc9a8"
   },
   "source": [
    "## 1. Problem\n",
    "    We are tasked to perform Multi-class Classification using\n",
    "    CNN(Convolutional Neural Networks) on MNIST data set mentioning each and every steps."
   ]
  },
  {
   "cell_type": "markdown",
   "id": "cc72a462",
   "metadata": {
    "id": "cc72a462"
   },
   "source": [
    "# 2. Dataset\n",
    "    The Dataset contain 10,000 test and 60,000 handwritten images from 0 to 9.\n",
    "    'test'\t10,000\n",
    "    'train'\t60,000"
   ]
  },
  {
   "cell_type": "markdown",
   "id": "71a36dd2",
   "metadata": {
    "id": "71a36dd2"
   },
   "source": [
    "## 3. Data Preparation\n",
    "    We will be using the MNIST data set from tensorflow library to perform CNN\n",
    "    on the number images to analyse and visualize the effect of CNN on the\n",
    "    neural networks."
   ]
  },
  {
   "cell_type": "markdown",
   "id": "db1c7491",
   "metadata": {
    "id": "db1c7491"
   },
   "source": [
    "## 4. Apply CNN(Convolution Neural Networks)\n",
    "    We will Apply CNN(Convolution Neural Networks) on the given mnist dataset.\n",
    "    "
   ]
  },
  {
   "cell_type": "markdown",
   "id": "4ad35141",
   "metadata": {
    "id": "4ad35141"
   },
   "source": [
    "## 5. Evalute the CNN Model\n",
    "      Then Evalute the model on test data and predict accuracy and Confusion matrix"
   ]
  },
  {
   "cell_type": "markdown",
   "id": "ug4w7PaF097Q",
   "metadata": {
    "id": "ug4w7PaF097Q"
   },
   "source": [
    "## Importing nescessary libraries"
   ]
  },
  {
   "cell_type": "code",
   "execution_count": 14,
   "id": "dd30ad5e",
   "metadata": {
    "id": "dd30ad5e"
   },
   "outputs": [],
   "source": [
    "## Import all the necessary libraries\n",
    "import numpy as np\n",
    "import pandas as pd\n",
    "import tensorflow as tf\n",
    "import matplotlib.pyplot as plt\n",
    "from sklearn.metrics import classification_report ,confusion_matrix ,ConfusionMatrixDisplay\n",
    "## Import mnist dataset tensorflow.keras.datasets\n",
    "from tensorflow.keras.datasets import mnist"
   ]
  },
  {
   "cell_type": "code",
   "execution_count": null,
   "id": "bb1e5856",
   "metadata": {
    "colab": {
     "base_uri": "https://localhost:8080/"
    },
    "id": "bb1e5856",
    "outputId": "e76b0561-2667-462a-ece5-85753f5768de"
   },
   "outputs": [
    {
     "name": "stdout",
     "output_type": "stream",
     "text": [
      "Downloading data from https://storage.googleapis.com/tensorflow/tf-keras-datasets/mnist.npz\n",
      "11490434/11490434 [==============================] - 2s 0us/step\n"
     ]
    }
   ],
   "source": [
    "## load the mnist dataset and spit into test and train\n",
    "\n",
    "(x_train,y_train),(x_test,y_test) = mnist.load_data()"
   ]
  },
  {
   "cell_type": "code",
   "execution_count": null,
   "id": "98e9e273",
   "metadata": {
    "colab": {
     "base_uri": "https://localhost:8080/"
    },
    "id": "98e9e273",
    "outputId": "d0c71669-115e-46d3-c899-4e75b1c9bedc"
   },
   "outputs": [
    {
     "name": "stdout",
     "output_type": "stream",
     "text": [
      "shape of X_train (60000, 28, 28)\n",
      "shape of y_train (60000,)\n",
      "shape of X_test (10000, 28, 28)\n",
      "shape of y_test (10000,)\n"
     ]
    }
   ],
   "source": [
    "## Check the Shape of Single digits for better understanding\n",
    "print(\"shape of X_train\",x_train.shape)\n",
    "print(\"shape of y_train\",y_train.shape)\n",
    "print(\"shape of X_test\",x_test.shape)\n",
    "print(\"shape of y_test\",y_test.shape)"
   ]
  },
  {
   "cell_type": "code",
   "execution_count": null,
   "id": "35bf9236",
   "metadata": {
    "colab": {
     "base_uri": "https://localhost:8080/",
     "height": 447
    },
    "id": "35bf9236",
    "outputId": "818cb444-0c49-42fa-b184-d59051afe937"
   },
   "outputs": [
    {
     "data": {
      "text/plain": [
       "<matplotlib.image.AxesImage at 0x7d08e95cf0d0>"
      ]
     },
     "execution_count": 5,
     "metadata": {},
     "output_type": "execute_result"
    },
    {
     "data": {
      "image/png": "[encoded data removed]",
      "text/plain": [
       "<Figure size 640x480 with 1 Axes>"
      ]
     },
     "metadata": {},
     "output_type": "display_data"
    }
   ],
   "source": [
    "## plot the image of mnist number\n",
    "\n",
    "plt.imshow(x_train[0],cmap = \"gray\")"
   ]
  },
  {
   "cell_type": "code",
   "execution_count": null,
   "id": "0ecd1a0a",
   "metadata": {
    "id": "0ecd1a0a"
   },
   "outputs": [],
   "source": [
    "## Normalize the x_data\n",
    "\n",
    "x_train_normalized = x_train/255.0\n",
    "x_test_normalized = x_test/255.0"
   ]
  },
  {
   "cell_type": "markdown",
   "id": "l7ZXKEBO0wcK",
   "metadata": {
    "id": "l7ZXKEBO0wcK"
   },
   "source": [
    "## CNN model layers"
   ]
  },
  {
   "cell_type": "code",
   "execution_count": null,
   "id": "bbc04c00",
   "metadata": {
    "id": "bbc04c00"
   },
   "outputs": [],
   "source": [
    "## split the datasets\n",
    "import tensorflow as tf\n",
    "from keras.layers import Dense ,Flatten ,Dropout ,Conv2D ,MaxPooling2D\n",
    "from keras.models import Sequential\n"
   ]
  },
  {
   "cell_type": "code",
   "execution_count": null,
   "id": "c87379a6",
   "metadata": {
    "colab": {
     "base_uri": "https://localhost:8080/"
    },
    "id": "c87379a6",
    "outputId": "2da33574-867b-48b8-d7a9-cadc4b7cf31f"
   },
   "outputs": [
    {
     "name": "stdout",
     "output_type": "stream",
     "text": [
      "Model: \"sequential\"\n",
      "_________________________________________________________________\n",
      " Layer (type)                Output Shape              Param #   \n",
      "=================================================================\n",
      " conv2d (Conv2D)             (None, 26, 26, 32)        320       \n",
      "                                                                 \n",
      " max_pooling2d (MaxPooling2D  (None, 13, 13, 32)       0         \n",
      " )                                                               \n",
      "                                                                 \n",
      " conv2d_1 (Conv2D)           (None, 11, 11, 32)        9248      \n",
      "                                                                 \n",
      " max_pooling2d_1 (MaxPooling  (None, 5, 5, 32)         0         \n",
      " 2D)                                                             \n",
      "                                                                 \n",
      " flatten (Flatten)           (None, 800)               0         \n",
      "                                                                 \n",
      " dense (Dense)               (None, 32)                25632     \n",
      "                                                                 \n",
      " dropout (Dropout)           (None, 32)                0         \n",
      "                                                                 \n",
      " dense_1 (Dense)             (None, 10)                330       \n",
      "                                                                 \n",
      "=================================================================\n",
      "Total params: 35,530\n",
      "Trainable params: 35,530\n",
      "Non-trainable params: 0\n",
      "_________________________________________________________________\n"
     ]
    }
   ],
   "source": [
    "## Create layers\n",
    "model = Sequential()\n",
    "\n",
    "##first convolution and Maxpooling\n",
    "model.add(Conv2D(filters = 32 ,kernel_size=(3,3) , activation= \"relu\" ,input_shape=(28,28,1)))\n",
    "model.add(MaxPooling2D(pool_size =(2,2)))\n",
    "\n",
    "## 2nd COnvolution and pooling\n",
    "model.add(Conv2D(filters = 32 ,kernel_size=(3,3) , activation= \"relu\"))\n",
    "model.add(MaxPooling2D(pool_size =(2,2)))\n",
    "\n",
    "\n",
    "model.add(Flatten())\n",
    "\n",
    "## First hidden layer\n",
    "model.add(Dense(units = 32 ,activation = \"relu\" ))\n",
    "\n",
    "## Remove unnecessary nodes\n",
    "model.add(Dropout(rate = 0.2))\n",
    "\n",
    "## Defining the Output layers\n",
    "model.add(Dense(units = 10 ,activation = \"softmax\"))\n",
    "\n",
    "model.compile(loss = \"categorical_crossentropy\" ,optimizer = \"adam\" ,metrics = [\"accuracy\"])\n",
    "\n",
    "model.summary()\n"
   ]
  },
  {
   "cell_type": "code",
   "execution_count": null,
   "id": "03ddbcf1",
   "metadata": {
    "colab": {
     "base_uri": "https://localhost:8080/"
    },
    "id": "03ddbcf1",
    "outputId": "a6142cfa-38c9-4790-c144-acfc5d5fb38e"
   },
   "outputs": [
    {
     "name": "stdout",
     "output_type": "stream",
     "text": [
      "Epoch 1/20\n",
      "1500/1500 [==============================] - 18s 5ms/step - loss: 0.3037 - accuracy: 0.9053 - val_loss: 0.0880 - val_accuracy: 0.9734\n",
      "Epoch 2/20\n",
      "1500/1500 [==============================] - 7s 4ms/step - loss: 0.1189 - accuracy: 0.9640 - val_loss: 0.0775 - val_accuracy: 0.9778\n",
      "Epoch 3/20\n",
      "1500/1500 [==============================] - 6s 4ms/step - loss: 0.0877 - accuracy: 0.9736 - val_loss: 0.0551 - val_accuracy: 0.9837\n",
      "Epoch 4/20\n",
      "1500/1500 [==============================] - 7s 5ms/step - loss: 0.0729 - accuracy: 0.9779 - val_loss: 0.0512 - val_accuracy: 0.9856\n",
      "Epoch 5/20\n",
      "1500/1500 [==============================] - 6s 4ms/step - loss: 0.0607 - accuracy: 0.9810 - val_loss: 0.0455 - val_accuracy: 0.9860\n",
      "Epoch 6/20\n",
      "1500/1500 [==============================] - 7s 5ms/step - loss: 0.0537 - accuracy: 0.9826 - val_loss: 0.0460 - val_accuracy: 0.9871\n",
      "Epoch 7/20\n",
      "1500/1500 [==============================] - 6s 4ms/step - loss: 0.0448 - accuracy: 0.9861 - val_loss: 0.0468 - val_accuracy: 0.9874\n",
      "Epoch 8/20\n",
      "1500/1500 [==============================] - 8s 5ms/step - loss: 0.0411 - accuracy: 0.9869 - val_loss: 0.0453 - val_accuracy: 0.9879\n",
      "Epoch 9/20\n",
      "1500/1500 [==============================] - 7s 4ms/step - loss: 0.0375 - accuracy: 0.9877 - val_loss: 0.0416 - val_accuracy: 0.9880\n",
      "Epoch 10/20\n",
      "1500/1500 [==============================] - 8s 6ms/step - loss: 0.0345 - accuracy: 0.9888 - val_loss: 0.0420 - val_accuracy: 0.9898\n",
      "Epoch 11/20\n",
      "1500/1500 [==============================] - 7s 5ms/step - loss: 0.0309 - accuracy: 0.9900 - val_loss: 0.0444 - val_accuracy: 0.9885\n",
      "Epoch 12/20\n",
      "1500/1500 [==============================] - 7s 5ms/step - loss: 0.0297 - accuracy: 0.9899 - val_loss: 0.0458 - val_accuracy: 0.9889\n",
      "Epoch 13/20\n",
      "1500/1500 [==============================] - 7s 5ms/step - loss: 0.0255 - accuracy: 0.9915 - val_loss: 0.0436 - val_accuracy: 0.9891\n",
      "Epoch 14/20\n",
      "1500/1500 [==============================] - 6s 4ms/step - loss: 0.0243 - accuracy: 0.9916 - val_loss: 0.0451 - val_accuracy: 0.9899\n",
      "Epoch 15/20\n",
      "1500/1500 [==============================] - 7s 5ms/step - loss: 0.0229 - accuracy: 0.9923 - val_loss: 0.0481 - val_accuracy: 0.9881\n",
      "Epoch 16/20\n",
      "1500/1500 [==============================] - 6s 4ms/step - loss: 0.0216 - accuracy: 0.9927 - val_loss: 0.0498 - val_accuracy: 0.9891\n",
      "Epoch 17/20\n",
      "1500/1500 [==============================] - 7s 5ms/step - loss: 0.0205 - accuracy: 0.9927 - val_loss: 0.0484 - val_accuracy: 0.9882\n",
      "Epoch 18/20\n",
      "1500/1500 [==============================] - 7s 4ms/step - loss: 0.0199 - accuracy: 0.9933 - val_loss: 0.0427 - val_accuracy: 0.9906\n",
      "Epoch 19/20\n",
      "1500/1500 [==============================] - 7s 5ms/step - loss: 0.0184 - accuracy: 0.9939 - val_loss: 0.0445 - val_accuracy: 0.9899\n",
      "Epoch 20/20\n",
      "1500/1500 [==============================] - 6s 4ms/step - loss: 0.0158 - accuracy: 0.9947 - val_loss: 0.0522 - val_accuracy: 0.9896\n"
     ]
    }
   ],
   "source": [
    "## fit the model\n",
    "from keras.utils import to_categorical\n",
    "\n",
    "y_test_category = to_categorical(y_test)\n",
    "y_train_category = to_categorical(y_train)\n",
    "modelH = model.fit(x_train_normalized,y_train_category,batch_size = 32 ,epochs = 20 ,validation_split=0.2)"
   ]
  },
  {
   "cell_type": "markdown",
   "id": "2rsbFj-m03dI",
   "metadata": {
    "id": "2rsbFj-m03dI"
   },
   "source": [
    "## Model Evalution"
   ]
  },
  {
   "cell_type": "code",
   "execution_count": null,
   "id": "34d0c631",
   "metadata": {
    "colab": {
     "base_uri": "https://localhost:8080/"
    },
    "id": "34d0c631",
    "outputId": "d8e380e8-e19d-43e1-872d-0aa88c081b81"
   },
   "outputs": [
    {
     "name": "stdout",
     "output_type": "stream",
     "text": [
      "313/313 [==============================] - 1s 4ms/step - loss: 28.0788 - accuracy: 0.9758\n",
      "loss 28.078771591186523\n",
      "Accuracy 0.9757999777793884\n"
     ]
    }
   ],
   "source": [
    "## Basic accuracy of model\n",
    "modelScore= model.evaluate(x_test ,y_test_category)\n",
    "\n",
    "val_loss , val_acc =modelScore\n",
    "print(\"loss\",val_loss)\n",
    "print(\"Accuracy\",val_acc)"
   ]
  },
  {
   "cell_type": "code",
   "execution_count": null,
   "id": "987bcab8",
   "metadata": {
    "colab": {
     "base_uri": "https://localhost:8080/"
    },
    "id": "987bcab8",
    "outputId": "cb7ed088-6f51-42b7-8d72-52070fbe7e07"
   },
   "outputs": [
    {
     "name": "stdout",
     "output_type": "stream",
     "text": [
      "313/313 [==============================] - 1s 2ms/step\n",
      "              precision    recall  f1-score   support\n",
      "\n",
      "           0       0.99      0.99      0.99       980\n",
      "           1       1.00      0.96      0.98      1135\n",
      "           2       0.98      0.98      0.98      1032\n",
      "           3       0.98      0.99      0.98      1010\n",
      "           4       0.98      0.99      0.98       982\n",
      "           5       0.99      0.98      0.98       892\n",
      "           6       1.00      0.96      0.98       958\n",
      "           7       0.99      0.96      0.98      1028\n",
      "           8       0.87      1.00      0.93       974\n",
      "           9       0.99      0.95      0.97      1009\n",
      "\n",
      "    accuracy                           0.98     10000\n",
      "   macro avg       0.98      0.98      0.98     10000\n",
      "weighted avg       0.98      0.98      0.98     10000\n",
      "\n"
     ]
    }
   ],
   "source": [
    "## Predict the values\n",
    "y_preds = np.argmax(model.predict(x_test),axis = 1 )\n",
    "print(classification_report(y_test ,y_preds))"
   ]
  },
  {
   "cell_type": "code",
   "execution_count": 15,
   "id": "17e180f4",
   "metadata": {
    "colab": {
     "base_uri": "https://localhost:8080/",
     "height": 0
    },
    "id": "17e180f4",
    "outputId": "a07d7df1-2f19-4817-9d35-bd484fc4963e"
   },
   "outputs": [
    {
     "name": "stdout",
     "output_type": "stream",
     "text": [
      "[[ 971    1    0    0    1    0    1    1    5    0]\n",
      " [   0 1091    3    2    3    0    1    0   35    0]\n",
      " [   1    1 1015    3    2    0    0    2    8    0]\n",
      " [   0    0    1 1001    0    4    0    1    3    0]\n",
      " [   0    0    1    0  969    0    0    0    6    6]\n",
      " [   1    0    0    9    0  874    1    0    7    0]\n",
      " [   4    0    1    0    5    4  919    0   25    0]\n",
      " [   0    1   13    7    2    0    0  992    6    7]\n",
      " [   1    0    1    0    0    0    0    0  972    0]\n",
      " [   1    0    0    2    4    2    0    1   45  954]]\n"
     ]
    }
   ],
   "source": [
    "## Print the Confusion Matrix\n",
    "cm = confusion_matrix(y_test ,y_preds)\n",
    "print(cm)"
   ]
  },
  {
   "cell_type": "code",
   "execution_count": 17,
   "id": "cWR6SkSKzq1J",
   "metadata": {
    "colab": {
     "base_uri": "https://localhost:8080/",
     "height": 466
    },
    "id": "cWR6SkSKzq1J",
    "outputId": "51fd3af7-5a77-461c-edd3-9840350be4ea"
   },
   "outputs": [
    {
     "data": {
      "text/plain": [
       "<sklearn.metrics._plot.confusion_matrix.ConfusionMatrixDisplay at 0x7d07a96ba620>"
      ]
     },
     "execution_count": 17,
     "metadata": {},
     "output_type": "execute_result"
    },
    {
     "data": {
      "image/png": "[encoded data removed]",
      "text/plain": [
       "<Figure size 640x480 with 2 Axes>"
      ]
     },
     "metadata": {},
     "output_type": "display_data"
    }
   ],
   "source": [
    "## Display the confusion matrix\n",
    "cd = ConfusionMatrixDisplay(cm)\n",
    "cd.plot()"
   ]
  },
  {
   "cell_type": "code",
   "execution_count": null,
   "id": "aa9c4ff3",
   "metadata": {
    "colab": {
     "base_uri": "https://localhost:8080/",
     "height": 507
    },
    "id": "aa9c4ff3",
    "outputId": "4d023045-c851-4d01-fce8-e76b8153acd3"
   },
   "outputs": [
    {
     "data": {
      "image/png": "[encoded data removed]",
      "text/plain": [
       "<Figure size 800x500 with 1 Axes>"
      ]
     },
     "metadata": {},
     "output_type": "display_data"
    }
   ],
   "source": [
    "## Evaluate the graph of epochs vs loss and Accuracy\n",
    "\n",
    "import matplotlib.pyplot as plt\n",
    "import seaborn as sns\n",
    "sns.set_style(\"darkgrid\")\n",
    "\n",
    "plt.figure(figsize=(8,5))\n",
    "plt.plot(modelH.epoch, modelH.history[\"loss\"], color=\"red\", label=\"Loss\")\n",
    "plt.plot(modelH.epoch, modelH.history[\"accuracy\"], color=\"green\", label=\"Accuracy\")\n",
    "\n",
    "plt.title(\"Model Accuracy and Loss\", fontsize=18)\n",
    "plt.xlabel(\"Epoch\", fontsize=14)\n",
    "plt.ylabel(\"Value\", fontsize=14)\n",
    "plt.legend(loc=\"best\")\n",
    "\n",
    "plt.xticks(fontsize=12)\n",
    "plt.yticks(fontsize=12)\n",
    "\n",
    "plt.grid(True)\n",
    "plt.tight_layout()\n",
    "plt.show()\n",
    "\n"
   ]
  },
  {
   "cell_type": "code",
   "execution_count": null,
   "id": "vjEr95ESy4OW",
   "metadata": {
    "id": "vjEr95ESy4OW"
   },
   "outputs": [],
   "source": []
  },
  {
   "cell_type": "code",
   "execution_count": null,
   "id": "e644ffe8",
   "metadata": {
    "id": "e644ffe8"
   },
   "outputs": [],
   "source": []
  }
 ],
 "metadata": {
  "accelerator": "GPU",
  "colab": {
   "gpuType": "T4",
   "provenance": []
  },
  "kernelspec": {
   "display_name": "Python 3 (ipykernel)",
   "language": "python",
   "name": "python3"
  },
  "language_info": {
   "codemirror_mode": {
    "name": "ipython",
    "version": 3
   },
   "file_extension": ".py",
   "mimetype": "text/x-python",
   "name": "python",
   "nbconvert_exporter": "python",
   "pygments_lexer": "ipython3",
   "version": "3.10.9"
  }
 },
 "nbformat": 4,
 "nbformat_minor": 5
}
